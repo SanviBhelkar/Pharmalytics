{
 "cells": [
  {
   "cell_type": "code",
   "execution_count": 1,
   "id": "08e4e08a",
   "metadata": {
    "_cell_guid": "b1076dfc-b9ad-4769-8c92-a6c4dae69d19",
    "_uuid": "8f2839f25d086af736a60e9eeb907d3b93b6e0e5",
    "execution": {
     "iopub.execute_input": "2024-04-11T16:58:04.654676Z",
     "iopub.status.busy": "2024-04-11T16:58:04.654221Z",
     "iopub.status.idle": "2024-04-11T16:58:05.524751Z",
     "shell.execute_reply": "2024-04-11T16:58:05.523197Z"
    },
    "papermill": {
     "duration": 0.884395,
     "end_time": "2024-04-11T16:58:05.527213",
     "exception": false,
     "start_time": "2024-04-11T16:58:04.642818",
     "status": "completed"
    },
    "tags": []
   },
   "outputs": [
    {
     "name": "stdout",
     "output_type": "stream",
     "text": [
      "/kaggle/input/pharma-sales-data/salesdaily.csv\n",
      "/kaggle/input/pharma-sales-data/salesweekly.csv\n",
      "/kaggle/input/pharma-sales-data/salesmonthly.csv\n",
      "/kaggle/input/pharma-sales-data/saleshourly.csv\n"
     ]
    }
   ],
   "source": [
    "# This Python 3 environment comes with many helpful analytics libraries installed\n",
    "# It is defined by the kaggle/python Docker image: https://github.com/kaggle/docker-python\n",
    "# For example, here's several helpful packages to load\n",
    "\n",
    "import numpy as np # linear algebra\n",
    "import pandas as pd # data processing, CSV file I/O (e.g. pd.read_csv)\n",
    "\n",
    "# Input data files are available in the read-only \"../input/\" directory\n",
    "# For example, running this (by clicking run or pressing Shift+Enter) will list all files under the input directory\n",
    "\n",
    "import os\n",
    "for dirname, _, filenames in os.walk('/kaggle/input'):\n",
    "    for filename in filenames:\n",
    "        print(os.path.join(dirname, filename))\n",
    "\n",
    "# You can write up to 20GB to the current directory (/kaggle/working/) that gets preserved as output when you create a version using \"Save & Run All\" \n",
    "# You can also write temporary files to /kaggle/temp/, but they won't be saved outside of the current session"
   ]
  },
  {
   "cell_type": "markdown",
   "id": "c9a3242e",
   "metadata": {
    "papermill": {
     "duration": 0.009621,
     "end_time": "2024-04-11T16:58:05.551106",
     "exception": false,
     "start_time": "2024-04-11T16:58:05.541485",
     "status": "completed"
    },
    "tags": []
   },
   "source": [
    "## **Import Libraries**"
   ]
  },
  {
   "cell_type": "code",
   "execution_count": 2,
   "id": "6811e678",
   "metadata": {
    "execution": {
     "iopub.execute_input": "2024-04-11T16:58:05.573454Z",
     "iopub.status.busy": "2024-04-11T16:58:05.572329Z",
     "iopub.status.idle": "2024-04-11T16:58:20.382995Z",
     "shell.execute_reply": "2024-04-11T16:58:20.381775Z"
    },
    "papermill": {
     "duration": 14.825609,
     "end_time": "2024-04-11T16:58:20.386237",
     "exception": false,
     "start_time": "2024-04-11T16:58:05.560628",
     "status": "completed"
    },
    "tags": []
   },
   "outputs": [
    {
     "name": "stderr",
     "output_type": "stream",
     "text": [
      "2024-04-11 16:58:09.266664: E external/local_xla/xla/stream_executor/cuda/cuda_dnn.cc:9261] Unable to register cuDNN factory: Attempting to register factory for plugin cuDNN when one has already been registered\n",
      "2024-04-11 16:58:09.266834: E external/local_xla/xla/stream_executor/cuda/cuda_fft.cc:607] Unable to register cuFFT factory: Attempting to register factory for plugin cuFFT when one has already been registered\n",
      "2024-04-11 16:58:09.410591: E external/local_xla/xla/stream_executor/cuda/cuda_blas.cc:1515] Unable to register cuBLAS factory: Attempting to register factory for plugin cuBLAS when one has already been registered\n"
     ]
    }
   ],
   "source": [
    "import numpy as np \n",
    "import pandas as pd \n",
    "import matplotlib.pyplot as plt\n",
    "import seaborn as sns\n",
    "sns.set()\n",
    "\n",
    "# from keras.models import Sequential\n",
    "# from keras.layers import Conv2D, Dropout, BatchNormalization, Flatten, Dense, MaxPooling2D\n",
    "# from keras.callbacks import EarlyStopping, ReduceLROnPlateau, ModelCheckpoint, TensorBoard\n",
    "\n",
    "from sklearn.preprocessing import MinMaxScaler, StandardScaler\n",
    "from sklearn.metrics import mean_absolute_error, confusion_matrix, classification_report\n",
    "from sklearn.metrics import mean_squared_error, roc_curve, auc, r2_score, roc_auc_score\n",
    "from sklearn.model_selection import train_test_split\n",
    "\n",
    "from datetime import datetime\n",
    "from tensorflow.keras.optimizers import Adam\n",
    "from tensorflow.keras.utils import to_categorical\n",
    "from tensorflow.keras.models import Sequential\n",
    "from tensorflow.keras.metrics import RootMeanSquaredError\n",
    "from tensorflow.keras.layers import LSTM, Dense, Dropout, BatchNormalization\n",
    "from tensorflow.keras.callbacks import EarlyStopping, ReduceLROnPlateau\n",
    "\n",
    "import warnings\n",
    "warnings.filterwarnings('ignore')"
   ]
  },
  {
   "cell_type": "code",
   "execution_count": 3,
   "id": "3b894f28",
   "metadata": {
    "execution": {
     "iopub.execute_input": "2024-04-11T16:58:20.409080Z",
     "iopub.status.busy": "2024-04-11T16:58:20.407877Z",
     "iopub.status.idle": "2024-04-11T16:58:20.551001Z",
     "shell.execute_reply": "2024-04-11T16:58:20.549538Z"
    },
    "papermill": {
     "duration": 0.158075,
     "end_time": "2024-04-11T16:58:20.554046",
     "exception": false,
     "start_time": "2024-04-11T16:58:20.395971",
     "status": "completed"
    },
    "tags": []
   },
   "outputs": [],
   "source": [
    "salesdaily=pd.read_csv('/kaggle/input/pharma-sales-data/salesdaily.csv')\n",
    "saleshourly=pd.read_csv('/kaggle/input/pharma-sales-data/saleshourly.csv')\n",
    "salesmonthly=pd.read_csv('/kaggle/input/pharma-sales-data/salesmonthly.csv')\n",
    "salesweekly=pd.read_csv('/kaggle/input/pharma-sales-data/salesweekly.csv')"
   ]
  },
  {
   "cell_type": "code",
   "execution_count": 4,
   "id": "3be70d75",
   "metadata": {
    "execution": {
     "iopub.execute_input": "2024-04-11T16:58:20.576761Z",
     "iopub.status.busy": "2024-04-11T16:58:20.576059Z",
     "iopub.status.idle": "2024-04-11T16:58:20.603991Z",
     "shell.execute_reply": "2024-04-11T16:58:20.602592Z"
    },
    "papermill": {
     "duration": 0.042366,
     "end_time": "2024-04-11T16:58:20.606401",
     "exception": false,
     "start_time": "2024-04-11T16:58:20.564035",
     "status": "completed"
    },
    "tags": []
   },
   "outputs": [
    {
     "data": {
      "text/html": [
       "<div>\n",
       "<style scoped>\n",
       "    .dataframe tbody tr th:only-of-type {\n",
       "        vertical-align: middle;\n",
       "    }\n",
       "\n",
       "    .dataframe tbody tr th {\n",
       "        vertical-align: top;\n",
       "    }\n",
       "\n",
       "    .dataframe thead th {\n",
       "        text-align: right;\n",
       "    }\n",
       "</style>\n",
       "<table border=\"1\" class=\"dataframe\">\n",
       "  <thead>\n",
       "    <tr style=\"text-align: right;\">\n",
       "      <th></th>\n",
       "      <th>datum</th>\n",
       "      <th>M01AB</th>\n",
       "      <th>M01AE</th>\n",
       "      <th>N02BA</th>\n",
       "      <th>N02BE</th>\n",
       "      <th>N05B</th>\n",
       "      <th>N05C</th>\n",
       "      <th>R03</th>\n",
       "      <th>R06</th>\n",
       "      <th>Year</th>\n",
       "      <th>Month</th>\n",
       "      <th>Hour</th>\n",
       "      <th>Weekday Name</th>\n",
       "    </tr>\n",
       "  </thead>\n",
       "  <tbody>\n",
       "    <tr>\n",
       "      <th>0</th>\n",
       "      <td>1/2/2014</td>\n",
       "      <td>0.0</td>\n",
       "      <td>3.67</td>\n",
       "      <td>3.4</td>\n",
       "      <td>32.40</td>\n",
       "      <td>7.0</td>\n",
       "      <td>0.0</td>\n",
       "      <td>0.0</td>\n",
       "      <td>2.0</td>\n",
       "      <td>2014</td>\n",
       "      <td>1</td>\n",
       "      <td>248</td>\n",
       "      <td>Thursday</td>\n",
       "    </tr>\n",
       "    <tr>\n",
       "      <th>1</th>\n",
       "      <td>1/3/2014</td>\n",
       "      <td>8.0</td>\n",
       "      <td>4.00</td>\n",
       "      <td>4.4</td>\n",
       "      <td>50.60</td>\n",
       "      <td>16.0</td>\n",
       "      <td>0.0</td>\n",
       "      <td>20.0</td>\n",
       "      <td>4.0</td>\n",
       "      <td>2014</td>\n",
       "      <td>1</td>\n",
       "      <td>276</td>\n",
       "      <td>Friday</td>\n",
       "    </tr>\n",
       "    <tr>\n",
       "      <th>2</th>\n",
       "      <td>1/4/2014</td>\n",
       "      <td>2.0</td>\n",
       "      <td>1.00</td>\n",
       "      <td>6.5</td>\n",
       "      <td>61.85</td>\n",
       "      <td>10.0</td>\n",
       "      <td>0.0</td>\n",
       "      <td>9.0</td>\n",
       "      <td>1.0</td>\n",
       "      <td>2014</td>\n",
       "      <td>1</td>\n",
       "      <td>276</td>\n",
       "      <td>Saturday</td>\n",
       "    </tr>\n",
       "    <tr>\n",
       "      <th>3</th>\n",
       "      <td>1/5/2014</td>\n",
       "      <td>4.0</td>\n",
       "      <td>3.00</td>\n",
       "      <td>7.0</td>\n",
       "      <td>41.10</td>\n",
       "      <td>8.0</td>\n",
       "      <td>0.0</td>\n",
       "      <td>3.0</td>\n",
       "      <td>0.0</td>\n",
       "      <td>2014</td>\n",
       "      <td>1</td>\n",
       "      <td>276</td>\n",
       "      <td>Sunday</td>\n",
       "    </tr>\n",
       "    <tr>\n",
       "      <th>4</th>\n",
       "      <td>1/6/2014</td>\n",
       "      <td>5.0</td>\n",
       "      <td>1.00</td>\n",
       "      <td>4.5</td>\n",
       "      <td>21.70</td>\n",
       "      <td>16.0</td>\n",
       "      <td>2.0</td>\n",
       "      <td>6.0</td>\n",
       "      <td>2.0</td>\n",
       "      <td>2014</td>\n",
       "      <td>1</td>\n",
       "      <td>276</td>\n",
       "      <td>Monday</td>\n",
       "    </tr>\n",
       "  </tbody>\n",
       "</table>\n",
       "</div>"
      ],
      "text/plain": [
       "      datum  M01AB  M01AE  N02BA  N02BE  N05B  N05C   R03  R06  Year  Month  \\\n",
       "0  1/2/2014    0.0   3.67    3.4  32.40   7.0   0.0   0.0  2.0  2014      1   \n",
       "1  1/3/2014    8.0   4.00    4.4  50.60  16.0   0.0  20.0  4.0  2014      1   \n",
       "2  1/4/2014    2.0   1.00    6.5  61.85  10.0   0.0   9.0  1.0  2014      1   \n",
       "3  1/5/2014    4.0   3.00    7.0  41.10   8.0   0.0   3.0  0.0  2014      1   \n",
       "4  1/6/2014    5.0   1.00    4.5  21.70  16.0   2.0   6.0  2.0  2014      1   \n",
       "\n",
       "   Hour Weekday Name  \n",
       "0   248     Thursday  \n",
       "1   276       Friday  \n",
       "2   276     Saturday  \n",
       "3   276       Sunday  \n",
       "4   276       Monday  "
      ]
     },
     "execution_count": 4,
     "metadata": {},
     "output_type": "execute_result"
    }
   ],
   "source": [
    "salesdaily.head()"
   ]
  },
  {
   "cell_type": "code",
   "execution_count": 5,
   "id": "7725bb88",
   "metadata": {
    "execution": {
     "iopub.execute_input": "2024-04-11T16:58:20.628805Z",
     "iopub.status.busy": "2024-04-11T16:58:20.628371Z",
     "iopub.status.idle": "2024-04-11T16:58:20.646978Z",
     "shell.execute_reply": "2024-04-11T16:58:20.646141Z"
    },
    "papermill": {
     "duration": 0.032684,
     "end_time": "2024-04-11T16:58:20.649117",
     "exception": false,
     "start_time": "2024-04-11T16:58:20.616433",
     "status": "completed"
    },
    "tags": []
   },
   "outputs": [
    {
     "data": {
      "text/html": [
       "<div>\n",
       "<style scoped>\n",
       "    .dataframe tbody tr th:only-of-type {\n",
       "        vertical-align: middle;\n",
       "    }\n",
       "\n",
       "    .dataframe tbody tr th {\n",
       "        vertical-align: top;\n",
       "    }\n",
       "\n",
       "    .dataframe thead th {\n",
       "        text-align: right;\n",
       "    }\n",
       "</style>\n",
       "<table border=\"1\" class=\"dataframe\">\n",
       "  <thead>\n",
       "    <tr style=\"text-align: right;\">\n",
       "      <th></th>\n",
       "      <th>datum</th>\n",
       "      <th>M01AB</th>\n",
       "      <th>M01AE</th>\n",
       "      <th>N02BA</th>\n",
       "      <th>N02BE</th>\n",
       "      <th>N05B</th>\n",
       "      <th>N05C</th>\n",
       "      <th>R03</th>\n",
       "      <th>R06</th>\n",
       "      <th>Year</th>\n",
       "      <th>Month</th>\n",
       "      <th>Hour</th>\n",
       "      <th>Weekday Name</th>\n",
       "    </tr>\n",
       "  </thead>\n",
       "  <tbody>\n",
       "    <tr>\n",
       "      <th>0</th>\n",
       "      <td>1/2/2014 8:00</td>\n",
       "      <td>0.0</td>\n",
       "      <td>0.67</td>\n",
       "      <td>0.4</td>\n",
       "      <td>2.0</td>\n",
       "      <td>0.0</td>\n",
       "      <td>0.0</td>\n",
       "      <td>0.0</td>\n",
       "      <td>1.0</td>\n",
       "      <td>2014</td>\n",
       "      <td>1</td>\n",
       "      <td>8</td>\n",
       "      <td>Thursday</td>\n",
       "    </tr>\n",
       "    <tr>\n",
       "      <th>1</th>\n",
       "      <td>1/2/2014 9:00</td>\n",
       "      <td>0.0</td>\n",
       "      <td>0.00</td>\n",
       "      <td>1.0</td>\n",
       "      <td>0.0</td>\n",
       "      <td>2.0</td>\n",
       "      <td>0.0</td>\n",
       "      <td>0.0</td>\n",
       "      <td>0.0</td>\n",
       "      <td>2014</td>\n",
       "      <td>1</td>\n",
       "      <td>9</td>\n",
       "      <td>Thursday</td>\n",
       "    </tr>\n",
       "    <tr>\n",
       "      <th>2</th>\n",
       "      <td>1/2/2014 10:00</td>\n",
       "      <td>0.0</td>\n",
       "      <td>0.00</td>\n",
       "      <td>0.0</td>\n",
       "      <td>3.0</td>\n",
       "      <td>2.0</td>\n",
       "      <td>0.0</td>\n",
       "      <td>0.0</td>\n",
       "      <td>0.0</td>\n",
       "      <td>2014</td>\n",
       "      <td>1</td>\n",
       "      <td>10</td>\n",
       "      <td>Thursday</td>\n",
       "    </tr>\n",
       "    <tr>\n",
       "      <th>3</th>\n",
       "      <td>1/2/2014 11:00</td>\n",
       "      <td>0.0</td>\n",
       "      <td>0.00</td>\n",
       "      <td>0.0</td>\n",
       "      <td>2.0</td>\n",
       "      <td>1.0</td>\n",
       "      <td>0.0</td>\n",
       "      <td>0.0</td>\n",
       "      <td>0.0</td>\n",
       "      <td>2014</td>\n",
       "      <td>1</td>\n",
       "      <td>11</td>\n",
       "      <td>Thursday</td>\n",
       "    </tr>\n",
       "    <tr>\n",
       "      <th>4</th>\n",
       "      <td>1/2/2014 12:00</td>\n",
       "      <td>0.0</td>\n",
       "      <td>2.00</td>\n",
       "      <td>0.0</td>\n",
       "      <td>5.0</td>\n",
       "      <td>2.0</td>\n",
       "      <td>0.0</td>\n",
       "      <td>0.0</td>\n",
       "      <td>0.0</td>\n",
       "      <td>2014</td>\n",
       "      <td>1</td>\n",
       "      <td>12</td>\n",
       "      <td>Thursday</td>\n",
       "    </tr>\n",
       "  </tbody>\n",
       "</table>\n",
       "</div>"
      ],
      "text/plain": [
       "            datum  M01AB  M01AE  N02BA  N02BE  N05B  N05C  R03  R06  Year  \\\n",
       "0   1/2/2014 8:00    0.0   0.67    0.4    2.0   0.0   0.0  0.0  1.0  2014   \n",
       "1   1/2/2014 9:00    0.0   0.00    1.0    0.0   2.0   0.0  0.0  0.0  2014   \n",
       "2  1/2/2014 10:00    0.0   0.00    0.0    3.0   2.0   0.0  0.0  0.0  2014   \n",
       "3  1/2/2014 11:00    0.0   0.00    0.0    2.0   1.0   0.0  0.0  0.0  2014   \n",
       "4  1/2/2014 12:00    0.0   2.00    0.0    5.0   2.0   0.0  0.0  0.0  2014   \n",
       "\n",
       "   Month  Hour Weekday Name  \n",
       "0      1     8     Thursday  \n",
       "1      1     9     Thursday  \n",
       "2      1    10     Thursday  \n",
       "3      1    11     Thursday  \n",
       "4      1    12     Thursday  "
      ]
     },
     "execution_count": 5,
     "metadata": {},
     "output_type": "execute_result"
    }
   ],
   "source": [
    "saleshourly.head()"
   ]
  },
  {
   "cell_type": "code",
   "execution_count": 6,
   "id": "30676cac",
   "metadata": {
    "execution": {
     "iopub.execute_input": "2024-04-11T16:58:20.671380Z",
     "iopub.status.busy": "2024-04-11T16:58:20.670721Z",
     "iopub.status.idle": "2024-04-11T16:58:20.689196Z",
     "shell.execute_reply": "2024-04-11T16:58:20.687768Z"
    },
    "papermill": {
     "duration": 0.032167,
     "end_time": "2024-04-11T16:58:20.691447",
     "exception": false,
     "start_time": "2024-04-11T16:58:20.659280",
     "status": "completed"
    },
    "tags": []
   },
   "outputs": [
    {
     "data": {
      "text/html": [
       "<div>\n",
       "<style scoped>\n",
       "    .dataframe tbody tr th:only-of-type {\n",
       "        vertical-align: middle;\n",
       "    }\n",
       "\n",
       "    .dataframe tbody tr th {\n",
       "        vertical-align: top;\n",
       "    }\n",
       "\n",
       "    .dataframe thead th {\n",
       "        text-align: right;\n",
       "    }\n",
       "</style>\n",
       "<table border=\"1\" class=\"dataframe\">\n",
       "  <thead>\n",
       "    <tr style=\"text-align: right;\">\n",
       "      <th></th>\n",
       "      <th>datum</th>\n",
       "      <th>M01AB</th>\n",
       "      <th>M01AE</th>\n",
       "      <th>N02BA</th>\n",
       "      <th>N02BE</th>\n",
       "      <th>N05B</th>\n",
       "      <th>N05C</th>\n",
       "      <th>R03</th>\n",
       "      <th>R06</th>\n",
       "    </tr>\n",
       "  </thead>\n",
       "  <tbody>\n",
       "    <tr>\n",
       "      <th>0</th>\n",
       "      <td>1/5/2014</td>\n",
       "      <td>14.00</td>\n",
       "      <td>11.67</td>\n",
       "      <td>21.3</td>\n",
       "      <td>185.95</td>\n",
       "      <td>41.0</td>\n",
       "      <td>0.0</td>\n",
       "      <td>32.0</td>\n",
       "      <td>7.0</td>\n",
       "    </tr>\n",
       "    <tr>\n",
       "      <th>1</th>\n",
       "      <td>1/12/2014</td>\n",
       "      <td>29.33</td>\n",
       "      <td>12.68</td>\n",
       "      <td>37.9</td>\n",
       "      <td>190.70</td>\n",
       "      <td>88.0</td>\n",
       "      <td>5.0</td>\n",
       "      <td>21.0</td>\n",
       "      <td>7.2</td>\n",
       "    </tr>\n",
       "    <tr>\n",
       "      <th>2</th>\n",
       "      <td>1/19/2014</td>\n",
       "      <td>30.67</td>\n",
       "      <td>26.34</td>\n",
       "      <td>45.9</td>\n",
       "      <td>218.40</td>\n",
       "      <td>80.0</td>\n",
       "      <td>8.0</td>\n",
       "      <td>29.0</td>\n",
       "      <td>12.0</td>\n",
       "    </tr>\n",
       "    <tr>\n",
       "      <th>3</th>\n",
       "      <td>1/26/2014</td>\n",
       "      <td>34.00</td>\n",
       "      <td>32.37</td>\n",
       "      <td>31.5</td>\n",
       "      <td>179.60</td>\n",
       "      <td>80.0</td>\n",
       "      <td>8.0</td>\n",
       "      <td>23.0</td>\n",
       "      <td>10.0</td>\n",
       "    </tr>\n",
       "    <tr>\n",
       "      <th>4</th>\n",
       "      <td>2/2/2014</td>\n",
       "      <td>31.02</td>\n",
       "      <td>23.35</td>\n",
       "      <td>20.7</td>\n",
       "      <td>159.88</td>\n",
       "      <td>84.0</td>\n",
       "      <td>12.0</td>\n",
       "      <td>29.0</td>\n",
       "      <td>12.0</td>\n",
       "    </tr>\n",
       "  </tbody>\n",
       "</table>\n",
       "</div>"
      ],
      "text/plain": [
       "       datum  M01AB  M01AE  N02BA   N02BE  N05B  N05C   R03   R06\n",
       "0   1/5/2014  14.00  11.67   21.3  185.95  41.0   0.0  32.0   7.0\n",
       "1  1/12/2014  29.33  12.68   37.9  190.70  88.0   5.0  21.0   7.2\n",
       "2  1/19/2014  30.67  26.34   45.9  218.40  80.0   8.0  29.0  12.0\n",
       "3  1/26/2014  34.00  32.37   31.5  179.60  80.0   8.0  23.0  10.0\n",
       "4   2/2/2014  31.02  23.35   20.7  159.88  84.0  12.0  29.0  12.0"
      ]
     },
     "execution_count": 6,
     "metadata": {},
     "output_type": "execute_result"
    }
   ],
   "source": [
    "salesweekly.head()"
   ]
  },
  {
   "cell_type": "code",
   "execution_count": 7,
   "id": "1c6add82",
   "metadata": {
    "execution": {
     "iopub.execute_input": "2024-04-11T16:58:20.714160Z",
     "iopub.status.busy": "2024-04-11T16:58:20.713711Z",
     "iopub.status.idle": "2024-04-11T16:58:20.731372Z",
     "shell.execute_reply": "2024-04-11T16:58:20.730217Z"
    },
    "papermill": {
     "duration": 0.031472,
     "end_time": "2024-04-11T16:58:20.733583",
     "exception": false,
     "start_time": "2024-04-11T16:58:20.702111",
     "status": "completed"
    },
    "tags": []
   },
   "outputs": [
    {
     "data": {
      "text/html": [
       "<div>\n",
       "<style scoped>\n",
       "    .dataframe tbody tr th:only-of-type {\n",
       "        vertical-align: middle;\n",
       "    }\n",
       "\n",
       "    .dataframe tbody tr th {\n",
       "        vertical-align: top;\n",
       "    }\n",
       "\n",
       "    .dataframe thead th {\n",
       "        text-align: right;\n",
       "    }\n",
       "</style>\n",
       "<table border=\"1\" class=\"dataframe\">\n",
       "  <thead>\n",
       "    <tr style=\"text-align: right;\">\n",
       "      <th></th>\n",
       "      <th>datum</th>\n",
       "      <th>M01AB</th>\n",
       "      <th>M01AE</th>\n",
       "      <th>N02BA</th>\n",
       "      <th>N02BE</th>\n",
       "      <th>N05B</th>\n",
       "      <th>N05C</th>\n",
       "      <th>R03</th>\n",
       "      <th>R06</th>\n",
       "    </tr>\n",
       "  </thead>\n",
       "  <tbody>\n",
       "    <tr>\n",
       "      <th>0</th>\n",
       "      <td>2014-01-31</td>\n",
       "      <td>127.69</td>\n",
       "      <td>99.090</td>\n",
       "      <td>152.100</td>\n",
       "      <td>878.030</td>\n",
       "      <td>354.0</td>\n",
       "      <td>50.0</td>\n",
       "      <td>112.0</td>\n",
       "      <td>48.2</td>\n",
       "    </tr>\n",
       "    <tr>\n",
       "      <th>1</th>\n",
       "      <td>2014-02-28</td>\n",
       "      <td>133.32</td>\n",
       "      <td>126.050</td>\n",
       "      <td>177.000</td>\n",
       "      <td>1001.900</td>\n",
       "      <td>347.0</td>\n",
       "      <td>31.0</td>\n",
       "      <td>122.0</td>\n",
       "      <td>36.2</td>\n",
       "    </tr>\n",
       "    <tr>\n",
       "      <th>2</th>\n",
       "      <td>2014-03-31</td>\n",
       "      <td>137.44</td>\n",
       "      <td>92.950</td>\n",
       "      <td>147.655</td>\n",
       "      <td>779.275</td>\n",
       "      <td>232.0</td>\n",
       "      <td>20.0</td>\n",
       "      <td>112.0</td>\n",
       "      <td>85.4</td>\n",
       "    </tr>\n",
       "    <tr>\n",
       "      <th>3</th>\n",
       "      <td>2014-04-30</td>\n",
       "      <td>113.10</td>\n",
       "      <td>89.475</td>\n",
       "      <td>130.900</td>\n",
       "      <td>698.500</td>\n",
       "      <td>209.0</td>\n",
       "      <td>18.0</td>\n",
       "      <td>97.0</td>\n",
       "      <td>73.7</td>\n",
       "    </tr>\n",
       "    <tr>\n",
       "      <th>4</th>\n",
       "      <td>2014-05-31</td>\n",
       "      <td>101.79</td>\n",
       "      <td>119.933</td>\n",
       "      <td>132.100</td>\n",
       "      <td>628.780</td>\n",
       "      <td>270.0</td>\n",
       "      <td>23.0</td>\n",
       "      <td>107.0</td>\n",
       "      <td>123.7</td>\n",
       "    </tr>\n",
       "  </tbody>\n",
       "</table>\n",
       "</div>"
      ],
      "text/plain": [
       "        datum   M01AB    M01AE    N02BA     N02BE   N05B  N05C    R03    R06\n",
       "0  2014-01-31  127.69   99.090  152.100   878.030  354.0  50.0  112.0   48.2\n",
       "1  2014-02-28  133.32  126.050  177.000  1001.900  347.0  31.0  122.0   36.2\n",
       "2  2014-03-31  137.44   92.950  147.655   779.275  232.0  20.0  112.0   85.4\n",
       "3  2014-04-30  113.10   89.475  130.900   698.500  209.0  18.0   97.0   73.7\n",
       "4  2014-05-31  101.79  119.933  132.100   628.780  270.0  23.0  107.0  123.7"
      ]
     },
     "execution_count": 7,
     "metadata": {},
     "output_type": "execute_result"
    }
   ],
   "source": [
    "salesmonthly.head()"
   ]
  },
  {
   "cell_type": "code",
   "execution_count": 8,
   "id": "1699bb88",
   "metadata": {
    "execution": {
     "iopub.execute_input": "2024-04-11T16:58:20.758086Z",
     "iopub.status.busy": "2024-04-11T16:58:20.757031Z",
     "iopub.status.idle": "2024-04-11T16:58:23.384802Z",
     "shell.execute_reply": "2024-04-11T16:58:23.383838Z"
    },
    "papermill": {
     "duration": 2.642926,
     "end_time": "2024-04-11T16:58:23.387269",
     "exception": false,
     "start_time": "2024-04-11T16:58:20.744343",
     "status": "completed"
    },
    "tags": []
   },
   "outputs": [
    {
     "data": {
      "image/png": "[encoded data removed]",
      "text/plain": [
       "<Figure size 1000x3000 with 8 Axes>"
      ]
     },
     "metadata": {},
     "output_type": "display_data"
    }
   ],
   "source": [
    "fig, axes = plt.subplots(8, 1, figsize=(10, 30), sharex=True)\n",
    "for name, ax in zip(['M01AB','M01AE','N02BA','N02BE', 'N05B','N05C','R03','R06'], axes):\n",
    "    sns.boxplot(data=salesdaily, x='Month', y=name, ax=ax)"
   ]
  },
  {
   "cell_type": "markdown",
   "id": "93c2afb2",
   "metadata": {
    "papermill": {
     "duration": 0.012682,
     "end_time": "2024-04-11T16:58:23.413268",
     "exception": false,
     "start_time": "2024-04-11T16:58:23.400586",
     "status": "completed"
    },
    "tags": []
   },
   "source": [
    "## **Load Data**"
   ]
  },
  {
   "cell_type": "code",
   "execution_count": 9,
   "id": "d6441520",
   "metadata": {
    "execution": {
     "iopub.execute_input": "2024-04-11T16:58:23.441317Z",
     "iopub.status.busy": "2024-04-11T16:58:23.440328Z",
     "iopub.status.idle": "2024-04-11T16:58:23.453886Z",
     "shell.execute_reply": "2024-04-11T16:58:23.452989Z"
    },
    "papermill": {
     "duration": 0.030112,
     "end_time": "2024-04-11T16:58:23.456542",
     "exception": false,
     "start_time": "2024-04-11T16:58:23.426430",
     "status": "completed"
    },
    "tags": []
   },
   "outputs": [],
   "source": [
    "data = pd.read_csv('/kaggle/input/pharma-sales-data/salesmonthly.csv')"
   ]
  },
  {
   "cell_type": "markdown",
   "id": "7b83b418",
   "metadata": {
    "papermill": {
     "duration": 0.011864,
     "end_time": "2024-04-11T16:58:23.481259",
     "exception": false,
     "start_time": "2024-04-11T16:58:23.469395",
     "status": "completed"
    },
    "tags": []
   },
   "source": [
    "## **Data Preprocessing**"
   ]
  },
  {
   "cell_type": "code",
   "execution_count": 10,
   "id": "56e7e847",
   "metadata": {
    "execution": {
     "iopub.execute_input": "2024-04-11T16:58:23.507916Z",
     "iopub.status.busy": "2024-04-11T16:58:23.507127Z",
     "iopub.status.idle": "2024-04-11T16:58:23.513658Z",
     "shell.execute_reply": "2024-04-11T16:58:23.512818Z"
    },
    "papermill": {
     "duration": 0.022374,
     "end_time": "2024-04-11T16:58:23.515904",
     "exception": false,
     "start_time": "2024-04-11T16:58:23.493530",
     "status": "completed"
    },
    "tags": []
   },
   "outputs": [
    {
     "name": "stdout",
     "output_type": "stream",
     "text": [
      "Missing Values:\n",
      " datum    0\n",
      "M01AB    0\n",
      "M01AE    0\n",
      "N02BA    0\n",
      "N02BE    0\n",
      "N05B     0\n",
      "N05C     0\n",
      "R03      0\n",
      "R06      0\n",
      "dtype: int64\n"
     ]
    }
   ],
   "source": [
    "# Check for missing values\n",
    "missing_values = data.isnull().sum()\n",
    "print(\"Missing Values:\\n\", missing_values)"
   ]
  },
  {
   "cell_type": "code",
   "execution_count": 11,
   "id": "068f6605",
   "metadata": {
    "execution": {
     "iopub.execute_input": "2024-04-11T16:58:23.544046Z",
     "iopub.status.busy": "2024-04-11T16:58:23.543244Z",
     "iopub.status.idle": "2024-04-11T16:58:23.562522Z",
     "shell.execute_reply": "2024-04-11T16:58:23.561502Z"
    },
    "papermill": {
     "duration": 0.036291,
     "end_time": "2024-04-11T16:58:23.565361",
     "exception": false,
     "start_time": "2024-04-11T16:58:23.529070",
     "status": "completed"
    },
    "tags": []
   },
   "outputs": [],
   "source": [
    "atc_categories = ['M01AB','M01AE','N02BA','N02BE', 'N05B','N05C','R03','R06']\n",
    "category_sales = {}\n",
    "for category in atc_categories:\n",
    "    category_sales[category] = data.groupby(category).sum()"
   ]
  },
  {
   "cell_type": "code",
   "execution_count": 12,
   "id": "42c3b504",
   "metadata": {
    "execution": {
     "iopub.execute_input": "2024-04-11T16:58:23.592766Z",
     "iopub.status.busy": "2024-04-11T16:58:23.591983Z",
     "iopub.status.idle": "2024-04-11T16:58:23.608578Z",
     "shell.execute_reply": "2024-04-11T16:58:23.607770Z"
    },
    "papermill": {
     "duration": 0.032553,
     "end_time": "2024-04-11T16:58:23.610759",
     "exception": false,
     "start_time": "2024-04-11T16:58:23.578206",
     "status": "completed"
    },
    "tags": []
   },
   "outputs": [
    {
     "data": {
      "text/html": [
       "<div>\n",
       "<style scoped>\n",
       "    .dataframe tbody tr th:only-of-type {\n",
       "        vertical-align: middle;\n",
       "    }\n",
       "\n",
       "    .dataframe tbody tr th {\n",
       "        vertical-align: top;\n",
       "    }\n",
       "\n",
       "    .dataframe thead th {\n",
       "        text-align: right;\n",
       "    }\n",
       "</style>\n",
       "<table border=\"1\" class=\"dataframe\">\n",
       "  <thead>\n",
       "    <tr style=\"text-align: right;\">\n",
       "      <th></th>\n",
       "      <th>datum</th>\n",
       "      <th>M01AB</th>\n",
       "      <th>M01AE</th>\n",
       "      <th>N02BA</th>\n",
       "      <th>N02BE</th>\n",
       "      <th>N05B</th>\n",
       "      <th>N05C</th>\n",
       "      <th>R03</th>\n",
       "      <th>R06</th>\n",
       "    </tr>\n",
       "  </thead>\n",
       "  <tbody>\n",
       "    <tr>\n",
       "      <th>0</th>\n",
       "      <td>2014-01-31</td>\n",
       "      <td>127.69</td>\n",
       "      <td>99.090</td>\n",
       "      <td>152.100</td>\n",
       "      <td>878.030</td>\n",
       "      <td>354.0</td>\n",
       "      <td>50.0</td>\n",
       "      <td>112.0</td>\n",
       "      <td>48.2</td>\n",
       "    </tr>\n",
       "    <tr>\n",
       "      <th>1</th>\n",
       "      <td>2014-02-28</td>\n",
       "      <td>133.32</td>\n",
       "      <td>126.050</td>\n",
       "      <td>177.000</td>\n",
       "      <td>1001.900</td>\n",
       "      <td>347.0</td>\n",
       "      <td>31.0</td>\n",
       "      <td>122.0</td>\n",
       "      <td>36.2</td>\n",
       "    </tr>\n",
       "    <tr>\n",
       "      <th>2</th>\n",
       "      <td>2014-03-31</td>\n",
       "      <td>137.44</td>\n",
       "      <td>92.950</td>\n",
       "      <td>147.655</td>\n",
       "      <td>779.275</td>\n",
       "      <td>232.0</td>\n",
       "      <td>20.0</td>\n",
       "      <td>112.0</td>\n",
       "      <td>85.4</td>\n",
       "    </tr>\n",
       "    <tr>\n",
       "      <th>3</th>\n",
       "      <td>2014-04-30</td>\n",
       "      <td>113.10</td>\n",
       "      <td>89.475</td>\n",
       "      <td>130.900</td>\n",
       "      <td>698.500</td>\n",
       "      <td>209.0</td>\n",
       "      <td>18.0</td>\n",
       "      <td>97.0</td>\n",
       "      <td>73.7</td>\n",
       "    </tr>\n",
       "    <tr>\n",
       "      <th>4</th>\n",
       "      <td>2014-05-31</td>\n",
       "      <td>101.79</td>\n",
       "      <td>119.933</td>\n",
       "      <td>132.100</td>\n",
       "      <td>628.780</td>\n",
       "      <td>270.0</td>\n",
       "      <td>23.0</td>\n",
       "      <td>107.0</td>\n",
       "      <td>123.7</td>\n",
       "    </tr>\n",
       "  </tbody>\n",
       "</table>\n",
       "</div>"
      ],
      "text/plain": [
       "        datum   M01AB    M01AE    N02BA     N02BE   N05B  N05C    R03    R06\n",
       "0  2014-01-31  127.69   99.090  152.100   878.030  354.0  50.0  112.0   48.2\n",
       "1  2014-02-28  133.32  126.050  177.000  1001.900  347.0  31.0  122.0   36.2\n",
       "2  2014-03-31  137.44   92.950  147.655   779.275  232.0  20.0  112.0   85.4\n",
       "3  2014-04-30  113.10   89.475  130.900   698.500  209.0  18.0   97.0   73.7\n",
       "4  2014-05-31  101.79  119.933  132.100   628.780  270.0  23.0  107.0  123.7"
      ]
     },
     "execution_count": 12,
     "metadata": {},
     "output_type": "execute_result"
    }
   ],
   "source": [
    "data.head()"
   ]
  },
  {
   "cell_type": "code",
   "execution_count": 13,
   "id": "2959fdf7",
   "metadata": {
    "execution": {
     "iopub.execute_input": "2024-04-11T16:58:23.639264Z",
     "iopub.status.busy": "2024-04-11T16:58:23.638505Z",
     "iopub.status.idle": "2024-04-11T16:58:23.644236Z",
     "shell.execute_reply": "2024-04-11T16:58:23.643246Z"
    },
    "papermill": {
     "duration": 0.02226,
     "end_time": "2024-04-11T16:58:23.646303",
     "exception": false,
     "start_time": "2024-04-11T16:58:23.624043",
     "status": "completed"
    },
    "tags": []
   },
   "outputs": [
    {
     "data": {
      "text/plain": [
       "(70, 9)"
      ]
     },
     "execution_count": 13,
     "metadata": {},
     "output_type": "execute_result"
    }
   ],
   "source": [
    "data.shape"
   ]
  },
  {
   "cell_type": "code",
   "execution_count": 14,
   "id": "63bebb64",
   "metadata": {
    "execution": {
     "iopub.execute_input": "2024-04-11T16:58:23.674035Z",
     "iopub.status.busy": "2024-04-11T16:58:23.673218Z",
     "iopub.status.idle": "2024-04-11T16:58:23.684427Z",
     "shell.execute_reply": "2024-04-11T16:58:23.683165Z"
    },
    "papermill": {
     "duration": 0.028081,
     "end_time": "2024-04-11T16:58:23.687223",
     "exception": false,
     "start_time": "2024-04-11T16:58:23.659142",
     "status": "completed"
    },
    "tags": []
   },
   "outputs": [],
   "source": [
    "# Assuming 'salesmonthly' is your DataFrame and 'datum' column contains dates as strings\n",
    "salesmonthly['datum'] = pd.to_datetime(salesmonthly['datum'])"
   ]
  },
  {
   "cell_type": "code",
   "execution_count": 15,
   "id": "7c026c64",
   "metadata": {
    "execution": {
     "iopub.execute_input": "2024-04-11T16:58:23.715403Z",
     "iopub.status.busy": "2024-04-11T16:58:23.714942Z",
     "iopub.status.idle": "2024-04-11T16:58:23.736154Z",
     "shell.execute_reply": "2024-04-11T16:58:23.735328Z"
    },
    "papermill": {
     "duration": 0.037837,
     "end_time": "2024-04-11T16:58:23.738197",
     "exception": false,
     "start_time": "2024-04-11T16:58:23.700360",
     "status": "completed"
    },
    "tags": []
   },
   "outputs": [
    {
     "data": {
      "text/html": [
       "<div>\n",
       "<style scoped>\n",
       "    .dataframe tbody tr th:only-of-type {\n",
       "        vertical-align: middle;\n",
       "    }\n",
       "\n",
       "    .dataframe tbody tr th {\n",
       "        vertical-align: top;\n",
       "    }\n",
       "\n",
       "    .dataframe thead th {\n",
       "        text-align: right;\n",
       "    }\n",
       "</style>\n",
       "<table border=\"1\" class=\"dataframe\">\n",
       "  <thead>\n",
       "    <tr style=\"text-align: right;\">\n",
       "      <th></th>\n",
       "      <th>datum</th>\n",
       "      <th>M01AB</th>\n",
       "      <th>M01AE</th>\n",
       "      <th>N02BA</th>\n",
       "      <th>N02BE</th>\n",
       "      <th>N05B</th>\n",
       "      <th>N05C</th>\n",
       "      <th>R03</th>\n",
       "      <th>R06</th>\n",
       "    </tr>\n",
       "  </thead>\n",
       "  <tbody>\n",
       "    <tr>\n",
       "      <th>0</th>\n",
       "      <td>2014-01-31</td>\n",
       "      <td>127.69</td>\n",
       "      <td>99.090</td>\n",
       "      <td>152.100</td>\n",
       "      <td>878.030</td>\n",
       "      <td>354.0</td>\n",
       "      <td>50.0</td>\n",
       "      <td>112.0</td>\n",
       "      <td>48.20</td>\n",
       "    </tr>\n",
       "    <tr>\n",
       "      <th>1</th>\n",
       "      <td>2014-02-28</td>\n",
       "      <td>133.32</td>\n",
       "      <td>126.050</td>\n",
       "      <td>177.000</td>\n",
       "      <td>1001.900</td>\n",
       "      <td>347.0</td>\n",
       "      <td>31.0</td>\n",
       "      <td>122.0</td>\n",
       "      <td>36.20</td>\n",
       "    </tr>\n",
       "    <tr>\n",
       "      <th>2</th>\n",
       "      <td>2014-03-31</td>\n",
       "      <td>137.44</td>\n",
       "      <td>92.950</td>\n",
       "      <td>147.655</td>\n",
       "      <td>779.275</td>\n",
       "      <td>232.0</td>\n",
       "      <td>20.0</td>\n",
       "      <td>112.0</td>\n",
       "      <td>85.40</td>\n",
       "    </tr>\n",
       "    <tr>\n",
       "      <th>3</th>\n",
       "      <td>2014-04-30</td>\n",
       "      <td>113.10</td>\n",
       "      <td>89.475</td>\n",
       "      <td>130.900</td>\n",
       "      <td>698.500</td>\n",
       "      <td>209.0</td>\n",
       "      <td>18.0</td>\n",
       "      <td>97.0</td>\n",
       "      <td>73.70</td>\n",
       "    </tr>\n",
       "    <tr>\n",
       "      <th>4</th>\n",
       "      <td>2014-05-31</td>\n",
       "      <td>101.79</td>\n",
       "      <td>119.933</td>\n",
       "      <td>132.100</td>\n",
       "      <td>628.780</td>\n",
       "      <td>270.0</td>\n",
       "      <td>23.0</td>\n",
       "      <td>107.0</td>\n",
       "      <td>123.70</td>\n",
       "    </tr>\n",
       "    <tr>\n",
       "      <th>...</th>\n",
       "      <td>...</td>\n",
       "      <td>...</td>\n",
       "      <td>...</td>\n",
       "      <td>...</td>\n",
       "      <td>...</td>\n",
       "      <td>...</td>\n",
       "      <td>...</td>\n",
       "      <td>...</td>\n",
       "      <td>...</td>\n",
       "    </tr>\n",
       "    <tr>\n",
       "      <th>65</th>\n",
       "      <td>2019-06-30</td>\n",
       "      <td>151.54</td>\n",
       "      <td>101.627</td>\n",
       "      <td>103.200</td>\n",
       "      <td>610.000</td>\n",
       "      <td>193.0</td>\n",
       "      <td>25.0</td>\n",
       "      <td>142.0</td>\n",
       "      <td>156.04</td>\n",
       "    </tr>\n",
       "    <tr>\n",
       "      <th>66</th>\n",
       "      <td>2019-07-31</td>\n",
       "      <td>181.00</td>\n",
       "      <td>103.541</td>\n",
       "      <td>92.800</td>\n",
       "      <td>649.800</td>\n",
       "      <td>250.6</td>\n",
       "      <td>20.0</td>\n",
       "      <td>115.0</td>\n",
       "      <td>105.20</td>\n",
       "    </tr>\n",
       "    <tr>\n",
       "      <th>67</th>\n",
       "      <td>2019-08-31</td>\n",
       "      <td>181.91</td>\n",
       "      <td>88.269</td>\n",
       "      <td>84.200</td>\n",
       "      <td>518.100</td>\n",
       "      <td>237.0</td>\n",
       "      <td>26.0</td>\n",
       "      <td>145.0</td>\n",
       "      <td>97.30</td>\n",
       "    </tr>\n",
       "    <tr>\n",
       "      <th>68</th>\n",
       "      <td>2019-09-30</td>\n",
       "      <td>161.07</td>\n",
       "      <td>111.437</td>\n",
       "      <td>93.500</td>\n",
       "      <td>984.480</td>\n",
       "      <td>227.8</td>\n",
       "      <td>16.0</td>\n",
       "      <td>161.0</td>\n",
       "      <td>109.10</td>\n",
       "    </tr>\n",
       "    <tr>\n",
       "      <th>69</th>\n",
       "      <td>2019-10-31</td>\n",
       "      <td>44.37</td>\n",
       "      <td>37.300</td>\n",
       "      <td>20.650</td>\n",
       "      <td>295.150</td>\n",
       "      <td>86.0</td>\n",
       "      <td>7.0</td>\n",
       "      <td>37.0</td>\n",
       "      <td>11.13</td>\n",
       "    </tr>\n",
       "  </tbody>\n",
       "</table>\n",
       "<p>70 rows × 9 columns</p>\n",
       "</div>"
      ],
      "text/plain": [
       "        datum   M01AB    M01AE    N02BA     N02BE   N05B  N05C    R03     R06\n",
       "0  2014-01-31  127.69   99.090  152.100   878.030  354.0  50.0  112.0   48.20\n",
       "1  2014-02-28  133.32  126.050  177.000  1001.900  347.0  31.0  122.0   36.20\n",
       "2  2014-03-31  137.44   92.950  147.655   779.275  232.0  20.0  112.0   85.40\n",
       "3  2014-04-30  113.10   89.475  130.900   698.500  209.0  18.0   97.0   73.70\n",
       "4  2014-05-31  101.79  119.933  132.100   628.780  270.0  23.0  107.0  123.70\n",
       "..        ...     ...      ...      ...       ...    ...   ...    ...     ...\n",
       "65 2019-06-30  151.54  101.627  103.200   610.000  193.0  25.0  142.0  156.04\n",
       "66 2019-07-31  181.00  103.541   92.800   649.800  250.6  20.0  115.0  105.20\n",
       "67 2019-08-31  181.91   88.269   84.200   518.100  237.0  26.0  145.0   97.30\n",
       "68 2019-09-30  161.07  111.437   93.500   984.480  227.8  16.0  161.0  109.10\n",
       "69 2019-10-31   44.37   37.300   20.650   295.150   86.0   7.0   37.0   11.13\n",
       "\n",
       "[70 rows x 9 columns]"
      ]
     },
     "execution_count": 15,
     "metadata": {},
     "output_type": "execute_result"
    }
   ],
   "source": [
    "salesmonthly"
   ]
  },
  {
   "cell_type": "code",
   "execution_count": 16,
   "id": "3539337c",
   "metadata": {
    "execution": {
     "iopub.execute_input": "2024-04-11T16:58:23.766247Z",
     "iopub.status.busy": "2024-04-11T16:58:23.765816Z",
     "iopub.status.idle": "2024-04-11T16:58:23.772454Z",
     "shell.execute_reply": "2024-04-11T16:58:23.771275Z"
    },
    "papermill": {
     "duration": 0.023314,
     "end_time": "2024-04-11T16:58:23.774914",
     "exception": false,
     "start_time": "2024-04-11T16:58:23.751600",
     "status": "completed"
    },
    "tags": []
   },
   "outputs": [
    {
     "name": "stdout",
     "output_type": "stream",
     "text": [
      "2014-01-31 00:00:00\n",
      "2019-10-31 00:00:00\n"
     ]
    }
   ],
   "source": [
    "print(salesmonthly['datum'].min())\n",
    "print(salesmonthly['datum'].max())"
   ]
  },
  {
   "cell_type": "code",
   "execution_count": 17,
   "id": "f4400d3e",
   "metadata": {
    "execution": {
     "iopub.execute_input": "2024-04-11T16:58:23.803727Z",
     "iopub.status.busy": "2024-04-11T16:58:23.803284Z",
     "iopub.status.idle": "2024-04-11T16:58:23.822705Z",
     "shell.execute_reply": "2024-04-11T16:58:23.821582Z"
    },
    "papermill": {
     "duration": 0.036698,
     "end_time": "2024-04-11T16:58:23.824871",
     "exception": false,
     "start_time": "2024-04-11T16:58:23.788173",
     "status": "completed"
    },
    "tags": []
   },
   "outputs": [
    {
     "data": {
      "text/html": [
       "<div>\n",
       "<style scoped>\n",
       "    .dataframe tbody tr th:only-of-type {\n",
       "        vertical-align: middle;\n",
       "    }\n",
       "\n",
       "    .dataframe tbody tr th {\n",
       "        vertical-align: top;\n",
       "    }\n",
       "\n",
       "    .dataframe thead th {\n",
       "        text-align: right;\n",
       "    }\n",
       "</style>\n",
       "<table border=\"1\" class=\"dataframe\">\n",
       "  <thead>\n",
       "    <tr style=\"text-align: right;\">\n",
       "      <th></th>\n",
       "      <th>datum</th>\n",
       "      <th>Drug</th>\n",
       "      <th>Quantity</th>\n",
       "    </tr>\n",
       "  </thead>\n",
       "  <tbody>\n",
       "    <tr>\n",
       "      <th>0</th>\n",
       "      <td>2014-01-31</td>\n",
       "      <td>M01AB</td>\n",
       "      <td>127.69</td>\n",
       "    </tr>\n",
       "    <tr>\n",
       "      <th>1</th>\n",
       "      <td>2014-02-28</td>\n",
       "      <td>M01AB</td>\n",
       "      <td>133.32</td>\n",
       "    </tr>\n",
       "    <tr>\n",
       "      <th>2</th>\n",
       "      <td>2014-03-31</td>\n",
       "      <td>M01AB</td>\n",
       "      <td>137.44</td>\n",
       "    </tr>\n",
       "    <tr>\n",
       "      <th>3</th>\n",
       "      <td>2014-04-30</td>\n",
       "      <td>M01AB</td>\n",
       "      <td>113.10</td>\n",
       "    </tr>\n",
       "    <tr>\n",
       "      <th>4</th>\n",
       "      <td>2014-05-31</td>\n",
       "      <td>M01AB</td>\n",
       "      <td>101.79</td>\n",
       "    </tr>\n",
       "    <tr>\n",
       "      <th>...</th>\n",
       "      <td>...</td>\n",
       "      <td>...</td>\n",
       "      <td>...</td>\n",
       "    </tr>\n",
       "    <tr>\n",
       "      <th>555</th>\n",
       "      <td>2019-06-30</td>\n",
       "      <td>R06</td>\n",
       "      <td>156.04</td>\n",
       "    </tr>\n",
       "    <tr>\n",
       "      <th>556</th>\n",
       "      <td>2019-07-31</td>\n",
       "      <td>R06</td>\n",
       "      <td>105.20</td>\n",
       "    </tr>\n",
       "    <tr>\n",
       "      <th>557</th>\n",
       "      <td>2019-08-31</td>\n",
       "      <td>R06</td>\n",
       "      <td>97.30</td>\n",
       "    </tr>\n",
       "    <tr>\n",
       "      <th>558</th>\n",
       "      <td>2019-09-30</td>\n",
       "      <td>R06</td>\n",
       "      <td>109.10</td>\n",
       "    </tr>\n",
       "    <tr>\n",
       "      <th>559</th>\n",
       "      <td>2019-10-31</td>\n",
       "      <td>R06</td>\n",
       "      <td>11.13</td>\n",
       "    </tr>\n",
       "  </tbody>\n",
       "</table>\n",
       "<p>560 rows × 3 columns</p>\n",
       "</div>"
      ],
      "text/plain": [
       "         datum   Drug  Quantity\n",
       "0   2014-01-31  M01AB    127.69\n",
       "1   2014-02-28  M01AB    133.32\n",
       "2   2014-03-31  M01AB    137.44\n",
       "3   2014-04-30  M01AB    113.10\n",
       "4   2014-05-31  M01AB    101.79\n",
       "..         ...    ...       ...\n",
       "555 2019-06-30    R06    156.04\n",
       "556 2019-07-31    R06    105.20\n",
       "557 2019-08-31    R06     97.30\n",
       "558 2019-09-30    R06    109.10\n",
       "559 2019-10-31    R06     11.13\n",
       "\n",
       "[560 rows x 3 columns]"
      ]
     },
     "execution_count": 17,
     "metadata": {},
     "output_type": "execute_result"
    }
   ],
   "source": [
    "# Reshape the dataframe\n",
    "salesmonthly_new = salesmonthly.melt(id_vars=['datum'],\n",
    "             var_name='Drug',\n",
    "             value_name='Quantity')\n",
    "\n",
    "# Print the updated dataframe\n",
    "salesmonthly_new"
   ]
  },
  {
   "cell_type": "code",
   "execution_count": 18,
   "id": "10860d73",
   "metadata": {
    "execution": {
     "iopub.execute_input": "2024-04-11T16:58:23.854761Z",
     "iopub.status.busy": "2024-04-11T16:58:23.853826Z",
     "iopub.status.idle": "2024-04-11T16:58:26.494885Z",
     "shell.execute_reply": "2024-04-11T16:58:26.493701Z"
    },
    "papermill": {
     "duration": 2.658825,
     "end_time": "2024-04-11T16:58:26.497221",
     "exception": false,
     "start_time": "2024-04-11T16:58:23.838396",
     "status": "completed"
    },
    "tags": []
   },
   "outputs": [
    {
     "data": {
      "text/html": [
       "        <script type=\"text/javascript\">\n",
       "        window.PlotlyConfig = {MathJaxConfig: 'local'};\n",
       "        if (window.MathJax && window.MathJax.Hub && window.MathJax.Hub.Config) {window.MathJax.Hub.Config({SVG: {font: \"STIX-Web\"}});}\n",
       "        if (typeof require !== 'undefined') {\n",
       "        require.undef(\"plotly\");\n",
       "        requirejs.config({\n",
       "            paths: {\n",
       "                'plotly': ['https://cdn.plot.ly/plotly-2.27.0.min']\n",
       "            }\n",
       "        });\n",
       "        require(['plotly'], function(Plotly) {\n",
       "            window._Plotly = Plotly;\n",
       "        });\n",
       "        }\n",
       "        </script>\n",
       "        "
      ]
     },
     "metadata": {},
     "output_type": "display_data"
    },
    {
     "data": {
      "text/html": [
       "<div>                            <div id=\"43b7c6e4-a517-4573-bcd6-614b4a571f47\" class=\"plotly-graph-div\" style=\"height:525px; width:100%;\"></div>            <script type=\"text/javascript\">                require([\"plotly\"], function(Plotly) {                    window.PLOTLYENV=window.PLOTLYENV || {};                                    if (document.getElementById(\"43b7c6e4-a517-4573-bcd6-614b4a571f47\")) {                    Plotly.newPlot(                        \"43b7c6e4-a517-4573-bcd6-614b4a571f47\",                        [{\"hovertemplate\":\"Drug=M01AB\\u003cbr\\u003eDate=%{x}\\u003cbr\\u003eSales Quantity=%{y}\\u003cextra\\u003e\\u003c\\u002fextra\\u003e\",\"legendgroup\":\"M01AB\",\"line\":{\"color\":\"#636efa\",\"dash\":\"solid\"},\"marker\":{\"symbol\":\"circle\"},\"mode\":\"lines\",\"name\":\"M01AB\",\"orientation\":\"v\",\"showlegend\":true,\"x\":[\"2014-01-31T00:00:00\",\"2014-02-28T00:00:00\",\"2014-03-31T00:00:00\",\"2014-04-30T00:00:00\",\"2014-05-31T00:00:00\",\"2014-06-30T00:00:00\",\"2014-07-31T00:00:00\",\"2014-08-31T00:00:00\",\"2014-09-30T00:00:00\",\"2014-10-31T00:00:00\",\"2014-11-30T00:00:00\",\"2014-12-31T00:00:00\",\"2015-01-31T00:00:00\",\"2015-02-28T00:00:00\",\"2015-03-31T00:00:00\",\"2015-04-30T00:00:00\",\"2015-05-31T00:00:00\",\"2015-06-30T00:00:00\",\"2015-07-31T00:00:00\",\"2015-08-31T00:00:00\",\"2015-09-30T00:00:00\",\"2015-10-31T00:00:00\",\"2015-11-30T00:00:00\",\"2015-12-31T00:00:00\",\"2016-01-31T00:00:00\",\"2016-02-29T00:00:00\",\"2016-03-31T00:00:00\",\"2016-04-30T00:00:00\",\"2016-05-31T00:00:00\",\"2016-06-30T00:00:00\",\"2016-07-31T00:00:00\",\"2016-08-31T00:00:00\",\"2016-09-30T00:00:00\",\"2016-10-31T00:00:00\",\"2016-11-30T00:00:00\",\"2016-12-31T00:00:00\",\"2017-01-31T00:00:00\",\"2017-02-28T00:00:00\",\"2017-03-31T00:00:00\",\"2017-04-30T00:00:00\",\"2017-05-31T00:00:00\",\"2017-06-30T00:00:00\",\"2017-07-31T00:00:00\",\"2017-08-31T00:00:00\",\"2017-09-30T00:00:00\",\"2017-10-31T00:00:00\",\"2017-11-30T00:00:00\",\"2017-12-31T00:00:00\",\"2018-01-31T00:00:00\",\"2018-02-28T00:00:00\",\"2018-03-31T00:00:00\",\"2018-04-30T00:00:00\",\"2018-05-31T00:00:00\",\"2018-06-30T00:00:00\",\"2018-07-31T00:00:00\",\"2018-08-31T00:00:00\",\"2018-09-30T00:00:00\",\"2018-10-31T00:00:00\",\"2018-11-30T00:00:00\",\"2018-12-31T00:00:00\",\"2019-01-31T00:00:00\",\"2019-02-28T00:00:00\",\"2019-03-31T00:00:00\",\"2019-04-30T00:00:00\",\"2019-05-31T00:00:00\",\"2019-06-30T00:00:00\",\"2019-07-31T00:00:00\",\"2019-08-31T00:00:00\",\"2019-09-30T00:00:00\",\"2019-10-31T00:00:00\"],\"xaxis\":\"x\",\"y\":[127.69,133.32,137.44000000000003,113.10000000000004,101.79000000000003,112.07000000000002,117.06000000000002,134.79000000000005,108.78000000000004,154.75000000000003,138.08000000000004,131.90000000000003,135.91000000000005,115.71,156.04000000000005,154.5,160.02,151.87000000000003,175.61000000000004,181.69000000000003,166.22000000000008,195.81000000000012,152.78000000000006,159.46000000000004,171.65000000000006,173.81000000000003,156.64000000000004,166.6100000000001,167.36000000000007,169.67000000000002,203.97000000000017,211.13000000000017,172.96000000000004,186.7600000000001,175.18000000000012,169.32000000000002,0.0,139.69000000000003,162.85000000000002,155.61000000000004,143.66,122.33,159.67,170.14999999999998,138.33,137.64,163.85000000000005,160.01000000000002,132.28,128.36,146.16,170.02000000000007,160.52000000000004,141.18,150.18,140.00000000000003,153.52,144.71000000000004,172.29000000000005,147.71000000000004,179.70000000000007,133.73000000000002,154.52000000000004,161.39000000000004,168.04000000000005,151.5400000000001,181.0,181.91000000000008,161.07000000000005,44.370000000000005],\"yaxis\":\"y\",\"type\":\"scatter\"},{\"hovertemplate\":\"Drug=M01AE\\u003cbr\\u003eDate=%{x}\\u003cbr\\u003eSales Quantity=%{y}\\u003cextra\\u003e\\u003c\\u002fextra\\u003e\",\"legendgroup\":\"M01AE\",\"line\":{\"color\":\"#EF553B\",\"dash\":\"solid\"},\"marker\":{\"symbol\":\"circle\"},\"mode\":\"lines\",\"name\":\"M01AE\",\"orientation\":\"v\",\"showlegend\":true,\"x\":[\"2014-01-31T00:00:00\",\"2014-02-28T00:00:00\",\"2014-03-31T00:00:00\",\"2014-04-30T00:00:00\",\"2014-05-31T00:00:00\",\"2014-06-30T00:00:00\",\"2014-07-31T00:00:00\",\"2014-08-31T00:00:00\",\"2014-09-30T00:00:00\",\"2014-10-31T00:00:00\",\"2014-11-30T00:00:00\",\"2014-12-31T00:00:00\",\"2015-01-31T00:00:00\",\"2015-02-28T00:00:00\",\"2015-03-31T00:00:00\",\"2015-04-30T00:00:00\",\"2015-05-31T00:00:00\",\"2015-06-30T00:00:00\",\"2015-07-31T00:00:00\",\"2015-08-31T00:00:00\",\"2015-09-30T00:00:00\",\"2015-10-31T00:00:00\",\"2015-11-30T00:00:00\",\"2015-12-31T00:00:00\",\"2016-01-31T00:00:00\",\"2016-02-29T00:00:00\",\"2016-03-31T00:00:00\",\"2016-04-30T00:00:00\",\"2016-05-31T00:00:00\",\"2016-06-30T00:00:00\",\"2016-07-31T00:00:00\",\"2016-08-31T00:00:00\",\"2016-09-30T00:00:00\",\"2016-10-31T00:00:00\",\"2016-11-30T00:00:00\",\"2016-12-31T00:00:00\",\"2017-01-31T00:00:00\",\"2017-02-28T00:00:00\",\"2017-03-31T00:00:00\",\"2017-04-30T00:00:00\",\"2017-05-31T00:00:00\",\"2017-06-30T00:00:00\",\"2017-07-31T00:00:00\",\"2017-08-31T00:00:00\",\"2017-09-30T00:00:00\",\"2017-10-31T00:00:00\",\"2017-11-30T00:00:00\",\"2017-12-31T00:00:00\",\"2018-01-31T00:00:00\",\"2018-02-28T00:00:00\",\"2018-03-31T00:00:00\",\"2018-04-30T00:00:00\",\"2018-05-31T00:00:00\",\"2018-06-30T00:00:00\",\"2018-07-31T00:00:00\",\"2018-08-31T00:00:00\",\"2018-09-30T00:00:00\",\"2018-10-31T00:00:00\",\"2018-11-30T00:00:00\",\"2018-12-31T00:00:00\",\"2019-01-31T00:00:00\",\"2019-02-28T00:00:00\",\"2019-03-31T00:00:00\",\"2019-04-30T00:00:00\",\"2019-05-31T00:00:00\",\"2019-06-30T00:00:00\",\"2019-07-31T00:00:00\",\"2019-08-31T00:00:00\",\"2019-09-30T00:00:00\",\"2019-10-31T00:00:00\"],\"xaxis\":\"x\",\"y\":[99.09000000000005,126.0500000000001,92.95000000000007,89.47500000000008,119.93300000000008,94.71000000000006,95.01000000000012,99.7800000000001,109.0940000000001,185.2410000000001,100.86000000000004,121.40100000000004,130.34900000000005,123.73999999999997,129.38599999999997,101.115,119.11700000000006,113.69,113.81000000000002,144.51900000000003,134.12200000000004,127.23099999999998,128.233,131.29100000000005,128.402,137.528,180.5890000000001,146.52600000000007,120.86099999999996,114.961,141.01900000000003,114.37499999999996,126.21799999999996,142.0560000000001,116.84999999999997,135.05600000000004,0.0,103.517,111.055,101.21500000000002,118.12500000000006,103.006,116.20600000000005,112.47,118.71100000000004,88.737,119.78000000000004,121.66300000000004,109.44599999999998,132.80400000000014,111.764,107.723,103.522,114.22600000000004,132.54900000000006,114.71900000000004,114.99200000000008,129.4000000000001,105.48700000000004,113.02400000000011,222.35100000000017,142.15500000000014,113.11800000000004,100.16500000000003,97.25800000000004,101.62700000000004,103.54100000000004,88.26900000000003,111.43700000000008,37.3],\"yaxis\":\"y\",\"type\":\"scatter\"},{\"hovertemplate\":\"Drug=N02BA\\u003cbr\\u003eDate=%{x}\\u003cbr\\u003eSales Quantity=%{y}\\u003cextra\\u003e\\u003c\\u002fextra\\u003e\",\"legendgroup\":\"N02BA\",\"line\":{\"color\":\"#00cc96\",\"dash\":\"solid\"},\"marker\":{\"symbol\":\"circle\"},\"mode\":\"lines\",\"name\":\"N02BA\",\"orientation\":\"v\",\"showlegend\":true,\"x\":[\"2014-01-31T00:00:00\",\"2014-02-28T00:00:00\",\"2014-03-31T00:00:00\",\"2014-04-30T00:00:00\",\"2014-05-31T00:00:00\",\"2014-06-30T00:00:00\",\"2014-07-31T00:00:00\",\"2014-08-31T00:00:00\",\"2014-09-30T00:00:00\",\"2014-10-31T00:00:00\",\"2014-11-30T00:00:00\",\"2014-12-31T00:00:00\",\"2015-01-31T00:00:00\",\"2015-02-28T00:00:00\",\"2015-03-31T00:00:00\",\"2015-04-30T00:00:00\",\"2015-05-31T00:00:00\",\"2015-06-30T00:00:00\",\"2015-07-31T00:00:00\",\"2015-08-31T00:00:00\",\"2015-09-30T00:00:00\",\"2015-10-31T00:00:00\",\"2015-11-30T00:00:00\",\"2015-12-31T00:00:00\",\"2016-01-31T00:00:00\",\"2016-02-29T00:00:00\",\"2016-03-31T00:00:00\",\"2016-04-30T00:00:00\",\"2016-05-31T00:00:00\",\"2016-06-30T00:00:00\",\"2016-07-31T00:00:00\",\"2016-08-31T00:00:00\",\"2016-09-30T00:00:00\",\"2016-10-31T00:00:00\",\"2016-11-30T00:00:00\",\"2016-12-31T00:00:00\",\"2017-01-31T00:00:00\",\"2017-02-28T00:00:00\",\"2017-03-31T00:00:00\",\"2017-04-30T00:00:00\",\"2017-05-31T00:00:00\",\"2017-06-30T00:00:00\",\"2017-07-31T00:00:00\",\"2017-08-31T00:00:00\",\"2017-09-30T00:00:00\",\"2017-10-31T00:00:00\",\"2017-11-30T00:00:00\",\"2017-12-31T00:00:00\",\"2018-01-31T00:00:00\",\"2018-02-28T00:00:00\",\"2018-03-31T00:00:00\",\"2018-04-30T00:00:00\",\"2018-05-31T00:00:00\",\"2018-06-30T00:00:00\",\"2018-07-31T00:00:00\",\"2018-08-31T00:00:00\",\"2018-09-30T00:00:00\",\"2018-10-31T00:00:00\",\"2018-11-30T00:00:00\",\"2018-12-31T00:00:00\",\"2019-01-31T00:00:00\",\"2019-02-28T00:00:00\",\"2019-03-31T00:00:00\",\"2019-04-30T00:00:00\",\"2019-05-31T00:00:00\",\"2019-06-30T00:00:00\",\"2019-07-31T00:00:00\",\"2019-08-31T00:00:00\",\"2019-09-30T00:00:00\",\"2019-10-31T00:00:00\"],\"xaxis\":\"x\",\"y\":[152.09999999999997,176.99999999999997,147.655,130.89999999999998,132.1,122.9,129.3,123.8,122.09999999999998,191.6,142.7,111.124,141.0,131.83,133.8,122.1,136.04,145.46,125.5,133.4,110.4,146.20000000000002,145.90000000000003,136.99999999999997,172.49999999999997,134.20000000000002,148.4,147.7,130.54999999999995,117.75,137.89999999999998,132.7,116.7,160.15,133.85000000000002,132.39999999999998,0.0,97.0,107.35,100.5,98.95,119.6,75.19999999999999,84.4,88.14999999999998,100.4,104.45,115.15,101.15,114.65000000000002,122.3,84.60000000000001,89.39999999999999,86.80000000000001,87.2,88.25,86.5,76.05000000000001,102.15,84.75,99.7,110.19999999999996,83.35000000000001,88.1,104.1,103.2,92.8,84.19999999999999,93.5,20.65],\"yaxis\":\"y\",\"type\":\"scatter\"},{\"hovertemplate\":\"Drug=N02BE\\u003cbr\\u003eDate=%{x}\\u003cbr\\u003eSales Quantity=%{y}\\u003cextra\\u003e\\u003c\\u002fextra\\u003e\",\"legendgroup\":\"N02BE\",\"line\":{\"color\":\"#ab63fa\",\"dash\":\"solid\"},\"marker\":{\"symbol\":\"circle\"},\"mode\":\"lines\",\"name\":\"N02BE\",\"orientation\":\"v\",\"showlegend\":true,\"x\":[\"2014-01-31T00:00:00\",\"2014-02-28T00:00:00\",\"2014-03-31T00:00:00\",\"2014-04-30T00:00:00\",\"2014-05-31T00:00:00\",\"2014-06-30T00:00:00\",\"2014-07-31T00:00:00\",\"2014-08-31T00:00:00\",\"2014-09-30T00:00:00\",\"2014-10-31T00:00:00\",\"2014-11-30T00:00:00\",\"2014-12-31T00:00:00\",\"2015-01-31T00:00:00\",\"2015-02-28T00:00:00\",\"2015-03-31T00:00:00\",\"2015-04-30T00:00:00\",\"2015-05-31T00:00:00\",\"2015-06-30T00:00:00\",\"2015-07-31T00:00:00\",\"2015-08-31T00:00:00\",\"2015-09-30T00:00:00\",\"2015-10-31T00:00:00\",\"2015-11-30T00:00:00\",\"2015-12-31T00:00:00\",\"2016-01-31T00:00:00\",\"2016-02-29T00:00:00\",\"2016-03-31T00:00:00\",\"2016-04-30T00:00:00\",\"2016-05-31T00:00:00\",\"2016-06-30T00:00:00\",\"2016-07-31T00:00:00\",\"2016-08-31T00:00:00\",\"2016-09-30T00:00:00\",\"2016-10-31T00:00:00\",\"2016-11-30T00:00:00\",\"2016-12-31T00:00:00\",\"2017-01-31T00:00:00\",\"2017-02-28T00:00:00\",\"2017-03-31T00:00:00\",\"2017-04-30T00:00:00\",\"2017-05-31T00:00:00\",\"2017-06-30T00:00:00\",\"2017-07-31T00:00:00\",\"2017-08-31T00:00:00\",\"2017-09-30T00:00:00\",\"2017-10-31T00:00:00\",\"2017-11-30T00:00:00\",\"2017-12-31T00:00:00\",\"2018-01-31T00:00:00\",\"2018-02-28T00:00:00\",\"2018-03-31T00:00:00\",\"2018-04-30T00:00:00\",\"2018-05-31T00:00:00\",\"2018-06-30T00:00:00\",\"2018-07-31T00:00:00\",\"2018-08-31T00:00:00\",\"2018-09-30T00:00:00\",\"2018-10-31T00:00:00\",\"2018-11-30T00:00:00\",\"2018-12-31T00:00:00\",\"2019-01-31T00:00:00\",\"2019-02-28T00:00:00\",\"2019-03-31T00:00:00\",\"2019-04-30T00:00:00\",\"2019-05-31T00:00:00\",\"2019-06-30T00:00:00\",\"2019-07-31T00:00:00\",\"2019-08-31T00:00:00\",\"2019-09-30T00:00:00\",\"2019-10-31T00:00:00\"],\"xaxis\":\"x\",\"y\":[878.0300000000002,1001.9,779.275,698.5,628.7800000000001,548.225,491.9,583.8499999999999,887.8199999999999,1856.8149999999996,723.8,1015.66,1044.2400000000002,953.252,1084.85,940.17,765.9000000000001,746.788,708.8280000000001,790.788,852.125,1574.3350000000007,1277.725,1258.3490000000002,1476.3240000000003,1224.8620000000003,1150.7000000000005,998.3370000000004,997.1500000000004,760.05,652.3619999999999,753.0500000000002,1118.699,1617.275000000001,1062.6860000000004,1624.3350000000005,0.0,526.3500000000001,612.5000000000002,540.1999999999998,547.9399999999998,496.1,479.35,549.3,863.7500000000002,1184.3500000000004,867.8990000000001,1007.18,1134.325,1255.3740000000007,999.1230000000004,836.0369999999999,644.6480000000004,584.343,679.3499999999999,733.838,1058.2620000000002,1129.275,995.15,1213.95,1660.6120000000012,1001.2120000000004,941.05,647.6500000000002,703.5620000000001,609.9999999999999,649.8,518.0999999999999,984.48,295.15000000000003],\"yaxis\":\"y\",\"type\":\"scatter\"},{\"hovertemplate\":\"Drug=N05B\\u003cbr\\u003eDate=%{x}\\u003cbr\\u003eSales Quantity=%{y}\\u003cextra\\u003e\\u003c\\u002fextra\\u003e\",\"legendgroup\":\"N05B\",\"line\":{\"color\":\"#FFA15A\",\"dash\":\"solid\"},\"marker\":{\"symbol\":\"circle\"},\"mode\":\"lines\",\"name\":\"N05B\",\"orientation\":\"v\",\"showlegend\":true,\"x\":[\"2014-01-31T00:00:00\",\"2014-02-28T00:00:00\",\"2014-03-31T00:00:00\",\"2014-04-30T00:00:00\",\"2014-05-31T00:00:00\",\"2014-06-30T00:00:00\",\"2014-07-31T00:00:00\",\"2014-08-31T00:00:00\",\"2014-09-30T00:00:00\",\"2014-10-31T00:00:00\",\"2014-11-30T00:00:00\",\"2014-12-31T00:00:00\",\"2015-01-31T00:00:00\",\"2015-02-28T00:00:00\",\"2015-03-31T00:00:00\",\"2015-04-30T00:00:00\",\"2015-05-31T00:00:00\",\"2015-06-30T00:00:00\",\"2015-07-31T00:00:00\",\"2015-08-31T00:00:00\",\"2015-09-30T00:00:00\",\"2015-10-31T00:00:00\",\"2015-11-30T00:00:00\",\"2015-12-31T00:00:00\",\"2016-01-31T00:00:00\",\"2016-02-29T00:00:00\",\"2016-03-31T00:00:00\",\"2016-04-30T00:00:00\",\"2016-05-31T00:00:00\",\"2016-06-30T00:00:00\",\"2016-07-31T00:00:00\",\"2016-08-31T00:00:00\",\"2016-09-30T00:00:00\",\"2016-10-31T00:00:00\",\"2016-11-30T00:00:00\",\"2016-12-31T00:00:00\",\"2017-01-31T00:00:00\",\"2017-02-28T00:00:00\",\"2017-03-31T00:00:00\",\"2017-04-30T00:00:00\",\"2017-05-31T00:00:00\",\"2017-06-30T00:00:00\",\"2017-07-31T00:00:00\",\"2017-08-31T00:00:00\",\"2017-09-30T00:00:00\",\"2017-10-31T00:00:00\",\"2017-11-30T00:00:00\",\"2017-12-31T00:00:00\",\"2018-01-31T00:00:00\",\"2018-02-28T00:00:00\",\"2018-03-31T00:00:00\",\"2018-04-30T00:00:00\",\"2018-05-31T00:00:00\",\"2018-06-30T00:00:00\",\"2018-07-31T00:00:00\",\"2018-08-31T00:00:00\",\"2018-09-30T00:00:00\",\"2018-10-31T00:00:00\",\"2018-11-30T00:00:00\",\"2018-12-31T00:00:00\",\"2019-01-31T00:00:00\",\"2019-02-28T00:00:00\",\"2019-03-31T00:00:00\",\"2019-04-30T00:00:00\",\"2019-05-31T00:00:00\",\"2019-06-30T00:00:00\",\"2019-07-31T00:00:00\",\"2019-08-31T00:00:00\",\"2019-09-30T00:00:00\",\"2019-10-31T00:00:00\"],\"xaxis\":\"x\",\"y\":[354.0,347.0,232.0,209.0,270.0,323.0,348.0,420.0,399.0,472.0,489.0,492.0,463.0,243.0,208.0,192.0,194.0,217.0,203.0,265.5,243.5,222.0,228.0,286.0,248.0,239.0,250.0,318.0,275.0,311.0,240.0,275.5,307.0,312.0,246.0,257.0,1.0,144.0,165.0,132.0,148.0,163.0,219.0,239.0,223.0,226.0,192.0,226.0,229.0,268.0,381.0,289.0,259.0,248.0,283.0,253.0,263.0,287.0,252.2,254.0,295.2,249.4,301.4,299.4,265.79999999999995,193.0,250.6,237.0,227.8,86.0],\"yaxis\":\"y\",\"type\":\"scatter\"},{\"hovertemplate\":\"Drug=N05C\\u003cbr\\u003eDate=%{x}\\u003cbr\\u003eSales Quantity=%{y}\\u003cextra\\u003e\\u003c\\u002fextra\\u003e\",\"legendgroup\":\"N05C\",\"line\":{\"color\":\"#19d3f3\",\"dash\":\"solid\"},\"marker\":{\"symbol\":\"circle\"},\"mode\":\"lines\",\"name\":\"N05C\",\"orientation\":\"v\",\"showlegend\":true,\"x\":[\"2014-01-31T00:00:00\",\"2014-02-28T00:00:00\",\"2014-03-31T00:00:00\",\"2014-04-30T00:00:00\",\"2014-05-31T00:00:00\",\"2014-06-30T00:00:00\",\"2014-07-31T00:00:00\",\"2014-08-31T00:00:00\",\"2014-09-30T00:00:00\",\"2014-10-31T00:00:00\",\"2014-11-30T00:00:00\",\"2014-12-31T00:00:00\",\"2015-01-31T00:00:00\",\"2015-02-28T00:00:00\",\"2015-03-31T00:00:00\",\"2015-04-30T00:00:00\",\"2015-05-31T00:00:00\",\"2015-06-30T00:00:00\",\"2015-07-31T00:00:00\",\"2015-08-31T00:00:00\",\"2015-09-30T00:00:00\",\"2015-10-31T00:00:00\",\"2015-11-30T00:00:00\",\"2015-12-31T00:00:00\",\"2016-01-31T00:00:00\",\"2016-02-29T00:00:00\",\"2016-03-31T00:00:00\",\"2016-04-30T00:00:00\",\"2016-05-31T00:00:00\",\"2016-06-30T00:00:00\",\"2016-07-31T00:00:00\",\"2016-08-31T00:00:00\",\"2016-09-30T00:00:00\",\"2016-10-31T00:00:00\",\"2016-11-30T00:00:00\",\"2016-12-31T00:00:00\",\"2017-01-31T00:00:00\",\"2017-02-28T00:00:00\",\"2017-03-31T00:00:00\",\"2017-04-30T00:00:00\",\"2017-05-31T00:00:00\",\"2017-06-30T00:00:00\",\"2017-07-31T00:00:00\",\"2017-08-31T00:00:00\",\"2017-09-30T00:00:00\",\"2017-10-31T00:00:00\",\"2017-11-30T00:00:00\",\"2017-12-31T00:00:00\",\"2018-01-31T00:00:00\",\"2018-02-28T00:00:00\",\"2018-03-31T00:00:00\",\"2018-04-30T00:00:00\",\"2018-05-31T00:00:00\",\"2018-06-30T00:00:00\",\"2018-07-31T00:00:00\",\"2018-08-31T00:00:00\",\"2018-09-30T00:00:00\",\"2018-10-31T00:00:00\",\"2018-11-30T00:00:00\",\"2018-12-31T00:00:00\",\"2019-01-31T00:00:00\",\"2019-02-28T00:00:00\",\"2019-03-31T00:00:00\",\"2019-04-30T00:00:00\",\"2019-05-31T00:00:00\",\"2019-06-30T00:00:00\",\"2019-07-31T00:00:00\",\"2019-08-31T00:00:00\",\"2019-09-30T00:00:00\",\"2019-10-31T00:00:00\"],\"xaxis\":\"x\",\"y\":[50.0,31.0,20.0,18.0,23.0,23.0,21.0,29.0,14.0,30.0,19.0,25.0,24.0,9.0,13.0,5.0,10.0,12.0,6.0,15.0,11.0,8.0,18.0,28.0,24.0,20.0,13.0,18.0,18.0,20.0,8.0,12.0,18.0,11.0,27.0,18.0,0.0,7.0,9.0,9.0,23.0,8.0,15.0,12.0,23.0,15.0,15.0,6.0,11.0,12.0,42.0,21.0,13.0,18.0,19.0,20.0,12.0,25.0,22.0,27.0,23.0,12.0,19.0,22.0,26.0,25.0,20.0,26.0,16.0,7.0],\"yaxis\":\"y\",\"type\":\"scatter\"},{\"hovertemplate\":\"Drug=R03\\u003cbr\\u003eDate=%{x}\\u003cbr\\u003eSales Quantity=%{y}\\u003cextra\\u003e\\u003c\\u002fextra\\u003e\",\"legendgroup\":\"R03\",\"line\":{\"color\":\"#FF6692\",\"dash\":\"solid\"},\"marker\":{\"symbol\":\"circle\"},\"mode\":\"lines\",\"name\":\"R03\",\"orientation\":\"v\",\"showlegend\":true,\"x\":[\"2014-01-31T00:00:00\",\"2014-02-28T00:00:00\",\"2014-03-31T00:00:00\",\"2014-04-30T00:00:00\",\"2014-05-31T00:00:00\",\"2014-06-30T00:00:00\",\"2014-07-31T00:00:00\",\"2014-08-31T00:00:00\",\"2014-09-30T00:00:00\",\"2014-10-31T00:00:00\",\"2014-11-30T00:00:00\",\"2014-12-31T00:00:00\",\"2015-01-31T00:00:00\",\"2015-02-28T00:00:00\",\"2015-03-31T00:00:00\",\"2015-04-30T00:00:00\",\"2015-05-31T00:00:00\",\"2015-06-30T00:00:00\",\"2015-07-31T00:00:00\",\"2015-08-31T00:00:00\",\"2015-09-30T00:00:00\",\"2015-10-31T00:00:00\",\"2015-11-30T00:00:00\",\"2015-12-31T00:00:00\",\"2016-01-31T00:00:00\",\"2016-02-29T00:00:00\",\"2016-03-31T00:00:00\",\"2016-04-30T00:00:00\",\"2016-05-31T00:00:00\",\"2016-06-30T00:00:00\",\"2016-07-31T00:00:00\",\"2016-08-31T00:00:00\",\"2016-09-30T00:00:00\",\"2016-10-31T00:00:00\",\"2016-11-30T00:00:00\",\"2016-12-31T00:00:00\",\"2017-01-31T00:00:00\",\"2017-02-28T00:00:00\",\"2017-03-31T00:00:00\",\"2017-04-30T00:00:00\",\"2017-05-31T00:00:00\",\"2017-06-30T00:00:00\",\"2017-07-31T00:00:00\",\"2017-08-31T00:00:00\",\"2017-09-30T00:00:00\",\"2017-10-31T00:00:00\",\"2017-11-30T00:00:00\",\"2017-12-31T00:00:00\",\"2018-01-31T00:00:00\",\"2018-02-28T00:00:00\",\"2018-03-31T00:00:00\",\"2018-04-30T00:00:00\",\"2018-05-31T00:00:00\",\"2018-06-30T00:00:00\",\"2018-07-31T00:00:00\",\"2018-08-31T00:00:00\",\"2018-09-30T00:00:00\",\"2018-10-31T00:00:00\",\"2018-11-30T00:00:00\",\"2018-12-31T00:00:00\",\"2019-01-31T00:00:00\",\"2019-02-28T00:00:00\",\"2019-03-31T00:00:00\",\"2019-04-30T00:00:00\",\"2019-05-31T00:00:00\",\"2019-06-30T00:00:00\",\"2019-07-31T00:00:00\",\"2019-08-31T00:00:00\",\"2019-09-30T00:00:00\",\"2019-10-31T00:00:00\"],\"xaxis\":\"x\",\"y\":[112.0,122.0,112.0,97.0,107.0,57.0,61.0,37.0,115.0,182.0,112.0,163.0,177.25,208.0,195.0,97.0,100.0,193.0,60.0,45.0,91.0,184.0,195.0,231.0,174.0,245.0,253.0,216.0,131.0,127.0,109.0,116.0,121.0,220.0,150.0,275.0,0.0,117.0,139.0,209.0,128.0,163.0,115.0,75.0,139.0,247.0,196.0,204.0,219.0,253.0,269.0,229.0,192.0,101.0,90.0,159.0,205.0,353.0,311.0,384.0,386.0,226.0,257.0,259.0,322.0,142.0,115.0,145.0,161.0,37.0],\"yaxis\":\"y\",\"type\":\"scatter\"},{\"hovertemplate\":\"Drug=R06\\u003cbr\\u003eDate=%{x}\\u003cbr\\u003eSales Quantity=%{y}\\u003cextra\\u003e\\u003c\\u002fextra\\u003e\",\"legendgroup\":\"R06\",\"line\":{\"color\":\"#B6E880\",\"dash\":\"solid\"},\"marker\":{\"symbol\":\"circle\"},\"mode\":\"lines\",\"name\":\"R06\",\"orientation\":\"v\",\"showlegend\":true,\"x\":[\"2014-01-31T00:00:00\",\"2014-02-28T00:00:00\",\"2014-03-31T00:00:00\",\"2014-04-30T00:00:00\",\"2014-05-31T00:00:00\",\"2014-06-30T00:00:00\",\"2014-07-31T00:00:00\",\"2014-08-31T00:00:00\",\"2014-09-30T00:00:00\",\"2014-10-31T00:00:00\",\"2014-11-30T00:00:00\",\"2014-12-31T00:00:00\",\"2015-01-31T00:00:00\",\"2015-02-28T00:00:00\",\"2015-03-31T00:00:00\",\"2015-04-30T00:00:00\",\"2015-05-31T00:00:00\",\"2015-06-30T00:00:00\",\"2015-07-31T00:00:00\",\"2015-08-31T00:00:00\",\"2015-09-30T00:00:00\",\"2015-10-31T00:00:00\",\"2015-11-30T00:00:00\",\"2015-12-31T00:00:00\",\"2016-01-31T00:00:00\",\"2016-02-29T00:00:00\",\"2016-03-31T00:00:00\",\"2016-04-30T00:00:00\",\"2016-05-31T00:00:00\",\"2016-06-30T00:00:00\",\"2016-07-31T00:00:00\",\"2016-08-31T00:00:00\",\"2016-09-30T00:00:00\",\"2016-10-31T00:00:00\",\"2016-11-30T00:00:00\",\"2016-12-31T00:00:00\",\"2017-01-31T00:00:00\",\"2017-02-28T00:00:00\",\"2017-03-31T00:00:00\",\"2017-04-30T00:00:00\",\"2017-05-31T00:00:00\",\"2017-06-30T00:00:00\",\"2017-07-31T00:00:00\",\"2017-08-31T00:00:00\",\"2017-09-30T00:00:00\",\"2017-10-31T00:00:00\",\"2017-11-30T00:00:00\",\"2017-12-31T00:00:00\",\"2018-01-31T00:00:00\",\"2018-02-28T00:00:00\",\"2018-03-31T00:00:00\",\"2018-04-30T00:00:00\",\"2018-05-31T00:00:00\",\"2018-06-30T00:00:00\",\"2018-07-31T00:00:00\",\"2018-08-31T00:00:00\",\"2018-09-30T00:00:00\",\"2018-10-31T00:00:00\",\"2018-11-30T00:00:00\",\"2018-12-31T00:00:00\",\"2019-01-31T00:00:00\",\"2019-02-28T00:00:00\",\"2019-03-31T00:00:00\",\"2019-04-30T00:00:00\",\"2019-05-31T00:00:00\",\"2019-06-30T00:00:00\",\"2019-07-31T00:00:00\",\"2019-08-31T00:00:00\",\"2019-09-30T00:00:00\",\"2019-10-31T00:00:00\"],\"xaxis\":\"x\",\"y\":[48.2,36.2,85.4,73.7,123.7,109.3,69.1,70.80000000000001,58.8,74.5,45.2,33.4,42.0,47.0,54.0,112.0,159.5,125.79999999999998,130.3,83.7,71.0,72.0,44.0,41.73,56.5,58.0,97.84,162.39999999999998,137.10000000000002,134.8,116.83,85.3,69.3,60.9,51.2,34.9,0.0,30.6,100.1,122.4,161.81,151.89999999999998,81.1,60.1,66.9,51.0,46.6,47.1,49.5,39.06,85.5,197.1,213.04,120.8,122.2,103.1,88.10000000000001,76.9,48.400000000000006,53.1,41.3,69.5,169.49999999999997,179.10000000000002,135.4,156.04,105.2,97.3,109.1,11.13],\"yaxis\":\"y\",\"type\":\"scatter\"}],                        {\"template\":{\"data\":{\"histogram2dcontour\":[{\"type\":\"histogram2dcontour\",\"colorbar\":{\"outlinewidth\":0,\"ticks\":\"\"},\"colorscale\":[[0.0,\"#0d0887\"],[0.1111111111111111,\"#46039f\"],[0.2222222222222222,\"#7201a8\"],[0.3333333333333333,\"#9c179e\"],[0.4444444444444444,\"#bd3786\"],[0.5555555555555556,\"#d8576b\"],[0.6666666666666666,\"#ed7953\"],[0.7777777777777778,\"#fb9f3a\"],[0.8888888888888888,\"#fdca26\"],[1.0,\"#f0f921\"]]}],\"choropleth\":[{\"type\":\"choropleth\",\"colorbar\":{\"outlinewidth\":0,\"ticks\":\"\"}}],\"histogram2d\":[{\"type\":\"histogram2d\",\"colorbar\":{\"outlinewidth\":0,\"ticks\":\"\"},\"colorscale\":[[0.0,\"#0d0887\"],[0.1111111111111111,\"#46039f\"],[0.2222222222222222,\"#7201a8\"],[0.3333333333333333,\"#9c179e\"],[0.4444444444444444,\"#bd3786\"],[0.5555555555555556,\"#d8576b\"],[0.6666666666666666,\"#ed7953\"],[0.7777777777777778,\"#fb9f3a\"],[0.8888888888888888,\"#fdca26\"],[1.0,\"#f0f921\"]]}],\"heatmap\":[{\"type\":\"heatmap\",\"colorbar\":{\"outlinewidth\":0,\"ticks\":\"\"},\"colorscale\":[[0.0,\"#0d0887\"],[0.1111111111111111,\"#46039f\"],[0.2222222222222222,\"#7201a8\"],[0.3333333333333333,\"#9c179e\"],[0.4444444444444444,\"#bd3786\"],[0.5555555555555556,\"#d8576b\"],[0.6666666666666666,\"#ed7953\"],[0.7777777777777778,\"#fb9f3a\"],[0.8888888888888888,\"#fdca26\"],[1.0,\"#f0f921\"]]}],\"heatmapgl\":[{\"type\":\"heatmapgl\",\"colorbar\":{\"outlinewidth\":0,\"ticks\":\"\"},\"colorscale\":[[0.0,\"#0d0887\"],[0.1111111111111111,\"#46039f\"],[0.2222222222222222,\"#7201a8\"],[0.3333333333333333,\"#9c179e\"],[0.4444444444444444,\"#bd3786\"],[0.5555555555555556,\"#d8576b\"],[0.6666666666666666,\"#ed7953\"],[0.7777777777777778,\"#fb9f3a\"],[0.8888888888888888,\"#fdca26\"],[1.0,\"#f0f921\"]]}],\"contourcarpet\":[{\"type\":\"contourcarpet\",\"colorbar\":{\"outlinewidth\":0,\"ticks\":\"\"}}],\"contour\":[{\"type\":\"contour\",\"colorbar\":{\"outlinewidth\":0,\"ticks\":\"\"},\"colorscale\":[[0.0,\"#0d0887\"],[0.1111111111111111,\"#46039f\"],[0.2222222222222222,\"#7201a8\"],[0.3333333333333333,\"#9c179e\"],[0.4444444444444444,\"#bd3786\"],[0.5555555555555556,\"#d8576b\"],[0.6666666666666666,\"#ed7953\"],[0.7777777777777778,\"#fb9f3a\"],[0.8888888888888888,\"#fdca26\"],[1.0,\"#f0f921\"]]}],\"surface\":[{\"type\":\"surface\",\"colorbar\":{\"outlinewidth\":0,\"ticks\":\"\"},\"colorscale\":[[0.0,\"#0d0887\"],[0.1111111111111111,\"#46039f\"],[0.2222222222222222,\"#7201a8\"],[0.3333333333333333,\"#9c179e\"],[0.4444444444444444,\"#bd3786\"],[0.5555555555555556,\"#d8576b\"],[0.6666666666666666,\"#ed7953\"],[0.7777777777777778,\"#fb9f3a\"],[0.8888888888888888,\"#fdca26\"],[1.0,\"#f0f921\"]]}],\"mesh3d\":[{\"type\":\"mesh3d\",\"colorbar\":{\"outlinewidth\":0,\"ticks\":\"\"}}],\"scatter\":[{\"fillpattern\":{\"fillmode\":\"overlay\",\"size\":10,\"solidity\":0.2},\"type\":\"scatter\"}],\"parcoords\":[{\"type\":\"parcoords\",\"line\":{\"colorbar\":{\"outlinewidth\":0,\"ticks\":\"\"}}}],\"scatterpolargl\":[{\"type\":\"scatterpolargl\",\"marker\":{\"colorbar\":{\"outlinewidth\":0,\"ticks\":\"\"}}}],\"bar\":[{\"error_x\":{\"color\":\"#2a3f5f\"},\"error_y\":{\"color\":\"#2a3f5f\"},\"marker\":{\"line\":{\"color\":\"#E5ECF6\",\"width\":0.5},\"pattern\":{\"fillmode\":\"overlay\",\"size\":10,\"solidity\":0.2}},\"type\":\"bar\"}],\"scattergeo\":[{\"type\":\"scattergeo\",\"marker\":{\"colorbar\":{\"outlinewidth\":0,\"ticks\":\"\"}}}],\"scatterpolar\":[{\"type\":\"scatterpolar\",\"marker\":{\"colorbar\":{\"outlinewidth\":0,\"ticks\":\"\"}}}],\"histogram\":[{\"marker\":{\"pattern\":{\"fillmode\":\"overlay\",\"size\":10,\"solidity\":0.2}},\"type\":\"histogram\"}],\"scattergl\":[{\"type\":\"scattergl\",\"marker\":{\"colorbar\":{\"outlinewidth\":0,\"ticks\":\"\"}}}],\"scatter3d\":[{\"type\":\"scatter3d\",\"line\":{\"colorbar\":{\"outlinewidth\":0,\"ticks\":\"\"}},\"marker\":{\"colorbar\":{\"outlinewidth\":0,\"ticks\":\"\"}}}],\"scattermapbox\":[{\"type\":\"scattermapbox\",\"marker\":{\"colorbar\":{\"outlinewidth\":0,\"ticks\":\"\"}}}],\"scatterternary\":[{\"type\":\"scatterternary\",\"marker\":{\"colorbar\":{\"outlinewidth\":0,\"ticks\":\"\"}}}],\"scattercarpet\":[{\"type\":\"scattercarpet\",\"marker\":{\"colorbar\":{\"outlinewidth\":0,\"ticks\":\"\"}}}],\"carpet\":[{\"aaxis\":{\"endlinecolor\":\"#2a3f5f\",\"gridcolor\":\"white\",\"linecolor\":\"white\",\"minorgridcolor\":\"white\",\"startlinecolor\":\"#2a3f5f\"},\"baxis\":{\"endlinecolor\":\"#2a3f5f\",\"gridcolor\":\"white\",\"linecolor\":\"white\",\"minorgridcolor\":\"white\",\"startlinecolor\":\"#2a3f5f\"},\"type\":\"carpet\"}],\"table\":[{\"cells\":{\"fill\":{\"color\":\"#EBF0F8\"},\"line\":{\"color\":\"white\"}},\"header\":{\"fill\":{\"color\":\"#C8D4E3\"},\"line\":{\"color\":\"white\"}},\"type\":\"table\"}],\"barpolar\":[{\"marker\":{\"line\":{\"color\":\"#E5ECF6\",\"width\":0.5},\"pattern\":{\"fillmode\":\"overlay\",\"size\":10,\"solidity\":0.2}},\"type\":\"barpolar\"}],\"pie\":[{\"automargin\":true,\"type\":\"pie\"}]},\"layout\":{\"autotypenumbers\":\"strict\",\"colorway\":[\"#636efa\",\"#EF553B\",\"#00cc96\",\"#ab63fa\",\"#FFA15A\",\"#19d3f3\",\"#FF6692\",\"#B6E880\",\"#FF97FF\",\"#FECB52\"],\"font\":{\"color\":\"#2a3f5f\"},\"hovermode\":\"closest\",\"hoverlabel\":{\"align\":\"left\"},\"paper_bgcolor\":\"white\",\"plot_bgcolor\":\"#E5ECF6\",\"polar\":{\"bgcolor\":\"#E5ECF6\",\"angularaxis\":{\"gridcolor\":\"white\",\"linecolor\":\"white\",\"ticks\":\"\"},\"radialaxis\":{\"gridcolor\":\"white\",\"linecolor\":\"white\",\"ticks\":\"\"}},\"ternary\":{\"bgcolor\":\"#E5ECF6\",\"aaxis\":{\"gridcolor\":\"white\",\"linecolor\":\"white\",\"ticks\":\"\"},\"baxis\":{\"gridcolor\":\"white\",\"linecolor\":\"white\",\"ticks\":\"\"},\"caxis\":{\"gridcolor\":\"white\",\"linecolor\":\"white\",\"ticks\":\"\"}},\"coloraxis\":{\"colorbar\":{\"outlinewidth\":0,\"ticks\":\"\"}},\"colorscale\":{\"sequential\":[[0.0,\"#0d0887\"],[0.1111111111111111,\"#46039f\"],[0.2222222222222222,\"#7201a8\"],[0.3333333333333333,\"#9c179e\"],[0.4444444444444444,\"#bd3786\"],[0.5555555555555556,\"#d8576b\"],[0.6666666666666666,\"#ed7953\"],[0.7777777777777778,\"#fb9f3a\"],[0.8888888888888888,\"#fdca26\"],[1.0,\"#f0f921\"]],\"sequentialminus\":[[0.0,\"#0d0887\"],[0.1111111111111111,\"#46039f\"],[0.2222222222222222,\"#7201a8\"],[0.3333333333333333,\"#9c179e\"],[0.4444444444444444,\"#bd3786\"],[0.5555555555555556,\"#d8576b\"],[0.6666666666666666,\"#ed7953\"],[0.7777777777777778,\"#fb9f3a\"],[0.8888888888888888,\"#fdca26\"],[1.0,\"#f0f921\"]],\"diverging\":[[0,\"#8e0152\"],[0.1,\"#c51b7d\"],[0.2,\"#de77ae\"],[0.3,\"#f1b6da\"],[0.4,\"#fde0ef\"],[0.5,\"#f7f7f7\"],[0.6,\"#e6f5d0\"],[0.7,\"#b8e186\"],[0.8,\"#7fbc41\"],[0.9,\"#4d9221\"],[1,\"#276419\"]]},\"xaxis\":{\"gridcolor\":\"white\",\"linecolor\":\"white\",\"ticks\":\"\",\"title\":{\"standoff\":15},\"zerolinecolor\":\"white\",\"automargin\":true,\"zerolinewidth\":2},\"yaxis\":{\"gridcolor\":\"white\",\"linecolor\":\"white\",\"ticks\":\"\",\"title\":{\"standoff\":15},\"zerolinecolor\":\"white\",\"automargin\":true,\"zerolinewidth\":2},\"scene\":{\"xaxis\":{\"backgroundcolor\":\"#E5ECF6\",\"gridcolor\":\"white\",\"linecolor\":\"white\",\"showbackground\":true,\"ticks\":\"\",\"zerolinecolor\":\"white\",\"gridwidth\":2},\"yaxis\":{\"backgroundcolor\":\"#E5ECF6\",\"gridcolor\":\"white\",\"linecolor\":\"white\",\"showbackground\":true,\"ticks\":\"\",\"zerolinecolor\":\"white\",\"gridwidth\":2},\"zaxis\":{\"backgroundcolor\":\"#E5ECF6\",\"gridcolor\":\"white\",\"linecolor\":\"white\",\"showbackground\":true,\"ticks\":\"\",\"zerolinecolor\":\"white\",\"gridwidth\":2}},\"shapedefaults\":{\"line\":{\"color\":\"#2a3f5f\"}},\"annotationdefaults\":{\"arrowcolor\":\"#2a3f5f\",\"arrowhead\":0,\"arrowwidth\":1},\"geo\":{\"bgcolor\":\"white\",\"landcolor\":\"#E5ECF6\",\"subunitcolor\":\"white\",\"showland\":true,\"showlakes\":true,\"lakecolor\":\"white\"},\"title\":{\"x\":0.05},\"mapbox\":{\"style\":\"light\"}}},\"xaxis\":{\"anchor\":\"y\",\"domain\":[0.0,1.0],\"title\":{\"text\":\"Date\"}},\"yaxis\":{\"anchor\":\"x\",\"domain\":[0.0,1.0],\"title\":{\"text\":\"Sales Quantity\"}},\"legend\":{\"title\":{\"text\":\"Drug\"},\"tracegroupgap\":0},\"title\":{\"text\":\"Monthly Sales Quantity of Drugs\"}},                        {\"responsive\": true}                    ).then(function(){\n",
       "                            \n",
       "var gd = document.getElementById('43b7c6e4-a517-4573-bcd6-614b4a571f47');\n",
       "var x = new MutationObserver(function (mutations, observer) {{\n",
       "        var display = window.getComputedStyle(gd).display;\n",
       "        if (!display || display === 'none') {{\n",
       "            console.log([gd, 'removed!']);\n",
       "            Plotly.purge(gd);\n",
       "            observer.disconnect();\n",
       "        }}\n",
       "}});\n",
       "\n",
       "// Listen for the removal of the full notebook cells\n",
       "var notebookContainer = gd.closest('#notebook-container');\n",
       "if (notebookContainer) {{\n",
       "    x.observe(notebookContainer, {childList: true});\n",
       "}}\n",
       "\n",
       "// Listen for the clearing of the current output cell\n",
       "var outputEl = gd.closest('.output');\n",
       "if (outputEl) {{\n",
       "    x.observe(outputEl, {childList: true});\n",
       "}}\n",
       "\n",
       "                        })                };                });            </script>        </div>"
      ]
     },
     "metadata": {},
     "output_type": "display_data"
    }
   ],
   "source": [
    "import plotly.express as px\n",
    "\n",
    "# Plot the graph on drug basis\n",
    "fig = px.line(salesmonthly_new, x='datum', y='Quantity', color='Drug', \n",
    "              title='Monthly Sales Quantity of Drugs', labels={'datum': 'Date', 'Quantity': 'Sales Quantity'})\n",
    "\n",
    "# Show the plot\n",
    "fig.show()"
   ]
  },
  {
   "cell_type": "code",
   "execution_count": 19,
   "id": "a38102ea",
   "metadata": {
    "execution": {
     "iopub.execute_input": "2024-04-11T16:58:26.527912Z",
     "iopub.status.busy": "2024-04-11T16:58:26.527451Z",
     "iopub.status.idle": "2024-04-11T16:58:26.532488Z",
     "shell.execute_reply": "2024-04-11T16:58:26.531327Z"
    },
    "papermill": {
     "duration": 0.022861,
     "end_time": "2024-04-11T16:58:26.534670",
     "exception": false,
     "start_time": "2024-04-11T16:58:26.511809",
     "status": "completed"
    },
    "tags": []
   },
   "outputs": [],
   "source": [
    "from sklearn.preprocessing import LabelEncoder\n",
    "le = LabelEncoder()"
   ]
  },
  {
   "cell_type": "code",
   "execution_count": 20,
   "id": "a3b72c7a",
   "metadata": {
    "execution": {
     "iopub.execute_input": "2024-04-11T16:58:26.566370Z",
     "iopub.status.busy": "2024-04-11T16:58:26.565916Z",
     "iopub.status.idle": "2024-04-11T16:58:26.579999Z",
     "shell.execute_reply": "2024-04-11T16:58:26.578864Z"
    },
    "papermill": {
     "duration": 0.032982,
     "end_time": "2024-04-11T16:58:26.582195",
     "exception": false,
     "start_time": "2024-04-11T16:58:26.549213",
     "status": "completed"
    },
    "tags": []
   },
   "outputs": [
    {
     "data": {
      "text/html": [
       "<div>\n",
       "<style scoped>\n",
       "    .dataframe tbody tr th:only-of-type {\n",
       "        vertical-align: middle;\n",
       "    }\n",
       "\n",
       "    .dataframe tbody tr th {\n",
       "        vertical-align: top;\n",
       "    }\n",
       "\n",
       "    .dataframe thead th {\n",
       "        text-align: right;\n",
       "    }\n",
       "</style>\n",
       "<table border=\"1\" class=\"dataframe\">\n",
       "  <thead>\n",
       "    <tr style=\"text-align: right;\">\n",
       "      <th></th>\n",
       "      <th>datum</th>\n",
       "      <th>Drug</th>\n",
       "      <th>Quantity</th>\n",
       "    </tr>\n",
       "  </thead>\n",
       "  <tbody>\n",
       "    <tr>\n",
       "      <th>0</th>\n",
       "      <td>2014-01-31</td>\n",
       "      <td>0</td>\n",
       "      <td>127.69</td>\n",
       "    </tr>\n",
       "    <tr>\n",
       "      <th>1</th>\n",
       "      <td>2014-02-28</td>\n",
       "      <td>0</td>\n",
       "      <td>133.32</td>\n",
       "    </tr>\n",
       "    <tr>\n",
       "      <th>2</th>\n",
       "      <td>2014-03-31</td>\n",
       "      <td>0</td>\n",
       "      <td>137.44</td>\n",
       "    </tr>\n",
       "    <tr>\n",
       "      <th>3</th>\n",
       "      <td>2014-04-30</td>\n",
       "      <td>0</td>\n",
       "      <td>113.10</td>\n",
       "    </tr>\n",
       "    <tr>\n",
       "      <th>4</th>\n",
       "      <td>2014-05-31</td>\n",
       "      <td>0</td>\n",
       "      <td>101.79</td>\n",
       "    </tr>\n",
       "    <tr>\n",
       "      <th>...</th>\n",
       "      <td>...</td>\n",
       "      <td>...</td>\n",
       "      <td>...</td>\n",
       "    </tr>\n",
       "    <tr>\n",
       "      <th>555</th>\n",
       "      <td>2019-06-30</td>\n",
       "      <td>7</td>\n",
       "      <td>156.04</td>\n",
       "    </tr>\n",
       "    <tr>\n",
       "      <th>556</th>\n",
       "      <td>2019-07-31</td>\n",
       "      <td>7</td>\n",
       "      <td>105.20</td>\n",
       "    </tr>\n",
       "    <tr>\n",
       "      <th>557</th>\n",
       "      <td>2019-08-31</td>\n",
       "      <td>7</td>\n",
       "      <td>97.30</td>\n",
       "    </tr>\n",
       "    <tr>\n",
       "      <th>558</th>\n",
       "      <td>2019-09-30</td>\n",
       "      <td>7</td>\n",
       "      <td>109.10</td>\n",
       "    </tr>\n",
       "    <tr>\n",
       "      <th>559</th>\n",
       "      <td>2019-10-31</td>\n",
       "      <td>7</td>\n",
       "      <td>11.13</td>\n",
       "    </tr>\n",
       "  </tbody>\n",
       "</table>\n",
       "<p>560 rows × 3 columns</p>\n",
       "</div>"
      ],
      "text/plain": [
       "         datum  Drug  Quantity\n",
       "0   2014-01-31     0    127.69\n",
       "1   2014-02-28     0    133.32\n",
       "2   2014-03-31     0    137.44\n",
       "3   2014-04-30     0    113.10\n",
       "4   2014-05-31     0    101.79\n",
       "..         ...   ...       ...\n",
       "555 2019-06-30     7    156.04\n",
       "556 2019-07-31     7    105.20\n",
       "557 2019-08-31     7     97.30\n",
       "558 2019-09-30     7    109.10\n",
       "559 2019-10-31     7     11.13\n",
       "\n",
       "[560 rows x 3 columns]"
      ]
     },
     "execution_count": 20,
     "metadata": {},
     "output_type": "execute_result"
    }
   ],
   "source": [
    "# salesmonthly_new['datum'] = le.fit_transform(salesmonthly_new['datum'])\n",
    "salesmonthly_new['Drug'] = le.fit_transform(salesmonthly_new['Drug'])\n",
    "salesmonthly_new"
   ]
  },
  {
   "cell_type": "code",
   "execution_count": 21,
   "id": "0f97ba11",
   "metadata": {
    "execution": {
     "iopub.execute_input": "2024-04-11T16:58:26.613210Z",
     "iopub.status.busy": "2024-04-11T16:58:26.612763Z",
     "iopub.status.idle": "2024-04-11T16:58:26.620736Z",
     "shell.execute_reply": "2024-04-11T16:58:26.618559Z"
    },
    "papermill": {
     "duration": 0.026311,
     "end_time": "2024-04-11T16:58:26.623114",
     "exception": false,
     "start_time": "2024-04-11T16:58:26.596803",
     "status": "completed"
    },
    "tags": []
   },
   "outputs": [],
   "source": [
    "# Create a new index column\n",
    "salesmonthly_new['Index'] = range(len(salesmonthly_new))\n",
    "\n",
    "# Set 'Index' as the index\n",
    "salesmonthly_new.set_index('Index', inplace=True)"
   ]
  },
  {
   "cell_type": "code",
   "execution_count": 22,
   "id": "1b8a66a4",
   "metadata": {
    "execution": {
     "iopub.execute_input": "2024-04-11T16:58:26.654003Z",
     "iopub.status.busy": "2024-04-11T16:58:26.653544Z",
     "iopub.status.idle": "2024-04-11T16:58:26.666275Z",
     "shell.execute_reply": "2024-04-11T16:58:26.665131Z"
    },
    "papermill": {
     "duration": 0.030658,
     "end_time": "2024-04-11T16:58:26.668381",
     "exception": false,
     "start_time": "2024-04-11T16:58:26.637723",
     "status": "completed"
    },
    "tags": []
   },
   "outputs": [
    {
     "data": {
      "text/html": [
       "<div>\n",
       "<style scoped>\n",
       "    .dataframe tbody tr th:only-of-type {\n",
       "        vertical-align: middle;\n",
       "    }\n",
       "\n",
       "    .dataframe tbody tr th {\n",
       "        vertical-align: top;\n",
       "    }\n",
       "\n",
       "    .dataframe thead th {\n",
       "        text-align: right;\n",
       "    }\n",
       "</style>\n",
       "<table border=\"1\" class=\"dataframe\">\n",
       "  <thead>\n",
       "    <tr style=\"text-align: right;\">\n",
       "      <th></th>\n",
       "      <th>datum</th>\n",
       "      <th>Drug</th>\n",
       "      <th>Quantity</th>\n",
       "    </tr>\n",
       "    <tr>\n",
       "      <th>Index</th>\n",
       "      <th></th>\n",
       "      <th></th>\n",
       "      <th></th>\n",
       "    </tr>\n",
       "  </thead>\n",
       "  <tbody>\n",
       "    <tr>\n",
       "      <th>0</th>\n",
       "      <td>2014-01-31</td>\n",
       "      <td>0</td>\n",
       "      <td>127.69</td>\n",
       "    </tr>\n",
       "    <tr>\n",
       "      <th>1</th>\n",
       "      <td>2014-02-28</td>\n",
       "      <td>0</td>\n",
       "      <td>133.32</td>\n",
       "    </tr>\n",
       "    <tr>\n",
       "      <th>2</th>\n",
       "      <td>2014-03-31</td>\n",
       "      <td>0</td>\n",
       "      <td>137.44</td>\n",
       "    </tr>\n",
       "    <tr>\n",
       "      <th>3</th>\n",
       "      <td>2014-04-30</td>\n",
       "      <td>0</td>\n",
       "      <td>113.10</td>\n",
       "    </tr>\n",
       "    <tr>\n",
       "      <th>4</th>\n",
       "      <td>2014-05-31</td>\n",
       "      <td>0</td>\n",
       "      <td>101.79</td>\n",
       "    </tr>\n",
       "    <tr>\n",
       "      <th>...</th>\n",
       "      <td>...</td>\n",
       "      <td>...</td>\n",
       "      <td>...</td>\n",
       "    </tr>\n",
       "    <tr>\n",
       "      <th>555</th>\n",
       "      <td>2019-06-30</td>\n",
       "      <td>7</td>\n",
       "      <td>156.04</td>\n",
       "    </tr>\n",
       "    <tr>\n",
       "      <th>556</th>\n",
       "      <td>2019-07-31</td>\n",
       "      <td>7</td>\n",
       "      <td>105.20</td>\n",
       "    </tr>\n",
       "    <tr>\n",
       "      <th>557</th>\n",
       "      <td>2019-08-31</td>\n",
       "      <td>7</td>\n",
       "      <td>97.30</td>\n",
       "    </tr>\n",
       "    <tr>\n",
       "      <th>558</th>\n",
       "      <td>2019-09-30</td>\n",
       "      <td>7</td>\n",
       "      <td>109.10</td>\n",
       "    </tr>\n",
       "    <tr>\n",
       "      <th>559</th>\n",
       "      <td>2019-10-31</td>\n",
       "      <td>7</td>\n",
       "      <td>11.13</td>\n",
       "    </tr>\n",
       "  </tbody>\n",
       "</table>\n",
       "<p>560 rows × 3 columns</p>\n",
       "</div>"
      ],
      "text/plain": [
       "           datum  Drug  Quantity\n",
       "Index                           \n",
       "0     2014-01-31     0    127.69\n",
       "1     2014-02-28     0    133.32\n",
       "2     2014-03-31     0    137.44\n",
       "3     2014-04-30     0    113.10\n",
       "4     2014-05-31     0    101.79\n",
       "...          ...   ...       ...\n",
       "555   2019-06-30     7    156.04\n",
       "556   2019-07-31     7    105.20\n",
       "557   2019-08-31     7     97.30\n",
       "558   2019-09-30     7    109.10\n",
       "559   2019-10-31     7     11.13\n",
       "\n",
       "[560 rows x 3 columns]"
      ]
     },
     "execution_count": 22,
     "metadata": {},
     "output_type": "execute_result"
    }
   ],
   "source": [
    "salesmonthly_new"
   ]
  },
  {
   "cell_type": "markdown",
   "id": "79d75f38",
   "metadata": {
    "papermill": {
     "duration": 0.014849,
     "end_time": "2024-04-11T16:58:26.697996",
     "exception": false,
     "start_time": "2024-04-11T16:58:26.683147",
     "status": "completed"
    },
    "tags": []
   },
   "source": [
    "## **Model Fitting**"
   ]
  },
  {
   "cell_type": "code",
   "execution_count": 23,
   "id": "1fcd68d3",
   "metadata": {
    "execution": {
     "iopub.execute_input": "2024-04-11T16:58:26.729509Z",
     "iopub.status.busy": "2024-04-11T16:58:26.729079Z",
     "iopub.status.idle": "2024-04-11T16:58:26.735538Z",
     "shell.execute_reply": "2024-04-11T16:58:26.734527Z"
    },
    "papermill": {
     "duration": 0.024508,
     "end_time": "2024-04-11T16:58:26.737542",
     "exception": false,
     "start_time": "2024-04-11T16:58:26.713034",
     "status": "completed"
    },
    "tags": []
   },
   "outputs": [],
   "source": [
    "# Function to prepare data\n",
    "def prepare_data(time_data, n_features):\n",
    "    X, y = [], []\n",
    "    for i in range(len(time_data)):\n",
    "        end_ix = i + n_features\n",
    "        if end_ix > len(time_data) - 1:\n",
    "            break\n",
    "        X.append(time_data[i:end_ix])\n",
    "        y.append(time_data[end_ix])\n",
    "    return np.array(X), np.array(y)"
   ]
  },
  {
   "cell_type": "code",
   "execution_count": 24,
   "id": "c6201c8c",
   "metadata": {
    "execution": {
     "iopub.execute_input": "2024-04-11T16:58:26.769486Z",
     "iopub.status.busy": "2024-04-11T16:58:26.769099Z",
     "iopub.status.idle": "2024-04-11T16:58:26.774151Z",
     "shell.execute_reply": "2024-04-11T16:58:26.773085Z"
    },
    "papermill": {
     "duration": 0.024061,
     "end_time": "2024-04-11T16:58:26.776328",
     "exception": false,
     "start_time": "2024-04-11T16:58:26.752267",
     "status": "completed"
    },
    "tags": []
   },
   "outputs": [],
   "source": [
    "# Splitting data into train and test sets\n",
    "split_index = 550\n",
    "train = salesmonthly_new.iloc[:split_index]\n",
    "test = salesmonthly_new.iloc[split_index:]"
   ]
  },
  {
   "cell_type": "code",
   "execution_count": 25,
   "id": "ed403223",
   "metadata": {
    "execution": {
     "iopub.execute_input": "2024-04-11T16:58:26.880021Z",
     "iopub.status.busy": "2024-04-11T16:58:26.879585Z",
     "iopub.status.idle": "2024-04-11T16:58:26.887412Z",
     "shell.execute_reply": "2024-04-11T16:58:26.886322Z"
    },
    "papermill": {
     "duration": 0.02638,
     "end_time": "2024-04-11T16:58:26.889646",
     "exception": false,
     "start_time": "2024-04-11T16:58:26.863266",
     "status": "completed"
    },
    "tags": []
   },
   "outputs": [],
   "source": [
    "# Extract features and target\n",
    "X_train = train.drop(['datum'], axis=1).values\n",
    "y_train = train['Quantity'].values\n",
    "X_test = test.drop(['datum'], axis=1).values\n",
    "y_test = test['Quantity'].values"
   ]
  },
  {
   "cell_type": "code",
   "execution_count": 26,
   "id": "145bfda3",
   "metadata": {
    "execution": {
     "iopub.execute_input": "2024-04-11T16:58:26.922145Z",
     "iopub.status.busy": "2024-04-11T16:58:26.921670Z",
     "iopub.status.idle": "2024-04-11T16:58:26.928130Z",
     "shell.execute_reply": "2024-04-11T16:58:26.927040Z"
    },
    "papermill": {
     "duration": 0.025874,
     "end_time": "2024-04-11T16:58:26.930519",
     "exception": false,
     "start_time": "2024-04-11T16:58:26.904645",
     "status": "completed"
    },
    "tags": []
   },
   "outputs": [],
   "source": [
    "# Standardize features\n",
    "scaler = StandardScaler()\n",
    "X_train = scaler.fit_transform(X_train)\n",
    "X_test = scaler.transform(X_test)"
   ]
  },
  {
   "cell_type": "code",
   "execution_count": 27,
   "id": "d59a3aa0",
   "metadata": {
    "execution": {
     "iopub.execute_input": "2024-04-11T16:58:26.962367Z",
     "iopub.status.busy": "2024-04-11T16:58:26.961917Z",
     "iopub.status.idle": "2024-04-11T16:58:26.968159Z",
     "shell.execute_reply": "2024-04-11T16:58:26.966973Z"
    },
    "papermill": {
     "duration": 0.024832,
     "end_time": "2024-04-11T16:58:26.970314",
     "exception": false,
     "start_time": "2024-04-11T16:58:26.945482",
     "status": "completed"
    },
    "tags": []
   },
   "outputs": [],
   "source": [
    "# Normalize target variable\n",
    "scaler_y = StandardScaler()\n",
    "y_train = scaler_y.fit_transform(y_train.reshape(-1, 1)).flatten()\n",
    "y_test = scaler_y.transform(y_test.reshape(-1, 1)).flatten()"
   ]
  },
  {
   "cell_type": "code",
   "execution_count": 28,
   "id": "9de88c6d",
   "metadata": {
    "execution": {
     "iopub.execute_input": "2024-04-11T16:58:27.001727Z",
     "iopub.status.busy": "2024-04-11T16:58:27.001330Z",
     "iopub.status.idle": "2024-04-11T16:58:27.008447Z",
     "shell.execute_reply": "2024-04-11T16:58:27.007184Z"
    },
    "papermill": {
     "duration": 0.025288,
     "end_time": "2024-04-11T16:58:27.010373",
     "exception": false,
     "start_time": "2024-04-11T16:58:26.985085",
     "status": "completed"
    },
    "tags": []
   },
   "outputs": [],
   "source": [
    "# Split the data\n",
    "X_train, X_val, y_train, y_val = train_test_split(X_train, y_train, test_size=0.3, random_state=42)"
   ]
  },
  {
   "cell_type": "code",
   "execution_count": 29,
   "id": "253caac1",
   "metadata": {
    "execution": {
     "iopub.execute_input": "2024-04-11T16:58:27.041825Z",
     "iopub.status.busy": "2024-04-11T16:58:27.041408Z",
     "iopub.status.idle": "2024-04-11T16:58:27.359306Z",
     "shell.execute_reply": "2024-04-11T16:58:27.357995Z"
    },
    "papermill": {
     "duration": 0.337374,
     "end_time": "2024-04-11T16:58:27.362497",
     "exception": false,
     "start_time": "2024-04-11T16:58:27.025123",
     "status": "completed"
    },
    "tags": []
   },
   "outputs": [],
   "source": [
    "# Define the LSTM model architecture\n",
    "def create_lstm_model(input_shape, n_units=256, n_layers=3, dropout_rate=0.3):\n",
    "    model = Sequential()\n",
    "    for i in range(n_layers):\n",
    "        model.add(LSTM(units=n_units, activation='relu', return_sequences=True if i < n_layers - 1 else False,\n",
    "                       input_shape=input_shape))\n",
    "        model.add(BatchNormalization())\n",
    "        model.add(Dropout(dropout_rate))\n",
    "    model.add(Dense(1))  # Output layer\n",
    "    return model\n",
    "\n",
    "# Create the LSTM model\n",
    "n_features = X_train.shape[1]\n",
    "input_shape = (n_features, 1)\n",
    "model = create_lstm_model(input_shape)"
   ]
  },
  {
   "cell_type": "code",
   "execution_count": 30,
   "id": "40d0b3af",
   "metadata": {
    "execution": {
     "iopub.execute_input": "2024-04-11T16:58:27.394874Z",
     "iopub.status.busy": "2024-04-11T16:58:27.393826Z",
     "iopub.status.idle": "2024-04-11T16:58:27.419495Z",
     "shell.execute_reply": "2024-04-11T16:58:27.418724Z"
    },
    "papermill": {
     "duration": 0.043992,
     "end_time": "2024-04-11T16:58:27.421346",
     "exception": false,
     "start_time": "2024-04-11T16:58:27.377354",
     "status": "completed"
    },
    "tags": []
   },
   "outputs": [
    {
     "data": {
      "text/html": [
       "<pre style=\"white-space:pre;overflow-x:auto;line-height:normal;font-family:Menlo,'DejaVu Sans Mono',consolas,'Courier New',monospace\"><span style=\"font-weight: bold\">Model: \"sequential\"</span>\n",
       "</pre>\n"
      ],
      "text/plain": [
       "\u001b[1mModel: \"sequential\"\u001b[0m\n"
      ]
     },
     "metadata": {},
     "output_type": "display_data"
    },
    {
     "data": {
      "text/html": [
       "<pre style=\"white-space:pre;overflow-x:auto;line-height:normal;font-family:Menlo,'DejaVu Sans Mono',consolas,'Courier New',monospace\">┏━━━━━━━━━━━━━━━━━━━━━━━━━━━━━━━━━┳━━━━━━━━━━━━━━━━━━━━━━━━┳━━━━━━━━━━━━━━━┓\n",
       "┃<span style=\"font-weight: bold\"> Layer (type)                    </span>┃<span style=\"font-weight: bold\"> Output Shape           </span>┃<span style=\"font-weight: bold\">       Param # </span>┃\n",
       "┡━━━━━━━━━━━━━━━━━━━━━━━━━━━━━━━━━╇━━━━━━━━━━━━━━━━━━━━━━━━╇━━━━━━━━━━━━━━━┩\n",
       "│ lstm (<span style=\"color: #0087ff; text-decoration-color: #0087ff\">LSTM</span>)                     │ (<span style=\"color: #00d7ff; text-decoration-color: #00d7ff\">None</span>, <span style=\"color: #00af00; text-decoration-color: #00af00\">2</span>, <span style=\"color: #00af00; text-decoration-color: #00af00\">256</span>)         │       <span style=\"color: #00af00; text-decoration-color: #00af00\">264,192</span> │\n",
       "├─────────────────────────────────┼────────────────────────┼───────────────┤\n",
       "│ batch_normalization             │ (<span style=\"color: #00d7ff; text-decoration-color: #00d7ff\">None</span>, <span style=\"color: #00af00; text-decoration-color: #00af00\">2</span>, <span style=\"color: #00af00; text-decoration-color: #00af00\">256</span>)         │         <span style=\"color: #00af00; text-decoration-color: #00af00\">1,024</span> │\n",
       "│ (<span style=\"color: #0087ff; text-decoration-color: #0087ff\">BatchNormalization</span>)            │                        │               │\n",
       "├─────────────────────────────────┼────────────────────────┼───────────────┤\n",
       "│ dropout (<span style=\"color: #0087ff; text-decoration-color: #0087ff\">Dropout</span>)               │ (<span style=\"color: #00d7ff; text-decoration-color: #00d7ff\">None</span>, <span style=\"color: #00af00; text-decoration-color: #00af00\">2</span>, <span style=\"color: #00af00; text-decoration-color: #00af00\">256</span>)         │             <span style=\"color: #00af00; text-decoration-color: #00af00\">0</span> │\n",
       "├─────────────────────────────────┼────────────────────────┼───────────────┤\n",
       "│ lstm_1 (<span style=\"color: #0087ff; text-decoration-color: #0087ff\">LSTM</span>)                   │ (<span style=\"color: #00d7ff; text-decoration-color: #00d7ff\">None</span>, <span style=\"color: #00af00; text-decoration-color: #00af00\">2</span>, <span style=\"color: #00af00; text-decoration-color: #00af00\">256</span>)         │       <span style=\"color: #00af00; text-decoration-color: #00af00\">525,312</span> │\n",
       "├─────────────────────────────────┼────────────────────────┼───────────────┤\n",
       "│ batch_normalization_1           │ (<span style=\"color: #00d7ff; text-decoration-color: #00d7ff\">None</span>, <span style=\"color: #00af00; text-decoration-color: #00af00\">2</span>, <span style=\"color: #00af00; text-decoration-color: #00af00\">256</span>)         │         <span style=\"color: #00af00; text-decoration-color: #00af00\">1,024</span> │\n",
       "│ (<span style=\"color: #0087ff; text-decoration-color: #0087ff\">BatchNormalization</span>)            │                        │               │\n",
       "├─────────────────────────────────┼────────────────────────┼───────────────┤\n",
       "│ dropout_1 (<span style=\"color: #0087ff; text-decoration-color: #0087ff\">Dropout</span>)             │ (<span style=\"color: #00d7ff; text-decoration-color: #00d7ff\">None</span>, <span style=\"color: #00af00; text-decoration-color: #00af00\">2</span>, <span style=\"color: #00af00; text-decoration-color: #00af00\">256</span>)         │             <span style=\"color: #00af00; text-decoration-color: #00af00\">0</span> │\n",
       "├─────────────────────────────────┼────────────────────────┼───────────────┤\n",
       "│ lstm_2 (<span style=\"color: #0087ff; text-decoration-color: #0087ff\">LSTM</span>)                   │ (<span style=\"color: #00d7ff; text-decoration-color: #00d7ff\">None</span>, <span style=\"color: #00af00; text-decoration-color: #00af00\">256</span>)            │       <span style=\"color: #00af00; text-decoration-color: #00af00\">525,312</span> │\n",
       "├─────────────────────────────────┼────────────────────────┼───────────────┤\n",
       "│ batch_normalization_2           │ (<span style=\"color: #00d7ff; text-decoration-color: #00d7ff\">None</span>, <span style=\"color: #00af00; text-decoration-color: #00af00\">256</span>)            │         <span style=\"color: #00af00; text-decoration-color: #00af00\">1,024</span> │\n",
       "│ (<span style=\"color: #0087ff; text-decoration-color: #0087ff\">BatchNormalization</span>)            │                        │               │\n",
       "├─────────────────────────────────┼────────────────────────┼───────────────┤\n",
       "│ dropout_2 (<span style=\"color: #0087ff; text-decoration-color: #0087ff\">Dropout</span>)             │ (<span style=\"color: #00d7ff; text-decoration-color: #00d7ff\">None</span>, <span style=\"color: #00af00; text-decoration-color: #00af00\">256</span>)            │             <span style=\"color: #00af00; text-decoration-color: #00af00\">0</span> │\n",
       "├─────────────────────────────────┼────────────────────────┼───────────────┤\n",
       "│ dense (<span style=\"color: #0087ff; text-decoration-color: #0087ff\">Dense</span>)                   │ (<span style=\"color: #00d7ff; text-decoration-color: #00d7ff\">None</span>, <span style=\"color: #00af00; text-decoration-color: #00af00\">1</span>)              │           <span style=\"color: #00af00; text-decoration-color: #00af00\">257</span> │\n",
       "└─────────────────────────────────┴────────────────────────┴───────────────┘\n",
       "</pre>\n"
      ],
      "text/plain": [
       "┏━━━━━━━━━━━━━━━━━━━━━━━━━━━━━━━━━┳━━━━━━━━━━━━━━━━━━━━━━━━┳━━━━━━━━━━━━━━━┓\n",
       "┃\u001b[1m \u001b[0m\u001b[1mLayer (type)                   \u001b[0m\u001b[1m \u001b[0m┃\u001b[1m \u001b[0m\u001b[1mOutput Shape          \u001b[0m\u001b[1m \u001b[0m┃\u001b[1m \u001b[0m\u001b[1m      Param #\u001b[0m\u001b[1m \u001b[0m┃\n",
       "┡━━━━━━━━━━━━━━━━━━━━━━━━━━━━━━━━━╇━━━━━━━━━━━━━━━━━━━━━━━━╇━━━━━━━━━━━━━━━┩\n",
       "│ lstm (\u001b[38;5;33mLSTM\u001b[0m)                     │ (\u001b[38;5;45mNone\u001b[0m, \u001b[38;5;34m2\u001b[0m, \u001b[38;5;34m256\u001b[0m)         │       \u001b[38;5;34m264,192\u001b[0m │\n",
       "├─────────────────────────────────┼────────────────────────┼───────────────┤\n",
       "│ batch_normalization             │ (\u001b[38;5;45mNone\u001b[0m, \u001b[38;5;34m2\u001b[0m, \u001b[38;5;34m256\u001b[0m)         │         \u001b[38;5;34m1,024\u001b[0m │\n",
       "│ (\u001b[38;5;33mBatchNormalization\u001b[0m)            │                        │               │\n",
       "├─────────────────────────────────┼────────────────────────┼───────────────┤\n",
       "│ dropout (\u001b[38;5;33mDropout\u001b[0m)               │ (\u001b[38;5;45mNone\u001b[0m, \u001b[38;5;34m2\u001b[0m, \u001b[38;5;34m256\u001b[0m)         │             \u001b[38;5;34m0\u001b[0m │\n",
       "├─────────────────────────────────┼────────────────────────┼───────────────┤\n",
       "│ lstm_1 (\u001b[38;5;33mLSTM\u001b[0m)                   │ (\u001b[38;5;45mNone\u001b[0m, \u001b[38;5;34m2\u001b[0m, \u001b[38;5;34m256\u001b[0m)         │       \u001b[38;5;34m525,312\u001b[0m │\n",
       "├─────────────────────────────────┼────────────────────────┼───────────────┤\n",
       "│ batch_normalization_1           │ (\u001b[38;5;45mNone\u001b[0m, \u001b[38;5;34m2\u001b[0m, \u001b[38;5;34m256\u001b[0m)         │         \u001b[38;5;34m1,024\u001b[0m │\n",
       "│ (\u001b[38;5;33mBatchNormalization\u001b[0m)            │                        │               │\n",
       "├─────────────────────────────────┼────────────────────────┼───────────────┤\n",
       "│ dropout_1 (\u001b[38;5;33mDropout\u001b[0m)             │ (\u001b[38;5;45mNone\u001b[0m, \u001b[38;5;34m2\u001b[0m, \u001b[38;5;34m256\u001b[0m)         │             \u001b[38;5;34m0\u001b[0m │\n",
       "├─────────────────────────────────┼────────────────────────┼───────────────┤\n",
       "│ lstm_2 (\u001b[38;5;33mLSTM\u001b[0m)                   │ (\u001b[38;5;45mNone\u001b[0m, \u001b[38;5;34m256\u001b[0m)            │       \u001b[38;5;34m525,312\u001b[0m │\n",
       "├─────────────────────────────────┼────────────────────────┼───────────────┤\n",
       "│ batch_normalization_2           │ (\u001b[38;5;45mNone\u001b[0m, \u001b[38;5;34m256\u001b[0m)            │         \u001b[38;5;34m1,024\u001b[0m │\n",
       "│ (\u001b[38;5;33mBatchNormalization\u001b[0m)            │                        │               │\n",
       "├─────────────────────────────────┼────────────────────────┼───────────────┤\n",
       "│ dropout_2 (\u001b[38;5;33mDropout\u001b[0m)             │ (\u001b[38;5;45mNone\u001b[0m, \u001b[38;5;34m256\u001b[0m)            │             \u001b[38;5;34m0\u001b[0m │\n",
       "├─────────────────────────────────┼────────────────────────┼───────────────┤\n",
       "│ dense (\u001b[38;5;33mDense\u001b[0m)                   │ (\u001b[38;5;45mNone\u001b[0m, \u001b[38;5;34m1\u001b[0m)              │           \u001b[38;5;34m257\u001b[0m │\n",
       "└─────────────────────────────────┴────────────────────────┴───────────────┘\n"
      ]
     },
     "metadata": {},
     "output_type": "display_data"
    },
    {
     "data": {
      "text/html": [
       "<pre style=\"white-space:pre;overflow-x:auto;line-height:normal;font-family:Menlo,'DejaVu Sans Mono',consolas,'Courier New',monospace\"><span style=\"font-weight: bold\"> Total params: </span><span style=\"color: #00af00; text-decoration-color: #00af00\">1,318,145</span> (5.03 MB)\n",
       "</pre>\n"
      ],
      "text/plain": [
       "\u001b[1m Total params: \u001b[0m\u001b[38;5;34m1,318,145\u001b[0m (5.03 MB)\n"
      ]
     },
     "metadata": {},
     "output_type": "display_data"
    },
    {
     "data": {
      "text/html": [
       "<pre style=\"white-space:pre;overflow-x:auto;line-height:normal;font-family:Menlo,'DejaVu Sans Mono',consolas,'Courier New',monospace\"><span style=\"font-weight: bold\"> Trainable params: </span><span style=\"color: #00af00; text-decoration-color: #00af00\">1,316,609</span> (5.02 MB)\n",
       "</pre>\n"
      ],
      "text/plain": [
       "\u001b[1m Trainable params: \u001b[0m\u001b[38;5;34m1,316,609\u001b[0m (5.02 MB)\n"
      ]
     },
     "metadata": {},
     "output_type": "display_data"
    },
    {
     "data": {
      "text/html": [
       "<pre style=\"white-space:pre;overflow-x:auto;line-height:normal;font-family:Menlo,'DejaVu Sans Mono',consolas,'Courier New',monospace\"><span style=\"font-weight: bold\"> Non-trainable params: </span><span style=\"color: #00af00; text-decoration-color: #00af00\">1,536</span> (6.00 KB)\n",
       "</pre>\n"
      ],
      "text/plain": [
       "\u001b[1m Non-trainable params: \u001b[0m\u001b[38;5;34m1,536\u001b[0m (6.00 KB)\n"
      ]
     },
     "metadata": {},
     "output_type": "display_data"
    }
   ],
   "source": [
    "model.summary()"
   ]
  },
  {
   "cell_type": "code",
   "execution_count": 31,
   "id": "14b2d451",
   "metadata": {
    "execution": {
     "iopub.execute_input": "2024-04-11T16:58:27.456595Z",
     "iopub.status.busy": "2024-04-11T16:58:27.455844Z",
     "iopub.status.idle": "2024-04-11T16:59:17.850424Z",
     "shell.execute_reply": "2024-04-11T16:59:17.849039Z"
    },
    "papermill": {
     "duration": 50.415718,
     "end_time": "2024-04-11T16:59:17.852893",
     "exception": false,
     "start_time": "2024-04-11T16:58:27.437175",
     "status": "completed"
    },
    "tags": []
   },
   "outputs": [
    {
     "name": "stdout",
     "output_type": "stream",
     "text": [
      "Epoch 1/200\n",
      "\u001b[1m7/7\u001b[0m \u001b[32m━━━━━━━━━━━━━━━━━━━━\u001b[0m\u001b[37m\u001b[0m \u001b[1m7s\u001b[0m 131ms/step - loss: 1.5845 - val_loss: 0.6038 - learning_rate: 0.0010\n",
      "Epoch 2/200\n",
      "\u001b[1m7/7\u001b[0m \u001b[32m━━━━━━━━━━━━━━━━━━━━\u001b[0m\u001b[37m\u001b[0m \u001b[1m0s\u001b[0m 35ms/step - loss: 1.1435 - val_loss: 0.5851 - learning_rate: 0.0010\n",
      "Epoch 3/200\n",
      "\u001b[1m7/7\u001b[0m \u001b[32m━━━━━━━━━━━━━━━━━━━━\u001b[0m\u001b[37m\u001b[0m \u001b[1m0s\u001b[0m 40ms/step - loss: 0.9612 - val_loss: 0.5654 - learning_rate: 0.0010\n",
      "Epoch 4/200\n",
      "\u001b[1m7/7\u001b[0m \u001b[32m━━━━━━━━━━━━━━━━━━━━\u001b[0m\u001b[37m\u001b[0m \u001b[1m0s\u001b[0m 34ms/step - loss: 0.8203 - val_loss: 0.5533 - learning_rate: 0.0010\n",
      "Epoch 5/200\n",
      "\u001b[1m7/7\u001b[0m \u001b[32m━━━━━━━━━━━━━━━━━━━━\u001b[0m\u001b[37m\u001b[0m \u001b[1m0s\u001b[0m 34ms/step - loss: 0.8883 - val_loss: 0.5373 - learning_rate: 0.0010\n",
      "Epoch 6/200\n",
      "\u001b[1m7/7\u001b[0m \u001b[32m━━━━━━━━━━━━━━━━━━━━\u001b[0m\u001b[37m\u001b[0m \u001b[1m0s\u001b[0m 35ms/step - loss: 0.9061 - val_loss: 0.5477 - learning_rate: 0.0010\n",
      "Epoch 7/200\n",
      "\u001b[1m7/7\u001b[0m \u001b[32m━━━━━━━━━━━━━━━━━━━━\u001b[0m\u001b[37m\u001b[0m \u001b[1m0s\u001b[0m 33ms/step - loss: 0.7528 - val_loss: 0.5668 - learning_rate: 0.0010\n",
      "Epoch 8/200\n",
      "\u001b[1m7/7\u001b[0m \u001b[32m━━━━━━━━━━━━━━━━━━━━\u001b[0m\u001b[37m\u001b[0m \u001b[1m0s\u001b[0m 32ms/step - loss: 0.7158 - val_loss: 0.5814 - learning_rate: 0.0010\n",
      "Epoch 9/200\n",
      "\u001b[1m7/7\u001b[0m \u001b[32m━━━━━━━━━━━━━━━━━━━━\u001b[0m\u001b[37m\u001b[0m \u001b[1m0s\u001b[0m 40ms/step - loss: 0.7787 - val_loss: 0.5887 - learning_rate: 0.0010\n",
      "Epoch 10/200\n",
      "\u001b[1m7/7\u001b[0m \u001b[32m━━━━━━━━━━━━━━━━━━━━\u001b[0m\u001b[37m\u001b[0m \u001b[1m0s\u001b[0m 40ms/step - loss: 0.6920 - val_loss: 0.5687 - learning_rate: 0.0010\n",
      "Epoch 11/200\n",
      "\u001b[1m7/7\u001b[0m \u001b[32m━━━━━━━━━━━━━━━━━━━━\u001b[0m\u001b[37m\u001b[0m \u001b[1m0s\u001b[0m 38ms/step - loss: 0.6083 - val_loss: 0.5473 - learning_rate: 0.0010\n",
      "Epoch 12/200\n",
      "\u001b[1m7/7\u001b[0m \u001b[32m━━━━━━━━━━━━━━━━━━━━\u001b[0m\u001b[37m\u001b[0m \u001b[1m0s\u001b[0m 40ms/step - loss: 0.6332 - val_loss: 0.5334 - learning_rate: 0.0010\n",
      "Epoch 13/200\n",
      "\u001b[1m7/7\u001b[0m \u001b[32m━━━━━━━━━━━━━━━━━━━━\u001b[0m\u001b[37m\u001b[0m \u001b[1m0s\u001b[0m 35ms/step - loss: 0.5967 - val_loss: 0.5116 - learning_rate: 0.0010\n",
      "Epoch 14/200\n",
      "\u001b[1m7/7\u001b[0m \u001b[32m━━━━━━━━━━━━━━━━━━━━\u001b[0m\u001b[37m\u001b[0m \u001b[1m0s\u001b[0m 38ms/step - loss: 0.6388 - val_loss: 0.5073 - learning_rate: 0.0010\n",
      "Epoch 15/200\n",
      "\u001b[1m7/7\u001b[0m \u001b[32m━━━━━━━━━━━━━━━━━━━━\u001b[0m\u001b[37m\u001b[0m \u001b[1m0s\u001b[0m 34ms/step - loss: 0.5996 - val_loss: 0.5033 - learning_rate: 0.0010\n",
      "Epoch 16/200\n",
      "\u001b[1m7/7\u001b[0m \u001b[32m━━━━━━━━━━━━━━━━━━━━\u001b[0m\u001b[37m\u001b[0m \u001b[1m0s\u001b[0m 34ms/step - loss: 0.6183 - val_loss: 0.5011 - learning_rate: 0.0010\n",
      "Epoch 17/200\n",
      "\u001b[1m7/7\u001b[0m \u001b[32m━━━━━━━━━━━━━━━━━━━━\u001b[0m\u001b[37m\u001b[0m \u001b[1m0s\u001b[0m 42ms/step - loss: 0.6030 - val_loss: 0.4939 - learning_rate: 0.0010\n",
      "Epoch 18/200\n",
      "\u001b[1m7/7\u001b[0m \u001b[32m━━━━━━━━━━━━━━━━━━━━\u001b[0m\u001b[37m\u001b[0m \u001b[1m0s\u001b[0m 34ms/step - loss: 0.6574 - val_loss: 0.4932 - learning_rate: 0.0010\n",
      "Epoch 19/200\n",
      "\u001b[1m7/7\u001b[0m \u001b[32m━━━━━━━━━━━━━━━━━━━━\u001b[0m\u001b[37m\u001b[0m \u001b[1m0s\u001b[0m 37ms/step - loss: 0.6182 - val_loss: 0.4969 - learning_rate: 0.0010\n",
      "Epoch 20/200\n",
      "\u001b[1m7/7\u001b[0m \u001b[32m━━━━━━━━━━━━━━━━━━━━\u001b[0m\u001b[37m\u001b[0m \u001b[1m0s\u001b[0m 42ms/step - loss: 0.4955 - val_loss: 0.5082 - learning_rate: 0.0010\n",
      "Epoch 21/200\n",
      "\u001b[1m7/7\u001b[0m \u001b[32m━━━━━━━━━━━━━━━━━━━━\u001b[0m\u001b[37m\u001b[0m \u001b[1m1s\u001b[0m 35ms/step - loss: 0.5065 - val_loss: 0.5008 - learning_rate: 0.0010\n",
      "Epoch 22/200\n",
      "\u001b[1m7/7\u001b[0m \u001b[32m━━━━━━━━━━━━━━━━━━━━\u001b[0m\u001b[37m\u001b[0m \u001b[1m0s\u001b[0m 34ms/step - loss: 0.4934 - val_loss: 0.4962 - learning_rate: 0.0010\n",
      "Epoch 23/200\n",
      "\u001b[1m7/7\u001b[0m \u001b[32m━━━━━━━━━━━━━━━━━━━━\u001b[0m\u001b[37m\u001b[0m \u001b[1m0s\u001b[0m 33ms/step - loss: 0.4729 - val_loss: 0.5039 - learning_rate: 0.0010\n",
      "Epoch 24/200\n",
      "\u001b[1m7/7\u001b[0m \u001b[32m━━━━━━━━━━━━━━━━━━━━\u001b[0m\u001b[37m\u001b[0m \u001b[1m0s\u001b[0m 33ms/step - loss: 0.5314 - val_loss: 0.4992 - learning_rate: 0.0010\n",
      "Epoch 25/200\n",
      "\u001b[1m7/7\u001b[0m \u001b[32m━━━━━━━━━━━━━━━━━━━━\u001b[0m\u001b[37m\u001b[0m \u001b[1m0s\u001b[0m 40ms/step - loss: 0.5275 - val_loss: 0.4998 - learning_rate: 0.0010\n",
      "Epoch 26/200\n",
      "\u001b[1m7/7\u001b[0m \u001b[32m━━━━━━━━━━━━━━━━━━━━\u001b[0m\u001b[37m\u001b[0m \u001b[1m0s\u001b[0m 40ms/step - loss: 0.5739 - val_loss: 0.4932 - learning_rate: 0.0010\n",
      "Epoch 27/200\n",
      "\u001b[1m7/7\u001b[0m \u001b[32m━━━━━━━━━━━━━━━━━━━━\u001b[0m\u001b[37m\u001b[0m \u001b[1m0s\u001b[0m 33ms/step - loss: 0.5870 - val_loss: 0.4968 - learning_rate: 0.0010\n",
      "Epoch 28/200\n",
      "\u001b[1m7/7\u001b[0m \u001b[32m━━━━━━━━━━━━━━━━━━━━\u001b[0m\u001b[37m\u001b[0m \u001b[1m0s\u001b[0m 34ms/step - loss: 0.5174 - val_loss: 0.5043 - learning_rate: 0.0010\n",
      "Epoch 29/200\n",
      "\u001b[1m7/7\u001b[0m \u001b[32m━━━━━━━━━━━━━━━━━━━━\u001b[0m\u001b[37m\u001b[0m \u001b[1m0s\u001b[0m 33ms/step - loss: 0.4556 - val_loss: 0.5033 - learning_rate: 1.0000e-04\n",
      "Epoch 30/200\n",
      "\u001b[1m7/7\u001b[0m \u001b[32m━━━━━━━━━━━━━━━━━━━━\u001b[0m\u001b[37m\u001b[0m \u001b[1m0s\u001b[0m 39ms/step - loss: 0.5064 - val_loss: 0.4987 - learning_rate: 1.0000e-04\n",
      "Epoch 31/200\n",
      "\u001b[1m7/7\u001b[0m \u001b[32m━━━━━━━━━━━━━━━━━━━━\u001b[0m\u001b[37m\u001b[0m \u001b[1m0s\u001b[0m 34ms/step - loss: 0.4289 - val_loss: 0.4968 - learning_rate: 1.0000e-04\n",
      "Epoch 32/200\n",
      "\u001b[1m7/7\u001b[0m \u001b[32m━━━━━━━━━━━━━━━━━━━━\u001b[0m\u001b[37m\u001b[0m \u001b[1m0s\u001b[0m 35ms/step - loss: 0.4267 - val_loss: 0.4947 - learning_rate: 1.0000e-04\n",
      "Epoch 33/200\n",
      "\u001b[1m7/7\u001b[0m \u001b[32m━━━━━━━━━━━━━━━━━━━━\u001b[0m\u001b[37m\u001b[0m \u001b[1m0s\u001b[0m 34ms/step - loss: 0.4667 - val_loss: 0.4932 - learning_rate: 1.0000e-04\n",
      "Epoch 34/200\n",
      "\u001b[1m7/7\u001b[0m \u001b[32m━━━━━━━━━━━━━━━━━━━━\u001b[0m\u001b[37m\u001b[0m \u001b[1m0s\u001b[0m 33ms/step - loss: 0.4112 - val_loss: 0.4924 - learning_rate: 1.0000e-04\n",
      "Epoch 35/200\n",
      "\u001b[1m7/7\u001b[0m \u001b[32m━━━━━━━━━━━━━━━━━━━━\u001b[0m\u001b[37m\u001b[0m \u001b[1m0s\u001b[0m 35ms/step - loss: 0.5153 - val_loss: 0.4908 - learning_rate: 1.0000e-04\n",
      "Epoch 36/200\n",
      "\u001b[1m7/7\u001b[0m \u001b[32m━━━━━━━━━━━━━━━━━━━━\u001b[0m\u001b[37m\u001b[0m \u001b[1m0s\u001b[0m 40ms/step - loss: 0.4407 - val_loss: 0.4891 - learning_rate: 1.0000e-04\n",
      "Epoch 37/200\n",
      "\u001b[1m7/7\u001b[0m \u001b[32m━━━━━━━━━━━━━━━━━━━━\u001b[0m\u001b[37m\u001b[0m \u001b[1m0s\u001b[0m 41ms/step - loss: 0.4539 - val_loss: 0.4870 - learning_rate: 1.0000e-04\n",
      "Epoch 38/200\n",
      "\u001b[1m7/7\u001b[0m \u001b[32m━━━━━━━━━━━━━━━━━━━━\u001b[0m\u001b[37m\u001b[0m \u001b[1m1s\u001b[0m 33ms/step - loss: 0.4201 - val_loss: 0.4871 - learning_rate: 1.0000e-04\n",
      "Epoch 39/200\n",
      "\u001b[1m7/7\u001b[0m \u001b[32m━━━━━━━━━━━━━━━━━━━━\u001b[0m\u001b[37m\u001b[0m \u001b[1m0s\u001b[0m 40ms/step - loss: 0.3861 - val_loss: 0.4869 - learning_rate: 1.0000e-04\n",
      "Epoch 40/200\n",
      "\u001b[1m7/7\u001b[0m \u001b[32m━━━━━━━━━━━━━━━━━━━━\u001b[0m\u001b[37m\u001b[0m \u001b[1m0s\u001b[0m 41ms/step - loss: 0.5195 - val_loss: 0.4842 - learning_rate: 1.0000e-04\n",
      "Epoch 41/200\n",
      "\u001b[1m7/7\u001b[0m \u001b[32m━━━━━━━━━━━━━━━━━━━━\u001b[0m\u001b[37m\u001b[0m \u001b[1m0s\u001b[0m 36ms/step - loss: 0.4405 - val_loss: 0.4835 - learning_rate: 1.0000e-04\n",
      "Epoch 42/200\n",
      "\u001b[1m7/7\u001b[0m \u001b[32m━━━━━━━━━━━━━━━━━━━━\u001b[0m\u001b[37m\u001b[0m \u001b[1m0s\u001b[0m 34ms/step - loss: 0.4117 - val_loss: 0.4837 - learning_rate: 1.0000e-04\n",
      "Epoch 43/200\n",
      "\u001b[1m7/7\u001b[0m \u001b[32m━━━━━━━━━━━━━━━━━━━━\u001b[0m\u001b[37m\u001b[0m \u001b[1m0s\u001b[0m 35ms/step - loss: 0.4233 - val_loss: 0.4822 - learning_rate: 1.0000e-04\n",
      "Epoch 44/200\n",
      "\u001b[1m7/7\u001b[0m \u001b[32m━━━━━━━━━━━━━━━━━━━━\u001b[0m\u001b[37m\u001b[0m \u001b[1m0s\u001b[0m 39ms/step - loss: 0.3655 - val_loss: 0.4817 - learning_rate: 1.0000e-04\n",
      "Epoch 45/200\n",
      "\u001b[1m7/7\u001b[0m \u001b[32m━━━━━━━━━━━━━━━━━━━━\u001b[0m\u001b[37m\u001b[0m \u001b[1m0s\u001b[0m 40ms/step - loss: 0.4544 - val_loss: 0.4809 - learning_rate: 1.0000e-04\n",
      "Epoch 46/200\n",
      "\u001b[1m7/7\u001b[0m \u001b[32m━━━━━━━━━━━━━━━━━━━━\u001b[0m\u001b[37m\u001b[0m \u001b[1m0s\u001b[0m 39ms/step - loss: 0.3989 - val_loss: 0.4800 - learning_rate: 1.0000e-04\n",
      "Epoch 47/200\n",
      "\u001b[1m7/7\u001b[0m \u001b[32m━━━━━━━━━━━━━━━━━━━━\u001b[0m\u001b[37m\u001b[0m \u001b[1m0s\u001b[0m 39ms/step - loss: 0.4201 - val_loss: 0.4792 - learning_rate: 1.0000e-04\n",
      "Epoch 48/200\n",
      "\u001b[1m7/7\u001b[0m \u001b[32m━━━━━━━━━━━━━━━━━━━━\u001b[0m\u001b[37m\u001b[0m \u001b[1m0s\u001b[0m 40ms/step - loss: 0.4036 - val_loss: 0.4773 - learning_rate: 1.0000e-04\n",
      "Epoch 49/200\n",
      "\u001b[1m7/7\u001b[0m \u001b[32m━━━━━━━━━━━━━━━━━━━━\u001b[0m\u001b[37m\u001b[0m \u001b[1m0s\u001b[0m 34ms/step - loss: 0.4826 - val_loss: 0.4747 - learning_rate: 1.0000e-04\n",
      "Epoch 50/200\n",
      "\u001b[1m7/7\u001b[0m \u001b[32m━━━━━━━━━━━━━━━━━━━━\u001b[0m\u001b[37m\u001b[0m \u001b[1m0s\u001b[0m 41ms/step - loss: 0.4409 - val_loss: 0.4719 - learning_rate: 1.0000e-04\n",
      "Epoch 51/200\n",
      "\u001b[1m7/7\u001b[0m \u001b[32m━━━━━━━━━━━━━━━━━━━━\u001b[0m\u001b[37m\u001b[0m \u001b[1m0s\u001b[0m 40ms/step - loss: 0.3932 - val_loss: 0.4699 - learning_rate: 1.0000e-04\n",
      "Epoch 52/200\n",
      "\u001b[1m7/7\u001b[0m \u001b[32m━━━━━━━━━━━━━━━━━━━━\u001b[0m\u001b[37m\u001b[0m \u001b[1m0s\u001b[0m 35ms/step - loss: 0.4339 - val_loss: 0.4686 - learning_rate: 1.0000e-04\n",
      "Epoch 53/200\n",
      "\u001b[1m7/7\u001b[0m \u001b[32m━━━━━━━━━━━━━━━━━━━━\u001b[0m\u001b[37m\u001b[0m \u001b[1m0s\u001b[0m 39ms/step - loss: 0.4847 - val_loss: 0.4669 - learning_rate: 1.0000e-04\n",
      "Epoch 54/200\n",
      "\u001b[1m7/7\u001b[0m \u001b[32m━━━━━━━━━━━━━━━━━━━━\u001b[0m\u001b[37m\u001b[0m \u001b[1m0s\u001b[0m 35ms/step - loss: 0.4236 - val_loss: 0.4652 - learning_rate: 1.0000e-04\n",
      "Epoch 55/200\n",
      "\u001b[1m7/7\u001b[0m \u001b[32m━━━━━━━━━━━━━━━━━━━━\u001b[0m\u001b[37m\u001b[0m \u001b[1m0s\u001b[0m 39ms/step - loss: 0.3894 - val_loss: 0.4633 - learning_rate: 1.0000e-04\n",
      "Epoch 56/200\n",
      "\u001b[1m7/7\u001b[0m \u001b[32m━━━━━━━━━━━━━━━━━━━━\u001b[0m\u001b[37m\u001b[0m \u001b[1m0s\u001b[0m 41ms/step - loss: 0.4146 - val_loss: 0.4615 - learning_rate: 1.0000e-04\n",
      "Epoch 57/200\n",
      "\u001b[1m7/7\u001b[0m \u001b[32m━━━━━━━━━━━━━━━━━━━━\u001b[0m\u001b[37m\u001b[0m \u001b[1m0s\u001b[0m 40ms/step - loss: 0.4336 - val_loss: 0.4590 - learning_rate: 1.0000e-04\n",
      "Epoch 58/200\n",
      "\u001b[1m7/7\u001b[0m \u001b[32m━━━━━━━━━━━━━━━━━━━━\u001b[0m\u001b[37m\u001b[0m \u001b[1m0s\u001b[0m 34ms/step - loss: 0.4502 - val_loss: 0.4564 - learning_rate: 1.0000e-04\n",
      "Epoch 59/200\n",
      "\u001b[1m7/7\u001b[0m \u001b[32m━━━━━━━━━━━━━━━━━━━━\u001b[0m\u001b[37m\u001b[0m \u001b[1m0s\u001b[0m 35ms/step - loss: 0.3842 - val_loss: 0.4536 - learning_rate: 1.0000e-04\n",
      "Epoch 60/200\n",
      "\u001b[1m7/7\u001b[0m \u001b[32m━━━━━━━━━━━━━━━━━━━━\u001b[0m\u001b[37m\u001b[0m \u001b[1m0s\u001b[0m 34ms/step - loss: 0.4498 - val_loss: 0.4509 - learning_rate: 1.0000e-04\n",
      "Epoch 61/200\n",
      "\u001b[1m7/7\u001b[0m \u001b[32m━━━━━━━━━━━━━━━━━━━━\u001b[0m\u001b[37m\u001b[0m \u001b[1m0s\u001b[0m 40ms/step - loss: 0.4323 - val_loss: 0.4483 - learning_rate: 1.0000e-04\n",
      "Epoch 62/200\n",
      "\u001b[1m7/7\u001b[0m \u001b[32m━━━━━━━━━━━━━━━━━━━━\u001b[0m\u001b[37m\u001b[0m \u001b[1m0s\u001b[0m 42ms/step - loss: 0.4151 - val_loss: 0.4460 - learning_rate: 1.0000e-04\n",
      "Epoch 63/200\n",
      "\u001b[1m7/7\u001b[0m \u001b[32m━━━━━━━━━━━━━━━━━━━━\u001b[0m\u001b[37m\u001b[0m \u001b[1m1s\u001b[0m 35ms/step - loss: 0.3758 - val_loss: 0.4431 - learning_rate: 1.0000e-04\n",
      "Epoch 64/200\n",
      "\u001b[1m7/7\u001b[0m \u001b[32m━━━━━━━━━━━━━━━━━━━━\u001b[0m\u001b[37m\u001b[0m \u001b[1m0s\u001b[0m 41ms/step - loss: 0.4419 - val_loss: 0.4396 - learning_rate: 1.0000e-04\n",
      "Epoch 65/200\n",
      "\u001b[1m7/7\u001b[0m \u001b[32m━━━━━━━━━━━━━━━━━━━━\u001b[0m\u001b[37m\u001b[0m \u001b[1m0s\u001b[0m 34ms/step - loss: 0.3650 - val_loss: 0.4353 - learning_rate: 1.0000e-04\n",
      "Epoch 66/200\n",
      "\u001b[1m7/7\u001b[0m \u001b[32m━━━━━━━━━━━━━━━━━━━━\u001b[0m\u001b[37m\u001b[0m \u001b[1m0s\u001b[0m 34ms/step - loss: 0.4353 - val_loss: 0.4311 - learning_rate: 1.0000e-04\n",
      "Epoch 67/200\n",
      "\u001b[1m7/7\u001b[0m \u001b[32m━━━━━━━━━━━━━━━━━━━━\u001b[0m\u001b[37m\u001b[0m \u001b[1m0s\u001b[0m 35ms/step - loss: 0.3855 - val_loss: 0.4263 - learning_rate: 1.0000e-04\n",
      "Epoch 68/200\n",
      "\u001b[1m7/7\u001b[0m \u001b[32m━━━━━━━━━━━━━━━━━━━━\u001b[0m\u001b[37m\u001b[0m \u001b[1m0s\u001b[0m 35ms/step - loss: 0.4339 - val_loss: 0.4200 - learning_rate: 1.0000e-04\n",
      "Epoch 69/200\n",
      "\u001b[1m7/7\u001b[0m \u001b[32m━━━━━━━━━━━━━━━━━━━━\u001b[0m\u001b[37m\u001b[0m \u001b[1m0s\u001b[0m 40ms/step - loss: 0.4124 - val_loss: 0.4143 - learning_rate: 1.0000e-04\n",
      "Epoch 70/200\n",
      "\u001b[1m7/7\u001b[0m \u001b[32m━━━━━━━━━━━━━━━━━━━━\u001b[0m\u001b[37m\u001b[0m \u001b[1m0s\u001b[0m 34ms/step - loss: 0.4070 - val_loss: 0.4092 - learning_rate: 1.0000e-04\n",
      "Epoch 71/200\n",
      "\u001b[1m7/7\u001b[0m \u001b[32m━━━━━━━━━━━━━━━━━━━━\u001b[0m\u001b[37m\u001b[0m \u001b[1m0s\u001b[0m 40ms/step - loss: 0.4164 - val_loss: 0.4040 - learning_rate: 1.0000e-04\n",
      "Epoch 72/200\n",
      "\u001b[1m7/7\u001b[0m \u001b[32m━━━━━━━━━━━━━━━━━━━━\u001b[0m\u001b[37m\u001b[0m \u001b[1m0s\u001b[0m 33ms/step - loss: 0.4292 - val_loss: 0.3982 - learning_rate: 1.0000e-04\n",
      "Epoch 73/200\n",
      "\u001b[1m7/7\u001b[0m \u001b[32m━━━━━━━━━━━━━━━━━━━━\u001b[0m\u001b[37m\u001b[0m \u001b[1m0s\u001b[0m 35ms/step - loss: 0.4124 - val_loss: 0.3927 - learning_rate: 1.0000e-04\n",
      "Epoch 74/200\n",
      "\u001b[1m7/7\u001b[0m \u001b[32m━━━━━━━━━━━━━━━━━━━━\u001b[0m\u001b[37m\u001b[0m \u001b[1m0s\u001b[0m 41ms/step - loss: 0.3652 - val_loss: 0.3880 - learning_rate: 1.0000e-04\n",
      "Epoch 75/200\n",
      "\u001b[1m7/7\u001b[0m \u001b[32m━━━━━━━━━━━━━━━━━━━━\u001b[0m\u001b[37m\u001b[0m \u001b[1m0s\u001b[0m 39ms/step - loss: 0.4868 - val_loss: 0.3841 - learning_rate: 1.0000e-04\n",
      "Epoch 76/200\n",
      "\u001b[1m7/7\u001b[0m \u001b[32m━━━━━━━━━━━━━━━━━━━━\u001b[0m\u001b[37m\u001b[0m \u001b[1m0s\u001b[0m 39ms/step - loss: 0.4587 - val_loss: 0.3798 - learning_rate: 1.0000e-04\n",
      "Epoch 77/200\n",
      "\u001b[1m7/7\u001b[0m \u001b[32m━━━━━━━━━━━━━━━━━━━━\u001b[0m\u001b[37m\u001b[0m \u001b[1m0s\u001b[0m 34ms/step - loss: 0.3527 - val_loss: 0.3732 - learning_rate: 1.0000e-04\n",
      "Epoch 78/200\n",
      "\u001b[1m7/7\u001b[0m \u001b[32m━━━━━━━━━━━━━━━━━━━━\u001b[0m\u001b[37m\u001b[0m \u001b[1m0s\u001b[0m 33ms/step - loss: 0.4085 - val_loss: 0.3657 - learning_rate: 1.0000e-04\n",
      "Epoch 79/200\n",
      "\u001b[1m7/7\u001b[0m \u001b[32m━━━━━━━━━━━━━━━━━━━━\u001b[0m\u001b[37m\u001b[0m \u001b[1m0s\u001b[0m 33ms/step - loss: 0.3862 - val_loss: 0.3573 - learning_rate: 1.0000e-04\n",
      "Epoch 80/200\n",
      "\u001b[1m7/7\u001b[0m \u001b[32m━━━━━━━━━━━━━━━━━━━━\u001b[0m\u001b[37m\u001b[0m \u001b[1m0s\u001b[0m 36ms/step - loss: 0.3679 - val_loss: 0.3490 - learning_rate: 1.0000e-04\n",
      "Epoch 81/200\n",
      "\u001b[1m7/7\u001b[0m \u001b[32m━━━━━━━━━━━━━━━━━━━━\u001b[0m\u001b[37m\u001b[0m \u001b[1m0s\u001b[0m 34ms/step - loss: 0.3347 - val_loss: 0.3410 - learning_rate: 1.0000e-04\n",
      "Epoch 82/200\n",
      "\u001b[1m7/7\u001b[0m \u001b[32m━━━━━━━━━━━━━━━━━━━━\u001b[0m\u001b[37m\u001b[0m \u001b[1m0s\u001b[0m 34ms/step - loss: 0.3871 - val_loss: 0.3328 - learning_rate: 1.0000e-04\n",
      "Epoch 83/200\n",
      "\u001b[1m7/7\u001b[0m \u001b[32m━━━━━━━━━━━━━━━━━━━━\u001b[0m\u001b[37m\u001b[0m \u001b[1m0s\u001b[0m 34ms/step - loss: 0.4306 - val_loss: 0.3261 - learning_rate: 1.0000e-04\n",
      "Epoch 84/200\n",
      "\u001b[1m7/7\u001b[0m \u001b[32m━━━━━━━━━━━━━━━━━━━━\u001b[0m\u001b[37m\u001b[0m \u001b[1m0s\u001b[0m 40ms/step - loss: 0.3694 - val_loss: 0.3192 - learning_rate: 1.0000e-04\n",
      "Epoch 85/200\n",
      "\u001b[1m7/7\u001b[0m \u001b[32m━━━━━━━━━━━━━━━━━━━━\u001b[0m\u001b[37m\u001b[0m \u001b[1m0s\u001b[0m 34ms/step - loss: 0.4189 - val_loss: 0.3119 - learning_rate: 1.0000e-04\n",
      "Epoch 86/200\n",
      "\u001b[1m7/7\u001b[0m \u001b[32m━━━━━━━━━━━━━━━━━━━━\u001b[0m\u001b[37m\u001b[0m \u001b[1m0s\u001b[0m 34ms/step - loss: 0.4045 - val_loss: 0.3065 - learning_rate: 1.0000e-04\n",
      "Epoch 87/200\n",
      "\u001b[1m7/7\u001b[0m \u001b[32m━━━━━━━━━━━━━━━━━━━━\u001b[0m\u001b[37m\u001b[0m \u001b[1m0s\u001b[0m 37ms/step - loss: 0.3667 - val_loss: 0.2966 - learning_rate: 1.0000e-04\n",
      "Epoch 88/200\n",
      "\u001b[1m7/7\u001b[0m \u001b[32m━━━━━━━━━━━━━━━━━━━━\u001b[0m\u001b[37m\u001b[0m \u001b[1m0s\u001b[0m 34ms/step - loss: 0.3930 - val_loss: 0.2861 - learning_rate: 1.0000e-04\n",
      "Epoch 89/200\n",
      "\u001b[1m7/7\u001b[0m \u001b[32m━━━━━━━━━━━━━━━━━━━━\u001b[0m\u001b[37m\u001b[0m \u001b[1m0s\u001b[0m 40ms/step - loss: 0.3656 - val_loss: 0.2760 - learning_rate: 1.0000e-04\n",
      "Epoch 90/200\n",
      "\u001b[1m7/7\u001b[0m \u001b[32m━━━━━━━━━━━━━━━━━━━━\u001b[0m\u001b[37m\u001b[0m \u001b[1m0s\u001b[0m 35ms/step - loss: 0.4676 - val_loss: 0.2669 - learning_rate: 1.0000e-04\n",
      "Epoch 91/200\n",
      "\u001b[1m7/7\u001b[0m \u001b[32m━━━━━━━━━━━━━━━━━━━━\u001b[0m\u001b[37m\u001b[0m \u001b[1m0s\u001b[0m 37ms/step - loss: 0.3820 - val_loss: 0.2571 - learning_rate: 1.0000e-04\n",
      "Epoch 92/200\n",
      "\u001b[1m7/7\u001b[0m \u001b[32m━━━━━━━━━━━━━━━━━━━━\u001b[0m\u001b[37m\u001b[0m \u001b[1m0s\u001b[0m 42ms/step - loss: 0.3967 - val_loss: 0.2505 - learning_rate: 1.0000e-04\n",
      "Epoch 93/200\n",
      "\u001b[1m7/7\u001b[0m \u001b[32m━━━━━━━━━━━━━━━━━━━━\u001b[0m\u001b[37m\u001b[0m \u001b[1m1s\u001b[0m 34ms/step - loss: 0.4037 - val_loss: 0.2418 - learning_rate: 1.0000e-04\n",
      "Epoch 94/200\n",
      "\u001b[1m7/7\u001b[0m \u001b[32m━━━━━━━━━━━━━━━━━━━━\u001b[0m\u001b[37m\u001b[0m \u001b[1m0s\u001b[0m 34ms/step - loss: 0.4865 - val_loss: 0.2330 - learning_rate: 1.0000e-04\n",
      "Epoch 95/200\n",
      "\u001b[1m7/7\u001b[0m \u001b[32m━━━━━━━━━━━━━━━━━━━━\u001b[0m\u001b[37m\u001b[0m \u001b[1m0s\u001b[0m 36ms/step - loss: 0.4232 - val_loss: 0.2264 - learning_rate: 1.0000e-04\n",
      "Epoch 96/200\n",
      "\u001b[1m7/7\u001b[0m \u001b[32m━━━━━━━━━━━━━━━━━━━━\u001b[0m\u001b[37m\u001b[0m \u001b[1m0s\u001b[0m 36ms/step - loss: 0.3893 - val_loss: 0.2180 - learning_rate: 1.0000e-04\n",
      "Epoch 97/200\n",
      "\u001b[1m7/7\u001b[0m \u001b[32m━━━━━━━━━━━━━━━━━━━━\u001b[0m\u001b[37m\u001b[0m \u001b[1m0s\u001b[0m 41ms/step - loss: 0.4520 - val_loss: 0.2076 - learning_rate: 1.0000e-04\n",
      "Epoch 98/200\n",
      "\u001b[1m7/7\u001b[0m \u001b[32m━━━━━━━━━━━━━━━━━━━━\u001b[0m\u001b[37m\u001b[0m \u001b[1m0s\u001b[0m 40ms/step - loss: 0.4116 - val_loss: 0.1976 - learning_rate: 1.0000e-04\n",
      "Epoch 99/200\n",
      "\u001b[1m7/7\u001b[0m \u001b[32m━━━━━━━━━━━━━━━━━━━━\u001b[0m\u001b[37m\u001b[0m \u001b[1m0s\u001b[0m 33ms/step - loss: 0.3689 - val_loss: 0.1868 - learning_rate: 1.0000e-04\n",
      "Epoch 100/200\n",
      "\u001b[1m7/7\u001b[0m \u001b[32m━━━━━━━━━━━━━━━━━━━━\u001b[0m\u001b[37m\u001b[0m \u001b[1m0s\u001b[0m 39ms/step - loss: 0.3870 - val_loss: 0.1808 - learning_rate: 1.0000e-04\n",
      "Epoch 101/200\n",
      "\u001b[1m7/7\u001b[0m \u001b[32m━━━━━━━━━━━━━━━━━━━━\u001b[0m\u001b[37m\u001b[0m \u001b[1m0s\u001b[0m 41ms/step - loss: 0.3721 - val_loss: 0.1745 - learning_rate: 1.0000e-04\n",
      "Epoch 102/200\n",
      "\u001b[1m7/7\u001b[0m \u001b[32m━━━━━━━━━━━━━━━━━━━━\u001b[0m\u001b[37m\u001b[0m \u001b[1m0s\u001b[0m 33ms/step - loss: 0.3421 - val_loss: 0.1647 - learning_rate: 1.0000e-04\n",
      "Epoch 103/200\n",
      "\u001b[1m7/7\u001b[0m \u001b[32m━━━━━━━━━━━━━━━━━━━━\u001b[0m\u001b[37m\u001b[0m \u001b[1m0s\u001b[0m 39ms/step - loss: 0.3813 - val_loss: 0.1510 - learning_rate: 1.0000e-04\n",
      "Epoch 104/200\n",
      "\u001b[1m7/7\u001b[0m \u001b[32m━━━━━━━━━━━━━━━━━━━━\u001b[0m\u001b[37m\u001b[0m \u001b[1m0s\u001b[0m 34ms/step - loss: 0.3950 - val_loss: 0.1424 - learning_rate: 1.0000e-04\n",
      "Epoch 105/200\n",
      "\u001b[1m7/7\u001b[0m \u001b[32m━━━━━━━━━━━━━━━━━━━━\u001b[0m\u001b[37m\u001b[0m \u001b[1m0s\u001b[0m 36ms/step - loss: 0.3582 - val_loss: 0.1387 - learning_rate: 1.0000e-04\n",
      "Epoch 106/200\n",
      "\u001b[1m7/7\u001b[0m \u001b[32m━━━━━━━━━━━━━━━━━━━━\u001b[0m\u001b[37m\u001b[0m \u001b[1m0s\u001b[0m 35ms/step - loss: 0.3796 - val_loss: 0.1334 - learning_rate: 1.0000e-04\n",
      "Epoch 107/200\n",
      "\u001b[1m7/7\u001b[0m \u001b[32m━━━━━━━━━━━━━━━━━━━━\u001b[0m\u001b[37m\u001b[0m \u001b[1m0s\u001b[0m 34ms/step - loss: 0.4420 - val_loss: 0.1333 - learning_rate: 1.0000e-04\n",
      "Epoch 108/200\n",
      "\u001b[1m7/7\u001b[0m \u001b[32m━━━━━━━━━━━━━━━━━━━━\u001b[0m\u001b[37m\u001b[0m \u001b[1m0s\u001b[0m 34ms/step - loss: 0.3450 - val_loss: 0.1351 - learning_rate: 1.0000e-04\n",
      "Epoch 109/200\n",
      "\u001b[1m7/7\u001b[0m \u001b[32m━━━━━━━━━━━━━━━━━━━━\u001b[0m\u001b[37m\u001b[0m \u001b[1m0s\u001b[0m 39ms/step - loss: 0.4019 - val_loss: 0.1355 - learning_rate: 1.0000e-04\n",
      "Epoch 110/200\n",
      "\u001b[1m7/7\u001b[0m \u001b[32m━━━━━━━━━━━━━━━━━━━━\u001b[0m\u001b[37m\u001b[0m \u001b[1m0s\u001b[0m 35ms/step - loss: 0.5536 - val_loss: 0.1290 - learning_rate: 1.0000e-04\n",
      "Epoch 111/200\n",
      "\u001b[1m7/7\u001b[0m \u001b[32m━━━━━━━━━━━━━━━━━━━━\u001b[0m\u001b[37m\u001b[0m \u001b[1m0s\u001b[0m 34ms/step - loss: 0.3417 - val_loss: 0.1132 - learning_rate: 1.0000e-04\n",
      "Epoch 112/200\n",
      "\u001b[1m7/7\u001b[0m \u001b[32m━━━━━━━━━━━━━━━━━━━━\u001b[0m\u001b[37m\u001b[0m \u001b[1m0s\u001b[0m 36ms/step - loss: 0.4080 - val_loss: 0.0987 - learning_rate: 1.0000e-04\n",
      "Epoch 113/200\n",
      "\u001b[1m7/7\u001b[0m \u001b[32m━━━━━━━━━━━━━━━━━━━━\u001b[0m\u001b[37m\u001b[0m \u001b[1m0s\u001b[0m 33ms/step - loss: 0.3566 - val_loss: 0.0881 - learning_rate: 1.0000e-04\n",
      "Epoch 114/200\n",
      "\u001b[1m7/7\u001b[0m \u001b[32m━━━━━━━━━━━━━━━━━━━━\u001b[0m\u001b[37m\u001b[0m \u001b[1m0s\u001b[0m 35ms/step - loss: 0.3544 - val_loss: 0.0793 - learning_rate: 1.0000e-04\n",
      "Epoch 115/200\n",
      "\u001b[1m7/7\u001b[0m \u001b[32m━━━━━━━━━━━━━━━━━━━━\u001b[0m\u001b[37m\u001b[0m \u001b[1m0s\u001b[0m 33ms/step - loss: 0.3731 - val_loss: 0.0794 - learning_rate: 1.0000e-04\n",
      "Epoch 116/200\n",
      "\u001b[1m7/7\u001b[0m \u001b[32m━━━━━━━━━━━━━━━━━━━━\u001b[0m\u001b[37m\u001b[0m \u001b[1m0s\u001b[0m 34ms/step - loss: 0.3322 - val_loss: 0.0732 - learning_rate: 1.0000e-04\n",
      "Epoch 117/200\n",
      "\u001b[1m7/7\u001b[0m \u001b[32m━━━━━━━━━━━━━━━━━━━━\u001b[0m\u001b[37m\u001b[0m \u001b[1m0s\u001b[0m 40ms/step - loss: 0.3268 - val_loss: 0.0708 - learning_rate: 1.0000e-04\n",
      "Epoch 118/200\n",
      "\u001b[1m7/7\u001b[0m \u001b[32m━━━━━━━━━━━━━━━━━━━━\u001b[0m\u001b[37m\u001b[0m \u001b[1m0s\u001b[0m 35ms/step - loss: 0.3835 - val_loss: 0.0675 - learning_rate: 1.0000e-04\n",
      "Epoch 119/200\n",
      "\u001b[1m7/7\u001b[0m \u001b[32m━━━━━━━━━━━━━━━━━━━━\u001b[0m\u001b[37m\u001b[0m \u001b[1m0s\u001b[0m 35ms/step - loss: 0.3901 - val_loss: 0.0613 - learning_rate: 1.0000e-04\n",
      "Epoch 120/200\n",
      "\u001b[1m7/7\u001b[0m \u001b[32m━━━━━━━━━━━━━━━━━━━━\u001b[0m\u001b[37m\u001b[0m \u001b[1m0s\u001b[0m 40ms/step - loss: 0.3552 - val_loss: 0.0611 - learning_rate: 1.0000e-04\n",
      "Epoch 121/200\n",
      "\u001b[1m7/7\u001b[0m \u001b[32m━━━━━━━━━━━━━━━━━━━━\u001b[0m\u001b[37m\u001b[0m \u001b[1m0s\u001b[0m 40ms/step - loss: 0.4004 - val_loss: 0.0645 - learning_rate: 1.0000e-04\n",
      "Epoch 122/200\n",
      "\u001b[1m7/7\u001b[0m \u001b[32m━━━━━━━━━━━━━━━━━━━━\u001b[0m\u001b[37m\u001b[0m \u001b[1m0s\u001b[0m 35ms/step - loss: 0.3212 - val_loss: 0.0655 - learning_rate: 1.0000e-04\n",
      "Epoch 123/200\n",
      "\u001b[1m7/7\u001b[0m \u001b[32m━━━━━━━━━━━━━━━━━━━━\u001b[0m\u001b[37m\u001b[0m \u001b[1m0s\u001b[0m 40ms/step - loss: 0.3528 - val_loss: 0.0579 - learning_rate: 1.0000e-04\n",
      "Epoch 124/200\n",
      "\u001b[1m7/7\u001b[0m \u001b[32m━━━━━━━━━━━━━━━━━━━━\u001b[0m\u001b[37m\u001b[0m \u001b[1m0s\u001b[0m 33ms/step - loss: 0.3985 - val_loss: 0.0548 - learning_rate: 1.0000e-04\n",
      "Epoch 125/200\n",
      "\u001b[1m7/7\u001b[0m \u001b[32m━━━━━━━━━━━━━━━━━━━━\u001b[0m\u001b[37m\u001b[0m \u001b[1m0s\u001b[0m 39ms/step - loss: 0.3760 - val_loss: 0.0643 - learning_rate: 1.0000e-04\n",
      "Epoch 126/200\n",
      "\u001b[1m7/7\u001b[0m \u001b[32m━━━━━━━━━━━━━━━━━━━━\u001b[0m\u001b[37m\u001b[0m \u001b[1m0s\u001b[0m 36ms/step - loss: 0.3635 - val_loss: 0.0662 - learning_rate: 1.0000e-04\n",
      "Epoch 127/200\n",
      "\u001b[1m7/7\u001b[0m \u001b[32m━━━━━━━━━━━━━━━━━━━━\u001b[0m\u001b[37m\u001b[0m \u001b[1m0s\u001b[0m 33ms/step - loss: 0.3660 - val_loss: 0.0695 - learning_rate: 1.0000e-04\n",
      "Epoch 128/200\n",
      "\u001b[1m7/7\u001b[0m \u001b[32m━━━━━━━━━━━━━━━━━━━━\u001b[0m\u001b[37m\u001b[0m \u001b[1m0s\u001b[0m 34ms/step - loss: 0.3933 - val_loss: 0.0599 - learning_rate: 1.0000e-04\n",
      "Epoch 129/200\n",
      "\u001b[1m7/7\u001b[0m \u001b[32m━━━━━━━━━━━━━━━━━━━━\u001b[0m\u001b[37m\u001b[0m \u001b[1m0s\u001b[0m 34ms/step - loss: 0.3569 - val_loss: 0.0731 - learning_rate: 1.0000e-04\n",
      "Epoch 130/200\n",
      "\u001b[1m7/7\u001b[0m \u001b[32m━━━━━━━━━━━━━━━━━━━━\u001b[0m\u001b[37m\u001b[0m \u001b[1m0s\u001b[0m 34ms/step - loss: 0.3453 - val_loss: 0.0669 - learning_rate: 1.0000e-04\n",
      "Epoch 131/200\n",
      "\u001b[1m7/7\u001b[0m \u001b[32m━━━━━━━━━━━━━━━━━━━━\u001b[0m\u001b[37m\u001b[0m \u001b[1m0s\u001b[0m 39ms/step - loss: 0.3569 - val_loss: 0.0594 - learning_rate: 1.0000e-04\n",
      "Epoch 132/200\n",
      "\u001b[1m7/7\u001b[0m \u001b[32m━━━━━━━━━━━━━━━━━━━━\u001b[0m\u001b[37m\u001b[0m \u001b[1m0s\u001b[0m 40ms/step - loss: 0.3410 - val_loss: 0.0622 - learning_rate: 1.0000e-04\n",
      "Epoch 133/200\n",
      "\u001b[1m7/7\u001b[0m \u001b[32m━━━━━━━━━━━━━━━━━━━━\u001b[0m\u001b[37m\u001b[0m \u001b[1m0s\u001b[0m 32ms/step - loss: 0.3661 - val_loss: 0.0664 - learning_rate: 1.0000e-04\n",
      "Epoch 134/200\n",
      "\u001b[1m7/7\u001b[0m \u001b[32m━━━━━━━━━━━━━━━━━━━━\u001b[0m\u001b[37m\u001b[0m \u001b[1m0s\u001b[0m 34ms/step - loss: 0.3495 - val_loss: 0.0659 - learning_rate: 1.0000e-04\n",
      "Epoch 135/200\n",
      "\u001b[1m7/7\u001b[0m \u001b[32m━━━━━━━━━━━━━━━━━━━━\u001b[0m\u001b[37m\u001b[0m \u001b[1m0s\u001b[0m 40ms/step - loss: 0.4351 - val_loss: 0.0732 - learning_rate: 1.0000e-05\n",
      "Epoch 136/200\n",
      "\u001b[1m7/7\u001b[0m \u001b[32m━━━━━━━━━━━━━━━━━━━━\u001b[0m\u001b[37m\u001b[0m \u001b[1m0s\u001b[0m 33ms/step - loss: 0.3806 - val_loss: 0.0716 - learning_rate: 1.0000e-05\n",
      "Epoch 137/200\n",
      "\u001b[1m7/7\u001b[0m \u001b[32m━━━━━━━━━━━━━━━━━━━━\u001b[0m\u001b[37m\u001b[0m \u001b[1m0s\u001b[0m 38ms/step - loss: 0.3388 - val_loss: 0.0694 - learning_rate: 1.0000e-05\n",
      "Epoch 138/200\n",
      "\u001b[1m7/7\u001b[0m \u001b[32m━━━━━━━━━━━━━━━━━━━━\u001b[0m\u001b[37m\u001b[0m \u001b[1m0s\u001b[0m 33ms/step - loss: 0.3312 - val_loss: 0.0704 - learning_rate: 1.0000e-05\n",
      "Epoch 139/200\n",
      "\u001b[1m7/7\u001b[0m \u001b[32m━━━━━━━━━━━━━━━━━━━━\u001b[0m\u001b[37m\u001b[0m \u001b[1m0s\u001b[0m 41ms/step - loss: 0.3360 - val_loss: 0.0713 - learning_rate: 1.0000e-05\n",
      "Epoch 140/200\n",
      "\u001b[1m7/7\u001b[0m \u001b[32m━━━━━━━━━━━━━━━━━━━━\u001b[0m\u001b[37m\u001b[0m \u001b[1m0s\u001b[0m 34ms/step - loss: 0.3499 - val_loss: 0.0709 - learning_rate: 1.0000e-05\n",
      "Epoch 141/200\n",
      "\u001b[1m7/7\u001b[0m \u001b[32m━━━━━━━━━━━━━━━━━━━━\u001b[0m\u001b[37m\u001b[0m \u001b[1m0s\u001b[0m 33ms/step - loss: 0.3982 - val_loss: 0.0755 - learning_rate: 1.0000e-05\n",
      "Epoch 142/200\n",
      "\u001b[1m7/7\u001b[0m \u001b[32m━━━━━━━━━━━━━━━━━━━━\u001b[0m\u001b[37m\u001b[0m \u001b[1m0s\u001b[0m 34ms/step - loss: 0.3004 - val_loss: 0.0720 - learning_rate: 1.0000e-05\n",
      "Epoch 143/200\n",
      "\u001b[1m7/7\u001b[0m \u001b[32m━━━━━━━━━━━━━━━━━━━━\u001b[0m\u001b[37m\u001b[0m \u001b[1m0s\u001b[0m 34ms/step - loss: 0.3609 - val_loss: 0.0703 - learning_rate: 1.0000e-05\n",
      "Epoch 144/200\n",
      "\u001b[1m7/7\u001b[0m \u001b[32m━━━━━━━━━━━━━━━━━━━━\u001b[0m\u001b[37m\u001b[0m \u001b[1m0s\u001b[0m 33ms/step - loss: 0.3406 - val_loss: 0.0699 - learning_rate: 1.0000e-05\n",
      "\u001b[1m13/13\u001b[0m \u001b[32m━━━━━━━━━━━━━━━━━━━━\u001b[0m\u001b[37m\u001b[0m \u001b[1m1s\u001b[0m 44ms/step\n",
      "\u001b[1m6/6\u001b[0m \u001b[32m━━━━━━━━━━━━━━━━━━━━\u001b[0m\u001b[37m\u001b[0m \u001b[1m0s\u001b[0m 6ms/step \n",
      "Train Loss: 0.06404826045036316\n",
      "Validation Loss: 0.05355597659945488\n",
      "Train MAE: 0.8613520869178336\n",
      "Validation MAE: 0.7194208065926166\n"
     ]
    },
    {
     "data": {
      "image/png": "[encoded data removed]",
      "text/plain": [
       "<Figure size 640x480 with 1 Axes>"
      ]
     },
     "metadata": {},
     "output_type": "display_data"
    }
   ],
   "source": [
    "# Compile the model\n",
    "model.compile(optimizer='adam', loss='mae')\n",
    "\n",
    "# Early stopping and learning rate reduction to prevent overfitting\n",
    "early_stopping = EarlyStopping(patience=20, restore_best_weights=True)\n",
    "reduce_lr = ReduceLROnPlateau(factor=0.1, patience=10, min_lr=1e-6)\n",
    "\n",
    "# Train the model\n",
    "history = model.fit(X_train, y_train, epochs=200, batch_size=64, validation_data=(X_val, y_val),\n",
    "                    callbacks=[early_stopping, reduce_lr])\n",
    "\n",
    "# Evaluate the model\n",
    "train_loss = model.evaluate(X_train, y_train, verbose=0)\n",
    "val_loss = model.evaluate(X_val, y_val, verbose=0)\n",
    "train_mae = np.mean(np.abs(model.predict(X_train) - y_train))\n",
    "val_mae = np.mean(np.abs(model.predict(X_val) - y_val))\n",
    "\n",
    "print('Train Loss:', train_loss)\n",
    "print('Validation Loss:', val_loss)\n",
    "print('Train MAE:', train_mae)\n",
    "print('Validation MAE:', val_mae)\n",
    "\n",
    "# Plot training and validation loss\n",
    "plt.plot(history.history['loss'], label='Train Loss')\n",
    "plt.plot(history.history['val_loss'], label='Validation Loss')\n",
    "plt.title('Model Loss')\n",
    "plt.xlabel('Epoch')\n",
    "plt.ylabel('Loss')\n",
    "plt.legend()\n",
    "plt.show()"
   ]
  },
  {
   "cell_type": "code",
   "execution_count": 32,
   "id": "cf722e15",
   "metadata": {
    "execution": {
     "iopub.execute_input": "2024-04-11T16:59:17.982910Z",
     "iopub.status.busy": "2024-04-11T16:59:17.981765Z",
     "iopub.status.idle": "2024-04-11T16:59:18.776860Z",
     "shell.execute_reply": "2024-04-11T16:59:18.775924Z"
    },
    "papermill": {
     "duration": 0.863572,
     "end_time": "2024-04-11T16:59:18.779605",
     "exception": false,
     "start_time": "2024-04-11T16:59:17.916033",
     "status": "completed"
    },
    "tags": []
   },
   "outputs": [
    {
     "name": "stdout",
     "output_type": "stream",
     "text": [
      "\u001b[1m13/13\u001b[0m \u001b[32m━━━━━━━━━━━━━━━━━━━━\u001b[0m\u001b[37m\u001b[0m \u001b[1m0s\u001b[0m 8ms/step\n",
      "\u001b[1m6/6\u001b[0m \u001b[32m━━━━━━━━━━━━━━━━━━━━\u001b[0m\u001b[37m\u001b[0m \u001b[1m0s\u001b[0m 9ms/step \n",
      "Train Loss: 0.06404826045036316\n",
      "Train MAE: 0.8613520869178336\n",
      "Train MSE: 2.029954672961479\n",
      "Train RMSE: 1.424764778116542\n",
      "Validation Loss: 0.05355597659945488\n",
      "Validation MAE: 0.7194208065926166\n",
      "Validation MSE: 1.4543677365692054\n",
      "Validation RMSE: 1.2059716980796877\n"
     ]
    }
   ],
   "source": [
    "### Evaluate the model on the training set\n",
    "train_loss = model.evaluate(X_train, y_train, verbose=0)\n",
    "train_predictions = model.predict(X_train)\n",
    "train_mae = np.mean(np.abs(train_predictions - y_train))\n",
    "train_mse = np.mean((train_predictions - y_train)**2)\n",
    "train_rmse = np.sqrt(train_mse)\n",
    "\n",
    "# Evaluate the model on the validation set\n",
    "val_loss = model.evaluate(X_val, y_val, verbose=0)\n",
    "val_predictions = model.predict(X_val)\n",
    "val_mae = np.mean(np.abs(val_predictions - y_val))\n",
    "val_mse = np.mean((val_predictions - y_val)**2)\n",
    "val_rmse = np.sqrt(val_mse)\n",
    "\n",
    "print('Train Loss:', train_loss)\n",
    "print('Train MAE:', train_mae)\n",
    "print('Train MSE:', train_mse)\n",
    "print('Train RMSE:', train_rmse)\n",
    "\n",
    "print('Validation Loss:', val_loss)\n",
    "print('Validation MAE:', val_mae)\n",
    "print('Validation MSE:', val_mse)\n",
    "print('Validation RMSE:', val_rmse)"
   ]
  },
  {
   "cell_type": "markdown",
   "id": "043eeece",
   "metadata": {
    "papermill": {
     "duration": 0.064735,
     "end_time": "2024-04-11T16:59:18.922086",
     "exception": false,
     "start_time": "2024-04-11T16:59:18.857351",
     "status": "completed"
    },
    "tags": []
   },
   "source": [
    "## **Forecasting**"
   ]
  },
  {
   "cell_type": "code",
   "execution_count": 33,
   "id": "1d091736",
   "metadata": {
    "execution": {
     "iopub.execute_input": "2024-04-11T16:59:19.053988Z",
     "iopub.status.busy": "2024-04-11T16:59:19.052584Z",
     "iopub.status.idle": "2024-04-11T16:59:20.022672Z",
     "shell.execute_reply": "2024-04-11T16:59:20.021530Z"
    },
    "papermill": {
     "duration": 1.038626,
     "end_time": "2024-04-11T16:59:20.026125",
     "exception": false,
     "start_time": "2024-04-11T16:59:18.987499",
     "status": "completed"
    },
    "tags": []
   },
   "outputs": [
    {
     "name": "stdout",
     "output_type": "stream",
     "text": [
      "\u001b[1m1/1\u001b[0m \u001b[32m━━━━━━━━━━━━━━━━━━━━\u001b[0m\u001b[37m\u001b[0m \u001b[1m0s\u001b[0m 23ms/step\n"
     ]
    },
    {
     "data": {
      "image/png": "[encoded data removed]",
      "text/plain": [
       "<Figure size 1000x600 with 1 Axes>"
      ]
     },
     "metadata": {},
     "output_type": "display_data"
    }
   ],
   "source": [
    "import matplotlib.pyplot as plt\n",
    "\n",
    "# Make predictions on the test data\n",
    "predictions = model.predict(X_test)\n",
    "\n",
    "# Inverse transform the predicted values\n",
    "predictions_inv = scaler_y.inverse_transform(predictions.reshape(-1, 1)).flatten()\n",
    "\n",
    "# Inverse transform the test labels for comparison\n",
    "y_test_inv = scaler_y.inverse_transform(y_test.reshape(-1, 1)).flatten()\n",
    "\n",
    "# Plot actual vs. predicted values\n",
    "plt.figure(figsize=(10, 6))\n",
    "plt.plot(salesmonthly_new['datum'][split_index:], y_test_inv, label='Actual')\n",
    "plt.plot(salesmonthly_new['datum'][split_index:], predictions_inv, label='Predicted')\n",
    "plt.title('Actual vs. Predicted Quantity')\n",
    "plt.xlabel('Datum')\n",
    "plt.ylabel('Quantity')\n",
    "plt.legend()\n",
    "plt.show()"
   ]
  },
  {
   "cell_type": "code",
   "execution_count": 34,
   "id": "4cf1e9b3",
   "metadata": {
    "execution": {
     "iopub.execute_input": "2024-04-11T16:59:20.159160Z",
     "iopub.status.busy": "2024-04-11T16:59:20.157797Z",
     "iopub.status.idle": "2024-04-11T16:59:23.297915Z",
     "shell.execute_reply": "2024-04-11T16:59:23.296495Z"
    },
    "papermill": {
     "duration": 3.209084,
     "end_time": "2024-04-11T16:59:23.300452",
     "exception": false,
     "start_time": "2024-04-11T16:59:20.091368",
     "status": "completed"
    },
    "tags": []
   },
   "outputs": [
    {
     "name": "stdout",
     "output_type": "stream",
     "text": [
      "\u001b[1m1/1\u001b[0m \u001b[32m━━━━━━━━━━━━━━━━━━━━\u001b[0m\u001b[37m\u001b[0m \u001b[1m0s\u001b[0m 23ms/step\n",
      "\u001b[1m1/1\u001b[0m \u001b[32m━━━━━━━━━━━━━━━━━━━━\u001b[0m\u001b[37m\u001b[0m \u001b[1m0s\u001b[0m 23ms/step\n",
      "\u001b[1m1/1\u001b[0m \u001b[32m━━━━━━━━━━━━━━━━━━━━\u001b[0m\u001b[37m\u001b[0m \u001b[1m0s\u001b[0m 23ms/step\n",
      "\u001b[1m1/1\u001b[0m \u001b[32m━━━━━━━━━━━━━━━━━━━━\u001b[0m\u001b[37m\u001b[0m \u001b[1m0s\u001b[0m 23ms/step\n",
      "\u001b[1m1/1\u001b[0m \u001b[32m━━━━━━━━━━━━━━━━━━━━\u001b[0m\u001b[37m\u001b[0m \u001b[1m0s\u001b[0m 23ms/step\n",
      "\u001b[1m1/1\u001b[0m \u001b[32m━━━━━━━━━━━━━━━━━━━━\u001b[0m\u001b[37m\u001b[0m \u001b[1m0s\u001b[0m 22ms/step\n",
      "\u001b[1m1/1\u001b[0m \u001b[32m━━━━━━━━━━━━━━━━━━━━\u001b[0m\u001b[37m\u001b[0m \u001b[1m0s\u001b[0m 23ms/step\n",
      "\u001b[1m1/1\u001b[0m \u001b[32m━━━━━━━━━━━━━━━━━━━━\u001b[0m\u001b[37m\u001b[0m \u001b[1m0s\u001b[0m 23ms/step\n",
      "\u001b[1m1/1\u001b[0m \u001b[32m━━━━━━━━━━━━━━━━━━━━\u001b[0m\u001b[37m\u001b[0m \u001b[1m0s\u001b[0m 24ms/step\n",
      "\u001b[1m1/1\u001b[0m \u001b[32m━━━━━━━━━━━━━━━━━━━━\u001b[0m\u001b[37m\u001b[0m \u001b[1m0s\u001b[0m 23ms/step\n",
      "\u001b[1m1/1\u001b[0m \u001b[32m━━━━━━━━━━━━━━━━━━━━\u001b[0m\u001b[37m\u001b[0m \u001b[1m0s\u001b[0m 25ms/step\n",
      "\u001b[1m1/1\u001b[0m \u001b[32m━━━━━━━━━━━━━━━━━━━━\u001b[0m\u001b[37m\u001b[0m \u001b[1m0s\u001b[0m 21ms/step\n",
      "\u001b[1m1/1\u001b[0m \u001b[32m━━━━━━━━━━━━━━━━━━━━\u001b[0m\u001b[37m\u001b[0m \u001b[1m0s\u001b[0m 22ms/step\n",
      "\u001b[1m1/1\u001b[0m \u001b[32m━━━━━━━━━━━━━━━━━━━━\u001b[0m\u001b[37m\u001b[0m \u001b[1m0s\u001b[0m 23ms/step\n",
      "\u001b[1m1/1\u001b[0m \u001b[32m━━━━━━━━━━━━━━━━━━━━\u001b[0m\u001b[37m\u001b[0m \u001b[1m0s\u001b[0m 22ms/step\n",
      "\u001b[1m1/1\u001b[0m \u001b[32m━━━━━━━━━━━━━━━━━━━━\u001b[0m\u001b[37m\u001b[0m \u001b[1m0s\u001b[0m 21ms/step\n",
      "\u001b[1m1/1\u001b[0m \u001b[32m━━━━━━━━━━━━━━━━━━━━\u001b[0m\u001b[37m\u001b[0m \u001b[1m0s\u001b[0m 22ms/step\n",
      "\u001b[1m1/1\u001b[0m \u001b[32m━━━━━━━━━━━━━━━━━━━━\u001b[0m\u001b[37m\u001b[0m \u001b[1m0s\u001b[0m 23ms/step\n",
      "\u001b[1m1/1\u001b[0m \u001b[32m━━━━━━━━━━━━━━━━━━━━\u001b[0m\u001b[37m\u001b[0m \u001b[1m0s\u001b[0m 23ms/step\n",
      "\u001b[1m1/1\u001b[0m \u001b[32m━━━━━━━━━━━━━━━━━━━━\u001b[0m\u001b[37m\u001b[0m \u001b[1m0s\u001b[0m 24ms/step\n",
      "\u001b[1m1/1\u001b[0m \u001b[32m━━━━━━━━━━━━━━━━━━━━\u001b[0m\u001b[37m\u001b[0m \u001b[1m0s\u001b[0m 24ms/step\n",
      "\u001b[1m1/1\u001b[0m \u001b[32m━━━━━━━━━━━━━━━━━━━━\u001b[0m\u001b[37m\u001b[0m \u001b[1m0s\u001b[0m 22ms/step\n",
      "\u001b[1m1/1\u001b[0m \u001b[32m━━━━━━━━━━━━━━━━━━━━\u001b[0m\u001b[37m\u001b[0m \u001b[1m0s\u001b[0m 22ms/step\n",
      "\u001b[1m1/1\u001b[0m \u001b[32m━━━━━━━━━━━━━━━━━━━━\u001b[0m\u001b[37m\u001b[0m \u001b[1m0s\u001b[0m 23ms/step\n",
      "\u001b[1m1/1\u001b[0m \u001b[32m━━━━━━━━━━━━━━━━━━━━\u001b[0m\u001b[37m\u001b[0m \u001b[1m0s\u001b[0m 23ms/step\n",
      "\u001b[1m1/1\u001b[0m \u001b[32m━━━━━━━━━━━━━━━━━━━━\u001b[0m\u001b[37m\u001b[0m \u001b[1m0s\u001b[0m 24ms/step\n",
      "\u001b[1m1/1\u001b[0m \u001b[32m━━━━━━━━━━━━━━━━━━━━\u001b[0m\u001b[37m\u001b[0m \u001b[1m0s\u001b[0m 23ms/step\n",
      "\u001b[1m1/1\u001b[0m \u001b[32m━━━━━━━━━━━━━━━━━━━━\u001b[0m\u001b[37m\u001b[0m \u001b[1m0s\u001b[0m 23ms/step\n",
      "\u001b[1m1/1\u001b[0m \u001b[32m━━━━━━━━━━━━━━━━━━━━\u001b[0m\u001b[37m\u001b[0m \u001b[1m0s\u001b[0m 22ms/step\n",
      "\u001b[1m1/1\u001b[0m \u001b[32m━━━━━━━━━━━━━━━━━━━━\u001b[0m\u001b[37m\u001b[0m \u001b[1m0s\u001b[0m 23ms/step\n"
     ]
    },
    {
     "data": {
      "image/png": "[encoded data removed]",
      "text/plain": [
       "<Figure size 1000x600 with 1 Axes>"
      ]
     },
     "metadata": {},
     "output_type": "display_data"
    }
   ],
   "source": [
    "# Number of future time steps to predict\n",
    "future_steps = 30  # Adjust as needed\n",
    "\n",
    "# Prepare the last window of data from the test set to predict future values\n",
    "last_window = X_test[-1].reshape(1, -1)  # Reshape to match model input shape\n",
    "\n",
    "# Predict future values iteratively\n",
    "future_predictions = []\n",
    "for _ in range(future_steps):\n",
    "    # Predict the next value\n",
    "    next_pred = model.predict(last_window)\n",
    "    \n",
    "    # Append the prediction to the list\n",
    "    future_predictions.append(next_pred[0])\n",
    "    \n",
    "    # Update the last window by removing the first element and adding the prediction\n",
    "    last_window = np.roll(last_window, -1)\n",
    "    last_window[-1] = next_pred\n",
    "\n",
    "# Inverse transform the predicted future values\n",
    "future_predictions = scaler_y.inverse_transform(np.array(future_predictions).reshape(-1, 1)).flatten()\n",
    "\n",
    "# Generate future dates for plotting\n",
    "last_date = pd.to_datetime(salesmonthly_new['datum'].iloc[-1])\n",
    "future_dates = [last_date + pd.DateOffset(months=i) for i in range(1, future_steps + 1)]\n",
    "\n",
    "# Plot actual vs. predicted values with future predictions\n",
    "plt.figure(figsize=(10, 6))\n",
    "plt.plot(salesmonthly_new['datum'][split_index:], y_test_inv, label='Actual')\n",
    "plt.plot(salesmonthly_new['datum'][split_index:], predictions_inv, label='Predicted')\n",
    "plt.plot(future_dates, future_predictions, label='Future Predictions', linestyle='--')\n",
    "plt.title('Actual vs. Predicted Quantity with Future Predictions')\n",
    "plt.xlabel('Date')\n",
    "plt.ylabel('Quantity')\n",
    "plt.xticks(rotation=45)  # Rotate x-axis labels for better readability\n",
    "plt.legend()\n",
    "plt.tight_layout()  # Adjust layout to prevent clipping of labels\n",
    "plt.show()"
   ]
  },
  {
   "cell_type": "code",
   "execution_count": 35,
   "id": "094398e4",
   "metadata": {
    "execution": {
     "iopub.execute_input": "2024-04-11T16:59:23.445572Z",
     "iopub.status.busy": "2024-04-11T16:59:23.445131Z",
     "iopub.status.idle": "2024-04-11T16:59:23.531194Z",
     "shell.execute_reply": "2024-04-11T16:59:23.530031Z"
    },
    "papermill": {
     "duration": 0.161927,
     "end_time": "2024-04-11T16:59:23.533699",
     "exception": false,
     "start_time": "2024-04-11T16:59:23.371772",
     "status": "completed"
    },
    "tags": []
   },
   "outputs": [
    {
     "name": "stdout",
     "output_type": "stream",
     "text": [
      "\u001b[1m1/1\u001b[0m \u001b[32m━━━━━━━━━━━━━━━━━━━━\u001b[0m\u001b[37m\u001b[0m \u001b[1m0s\u001b[0m 24ms/step\n",
      "Mean Absolute Error (MAE): 4.028390785217285\n",
      "Mean Squared Error (MSE): 23.177437016920756\n"
     ]
    }
   ],
   "source": [
    "from sklearn.metrics import mean_absolute_error, mean_squared_error\n",
    "\n",
    "# Make predictions on the test data\n",
    "predictions = model.predict(X_test)\n",
    "\n",
    "# Inverse transform the predicted values\n",
    "predictions_inv = scaler_y.inverse_transform(predictions.reshape(-1, 1)).flatten()\n",
    "\n",
    "# Calculate Mean Absolute Error (MAE)\n",
    "mae = mean_absolute_error(y_test_inv, predictions_inv)\n",
    "\n",
    "# Calculate Mean Squared Error (MSE)\n",
    "mse = mean_squared_error(y_test_inv, predictions_inv)\n",
    "\n",
    "print(\"Mean Absolute Error (MAE):\", mae)\n",
    "print(\"Mean Squared Error (MSE):\", mse)"
   ]
  },
  {
   "cell_type": "code",
   "execution_count": 36,
   "id": "6af4950e",
   "metadata": {
    "execution": {
     "iopub.execute_input": "2024-04-11T16:59:23.678765Z",
     "iopub.status.busy": "2024-04-11T16:59:23.678254Z",
     "iopub.status.idle": "2024-04-11T16:59:23.687223Z",
     "shell.execute_reply": "2024-04-11T16:59:23.686238Z"
    },
    "papermill": {
     "duration": 0.082964,
     "end_time": "2024-04-11T16:59:23.689349",
     "exception": false,
     "start_time": "2024-04-11T16:59:23.606385",
     "status": "completed"
    },
    "tags": []
   },
   "outputs": [
    {
     "name": "stdout",
     "output_type": "stream",
     "text": [
      "Index of lowest quantity: 36\n",
      "Lowest quantity: 0.0\n"
     ]
    }
   ],
   "source": [
    "# Assuming your DataFrame is named df and the column containing quantities is named 'quantity'\n",
    "highest_quantity_index = salesmonthly_new['Quantity'].idxmin()\n",
    "highest_quantity_value = salesmonthly_new.loc[highest_quantity_index, 'Quantity']\n",
    "\n",
    "print(\"Index of lowest quantity:\", highest_quantity_index)\n",
    "print(\"Lowest quantity:\", highest_quantity_value)"
   ]
  },
  {
   "cell_type": "code",
   "execution_count": 37,
   "id": "6f063377",
   "metadata": {
    "execution": {
     "iopub.execute_input": "2024-04-11T16:59:23.831057Z",
     "iopub.status.busy": "2024-04-11T16:59:23.830573Z",
     "iopub.status.idle": "2024-04-11T16:59:23.836748Z",
     "shell.execute_reply": "2024-04-11T16:59:23.836007Z"
    },
    "papermill": {
     "duration": 0.078621,
     "end_time": "2024-04-11T16:59:23.838973",
     "exception": false,
     "start_time": "2024-04-11T16:59:23.760352",
     "status": "completed"
    },
    "tags": []
   },
   "outputs": [
    {
     "name": "stdout",
     "output_type": "stream",
     "text": [
      "Index of highest quantity: 219\n",
      "Highest quantity: 1856.8149999999996\n"
     ]
    }
   ],
   "source": [
    "# Assuming your DataFrame is named df and the column containing quantities is named 'quantity'\n",
    "highest_quantity_index = salesmonthly_new['Quantity'].idxmax()\n",
    "highest_quantity_value = salesmonthly_new.loc[highest_quantity_index, 'Quantity']\n",
    "\n",
    "print(\"Index of highest quantity:\", highest_quantity_index)\n",
    "print(\"Highest quantity:\", highest_quantity_value)"
   ]
  },
  {
   "cell_type": "code",
   "execution_count": null,
   "id": "c2b66020",
   "metadata": {
    "papermill": {
     "duration": 0.071729,
     "end_time": "2024-04-11T16:59:23.981148",
     "exception": false,
     "start_time": "2024-04-11T16:59:23.909419",
     "status": "completed"
    },
    "tags": []
   },
   "outputs": [],
   "source": []
  }
 ],
 "metadata": {
  "kaggle": {
   "accelerator": "none",
   "dataSources": [
    {
     "datasetId": 466126,
     "sourceId": 875246,
     "sourceType": "datasetVersion"
    }
   ],
   "dockerImageVersionId": 30673,
   "isGpuEnabled": false,
   "isInternetEnabled": true,
   "language": "python",
   "sourceType": "notebook"
  },
  "kernelspec": {
   "display_name": "Python 3",
   "language": "python",
   "name": "python3"
  },
  "language_info": {
   "codemirror_mode": {
    "name": "ipython",
    "version": 3
   },
   "file_extension": ".py",
   "mimetype": "text/x-python",
   "name": "python",
   "nbconvert_exporter": "python",
   "pygments_lexer": "ipython3",
   "version": "3.10.13"
  },
  "papermill": {
   "default_parameters": {},
   "duration": 85.131423,
   "end_time": "2024-04-11T16:59:26.972173",
   "environment_variables": {},
   "exception": null,
   "input_path": "__notebook__.ipynb",
   "output_path": "__notebook__.ipynb",
   "parameters": {},
   "start_time": "2024-04-11T16:58:01.840750",
   "version": "2.5.0"
  }
 },
 "nbformat": 4,
 "nbformat_minor": 5
}
