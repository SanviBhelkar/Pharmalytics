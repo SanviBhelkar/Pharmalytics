{
 "cells": [
  {
   "cell_type": "code",
   "execution_count": 1,
   "id": "c129f9d6",
   "metadata": {
    "_cell_guid": "b1076dfc-b9ad-4769-8c92-a6c4dae69d19",
    "_uuid": "8f2839f25d086af736a60e9eeb907d3b93b6e0e5",
    "execution": {
     "iopub.execute_input": "2024-04-11T17:12:53.545383Z",
     "iopub.status.busy": "2024-04-11T17:12:53.544559Z",
     "iopub.status.idle": "2024-04-11T17:12:54.537099Z",
     "shell.execute_reply": "2024-04-11T17:12:54.535931Z"
    },
    "papermill": {
     "duration": 1.011086,
     "end_time": "2024-04-11T17:12:54.539591",
     "exception": false,
     "start_time": "2024-04-11T17:12:53.528505",
     "status": "completed"
    },
    "tags": []
   },
   "outputs": [
    {
     "name": "stdout",
     "output_type": "stream",
     "text": [
      "/kaggle/input/pharma-sales-data/salesdaily.csv\n",
      "/kaggle/input/pharma-sales-data/salesweekly.csv\n",
      "/kaggle/input/pharma-sales-data/salesmonthly.csv\n",
      "/kaggle/input/pharma-sales-data/saleshourly.csv\n"
     ]
    }
   ],
   "source": [
    "# This Python 3 environment comes with many helpful analytics libraries installed\n",
    "# It is defined by the kaggle/python Docker image: https://github.com/kaggle/docker-python\n",
    "# For example, here's several helpful packages to load\n",
    "\n",
    "import numpy as np # linear algebra\n",
    "import pandas as pd # data processing, CSV file I/O (e.g. pd.read_csv)\n",
    "\n",
    "# Input data files are available in the read-only \"../input/\" directory\n",
    "# For example, running this (by clicking run or pressing Shift+Enter) will list all files under the input directory\n",
    "\n",
    "import os\n",
    "for dirname, _, filenames in os.walk('/kaggle/input'):\n",
    "    for filename in filenames:\n",
    "        print(os.path.join(dirname, filename))\n",
    "\n",
    "# You can write up to 20GB to the current directory (/kaggle/working/) that gets preserved as output when you create a version using \"Save & Run All\" \n",
    "# You can also write temporary files to /kaggle/temp/, but they won't be saved outside of the current session"
   ]
  },
  {
   "cell_type": "markdown",
   "id": "2b9b0933",
   "metadata": {
    "papermill": {
     "duration": 0.012458,
     "end_time": "2024-04-11T17:12:54.564962",
     "exception": false,
     "start_time": "2024-04-11T17:12:54.552504",
     "status": "completed"
    },
    "tags": []
   },
   "source": [
    "## **Import Libraries**"
   ]
  },
  {
   "cell_type": "code",
   "execution_count": 2,
   "id": "06651520",
   "metadata": {
    "execution": {
     "iopub.execute_input": "2024-04-11T17:12:54.592890Z",
     "iopub.status.busy": "2024-04-11T17:12:54.592052Z",
     "iopub.status.idle": "2024-04-11T17:13:10.332693Z",
     "shell.execute_reply": "2024-04-11T17:13:10.331654Z"
    },
    "papermill": {
     "duration": 15.757741,
     "end_time": "2024-04-11T17:13:10.335616",
     "exception": false,
     "start_time": "2024-04-11T17:12:54.577875",
     "status": "completed"
    },
    "tags": []
   },
   "outputs": [
    {
     "name": "stderr",
     "output_type": "stream",
     "text": [
      "2024-04-11 17:12:58.623080: E external/local_xla/xla/stream_executor/cuda/cuda_dnn.cc:9261] Unable to register cuDNN factory: Attempting to register factory for plugin cuDNN when one has already been registered\n",
      "2024-04-11 17:12:58.623275: E external/local_xla/xla/stream_executor/cuda/cuda_fft.cc:607] Unable to register cuFFT factory: Attempting to register factory for plugin cuFFT when one has already been registered\n",
      "2024-04-11 17:12:58.781355: E external/local_xla/xla/stream_executor/cuda/cuda_blas.cc:1515] Unable to register cuBLAS factory: Attempting to register factory for plugin cuBLAS when one has already been registered\n"
     ]
    }
   ],
   "source": [
    "import numpy as np \n",
    "import pandas as pd \n",
    "import matplotlib.pyplot as plt\n",
    "import seaborn as sns\n",
    "sns.set()\n",
    "\n",
    "# from keras.models import Sequential\n",
    "# from keras.layers import Conv2D, Dropout, BatchNormalization, Flatten, Dense, MaxPooling2D\n",
    "# from keras.callbacks import EarlyStopping, ReduceLROnPlateau, ModelCheckpoint, TensorBoard\n",
    "\n",
    "from sklearn.preprocessing import MinMaxScaler, StandardScaler\n",
    "from sklearn.metrics import mean_absolute_error, confusion_matrix, classification_report\n",
    "from sklearn.metrics import mean_squared_error, roc_curve, auc, r2_score, roc_auc_score\n",
    "from sklearn.model_selection import train_test_split\n",
    "\n",
    "from datetime import datetime\n",
    "from tensorflow.keras.optimizers import Adam\n",
    "from tensorflow.keras.utils import to_categorical\n",
    "from tensorflow.keras.models import Sequential\n",
    "from tensorflow.keras.metrics import RootMeanSquaredError\n",
    "from tensorflow.keras.layers import LSTM, Dense, Dropout, BatchNormalization\n",
    "from tensorflow.keras.callbacks import EarlyStopping, ReduceLROnPlateau\n",
    "\n",
    "import warnings\n",
    "warnings.filterwarnings('ignore')"
   ]
  },
  {
   "cell_type": "code",
   "execution_count": 3,
   "id": "755601a8",
   "metadata": {
    "execution": {
     "iopub.execute_input": "2024-04-11T17:13:10.364234Z",
     "iopub.status.busy": "2024-04-11T17:13:10.363476Z",
     "iopub.status.idle": "2024-04-11T17:13:10.522307Z",
     "shell.execute_reply": "2024-04-11T17:13:10.521076Z"
    },
    "papermill": {
     "duration": 0.175861,
     "end_time": "2024-04-11T17:13:10.525089",
     "exception": false,
     "start_time": "2024-04-11T17:13:10.349228",
     "status": "completed"
    },
    "tags": []
   },
   "outputs": [],
   "source": [
    "salesdaily=pd.read_csv('/kaggle/input/pharma-sales-data/salesdaily.csv')\n",
    "saleshourly=pd.read_csv('/kaggle/input/pharma-sales-data/saleshourly.csv')\n",
    "salesmonthly=pd.read_csv('/kaggle/input/pharma-sales-data/salesmonthly.csv')\n",
    "salesweekly=pd.read_csv('/kaggle/input/pharma-sales-data/salesweekly.csv')"
   ]
  },
  {
   "cell_type": "code",
   "execution_count": 4,
   "id": "7d9b4193",
   "metadata": {
    "execution": {
     "iopub.execute_input": "2024-04-11T17:13:10.554962Z",
     "iopub.status.busy": "2024-04-11T17:13:10.553686Z",
     "iopub.status.idle": "2024-04-11T17:13:10.584806Z",
     "shell.execute_reply": "2024-04-11T17:13:10.583508Z"
    },
    "papermill": {
     "duration": 0.047874,
     "end_time": "2024-04-11T17:13:10.587342",
     "exception": false,
     "start_time": "2024-04-11T17:13:10.539468",
     "status": "completed"
    },
    "tags": []
   },
   "outputs": [
    {
     "data": {
      "text/html": [
       "<div>\n",
       "<style scoped>\n",
       "    .dataframe tbody tr th:only-of-type {\n",
       "        vertical-align: middle;\n",
       "    }\n",
       "\n",
       "    .dataframe tbody tr th {\n",
       "        vertical-align: top;\n",
       "    }\n",
       "\n",
       "    .dataframe thead th {\n",
       "        text-align: right;\n",
       "    }\n",
       "</style>\n",
       "<table border=\"1\" class=\"dataframe\">\n",
       "  <thead>\n",
       "    <tr style=\"text-align: right;\">\n",
       "      <th></th>\n",
       "      <th>datum</th>\n",
       "      <th>M01AB</th>\n",
       "      <th>M01AE</th>\n",
       "      <th>N02BA</th>\n",
       "      <th>N02BE</th>\n",
       "      <th>N05B</th>\n",
       "      <th>N05C</th>\n",
       "      <th>R03</th>\n",
       "      <th>R06</th>\n",
       "      <th>Year</th>\n",
       "      <th>Month</th>\n",
       "      <th>Hour</th>\n",
       "      <th>Weekday Name</th>\n",
       "    </tr>\n",
       "  </thead>\n",
       "  <tbody>\n",
       "    <tr>\n",
       "      <th>0</th>\n",
       "      <td>1/2/2014</td>\n",
       "      <td>0.0</td>\n",
       "      <td>3.67</td>\n",
       "      <td>3.4</td>\n",
       "      <td>32.40</td>\n",
       "      <td>7.0</td>\n",
       "      <td>0.0</td>\n",
       "      <td>0.0</td>\n",
       "      <td>2.0</td>\n",
       "      <td>2014</td>\n",
       "      <td>1</td>\n",
       "      <td>248</td>\n",
       "      <td>Thursday</td>\n",
       "    </tr>\n",
       "    <tr>\n",
       "      <th>1</th>\n",
       "      <td>1/3/2014</td>\n",
       "      <td>8.0</td>\n",
       "      <td>4.00</td>\n",
       "      <td>4.4</td>\n",
       "      <td>50.60</td>\n",
       "      <td>16.0</td>\n",
       "      <td>0.0</td>\n",
       "      <td>20.0</td>\n",
       "      <td>4.0</td>\n",
       "      <td>2014</td>\n",
       "      <td>1</td>\n",
       "      <td>276</td>\n",
       "      <td>Friday</td>\n",
       "    </tr>\n",
       "    <tr>\n",
       "      <th>2</th>\n",
       "      <td>1/4/2014</td>\n",
       "      <td>2.0</td>\n",
       "      <td>1.00</td>\n",
       "      <td>6.5</td>\n",
       "      <td>61.85</td>\n",
       "      <td>10.0</td>\n",
       "      <td>0.0</td>\n",
       "      <td>9.0</td>\n",
       "      <td>1.0</td>\n",
       "      <td>2014</td>\n",
       "      <td>1</td>\n",
       "      <td>276</td>\n",
       "      <td>Saturday</td>\n",
       "    </tr>\n",
       "    <tr>\n",
       "      <th>3</th>\n",
       "      <td>1/5/2014</td>\n",
       "      <td>4.0</td>\n",
       "      <td>3.00</td>\n",
       "      <td>7.0</td>\n",
       "      <td>41.10</td>\n",
       "      <td>8.0</td>\n",
       "      <td>0.0</td>\n",
       "      <td>3.0</td>\n",
       "      <td>0.0</td>\n",
       "      <td>2014</td>\n",
       "      <td>1</td>\n",
       "      <td>276</td>\n",
       "      <td>Sunday</td>\n",
       "    </tr>\n",
       "    <tr>\n",
       "      <th>4</th>\n",
       "      <td>1/6/2014</td>\n",
       "      <td>5.0</td>\n",
       "      <td>1.00</td>\n",
       "      <td>4.5</td>\n",
       "      <td>21.70</td>\n",
       "      <td>16.0</td>\n",
       "      <td>2.0</td>\n",
       "      <td>6.0</td>\n",
       "      <td>2.0</td>\n",
       "      <td>2014</td>\n",
       "      <td>1</td>\n",
       "      <td>276</td>\n",
       "      <td>Monday</td>\n",
       "    </tr>\n",
       "  </tbody>\n",
       "</table>\n",
       "</div>"
      ],
      "text/plain": [
       "      datum  M01AB  M01AE  N02BA  N02BE  N05B  N05C   R03  R06  Year  Month  \\\n",
       "0  1/2/2014    0.0   3.67    3.4  32.40   7.0   0.0   0.0  2.0  2014      1   \n",
       "1  1/3/2014    8.0   4.00    4.4  50.60  16.0   0.0  20.0  4.0  2014      1   \n",
       "2  1/4/2014    2.0   1.00    6.5  61.85  10.0   0.0   9.0  1.0  2014      1   \n",
       "3  1/5/2014    4.0   3.00    7.0  41.10   8.0   0.0   3.0  0.0  2014      1   \n",
       "4  1/6/2014    5.0   1.00    4.5  21.70  16.0   2.0   6.0  2.0  2014      1   \n",
       "\n",
       "   Hour Weekday Name  \n",
       "0   248     Thursday  \n",
       "1   276       Friday  \n",
       "2   276     Saturday  \n",
       "3   276       Sunday  \n",
       "4   276       Monday  "
      ]
     },
     "execution_count": 4,
     "metadata": {},
     "output_type": "execute_result"
    }
   ],
   "source": [
    "salesdaily.head()"
   ]
  },
  {
   "cell_type": "code",
   "execution_count": 5,
   "id": "f8b47d04",
   "metadata": {
    "execution": {
     "iopub.execute_input": "2024-04-11T17:13:10.616010Z",
     "iopub.status.busy": "2024-04-11T17:13:10.615594Z",
     "iopub.status.idle": "2024-04-11T17:13:10.637034Z",
     "shell.execute_reply": "2024-04-11T17:13:10.636206Z"
    },
    "papermill": {
     "duration": 0.038371,
     "end_time": "2024-04-11T17:13:10.639196",
     "exception": false,
     "start_time": "2024-04-11T17:13:10.600825",
     "status": "completed"
    },
    "tags": []
   },
   "outputs": [
    {
     "data": {
      "text/html": [
       "<div>\n",
       "<style scoped>\n",
       "    .dataframe tbody tr th:only-of-type {\n",
       "        vertical-align: middle;\n",
       "    }\n",
       "\n",
       "    .dataframe tbody tr th {\n",
       "        vertical-align: top;\n",
       "    }\n",
       "\n",
       "    .dataframe thead th {\n",
       "        text-align: right;\n",
       "    }\n",
       "</style>\n",
       "<table border=\"1\" class=\"dataframe\">\n",
       "  <thead>\n",
       "    <tr style=\"text-align: right;\">\n",
       "      <th></th>\n",
       "      <th>datum</th>\n",
       "      <th>M01AB</th>\n",
       "      <th>M01AE</th>\n",
       "      <th>N02BA</th>\n",
       "      <th>N02BE</th>\n",
       "      <th>N05B</th>\n",
       "      <th>N05C</th>\n",
       "      <th>R03</th>\n",
       "      <th>R06</th>\n",
       "      <th>Year</th>\n",
       "      <th>Month</th>\n",
       "      <th>Hour</th>\n",
       "      <th>Weekday Name</th>\n",
       "    </tr>\n",
       "  </thead>\n",
       "  <tbody>\n",
       "    <tr>\n",
       "      <th>0</th>\n",
       "      <td>1/2/2014 8:00</td>\n",
       "      <td>0.0</td>\n",
       "      <td>0.67</td>\n",
       "      <td>0.4</td>\n",
       "      <td>2.0</td>\n",
       "      <td>0.0</td>\n",
       "      <td>0.0</td>\n",
       "      <td>0.0</td>\n",
       "      <td>1.0</td>\n",
       "      <td>2014</td>\n",
       "      <td>1</td>\n",
       "      <td>8</td>\n",
       "      <td>Thursday</td>\n",
       "    </tr>\n",
       "    <tr>\n",
       "      <th>1</th>\n",
       "      <td>1/2/2014 9:00</td>\n",
       "      <td>0.0</td>\n",
       "      <td>0.00</td>\n",
       "      <td>1.0</td>\n",
       "      <td>0.0</td>\n",
       "      <td>2.0</td>\n",
       "      <td>0.0</td>\n",
       "      <td>0.0</td>\n",
       "      <td>0.0</td>\n",
       "      <td>2014</td>\n",
       "      <td>1</td>\n",
       "      <td>9</td>\n",
       "      <td>Thursday</td>\n",
       "    </tr>\n",
       "    <tr>\n",
       "      <th>2</th>\n",
       "      <td>1/2/2014 10:00</td>\n",
       "      <td>0.0</td>\n",
       "      <td>0.00</td>\n",
       "      <td>0.0</td>\n",
       "      <td>3.0</td>\n",
       "      <td>2.0</td>\n",
       "      <td>0.0</td>\n",
       "      <td>0.0</td>\n",
       "      <td>0.0</td>\n",
       "      <td>2014</td>\n",
       "      <td>1</td>\n",
       "      <td>10</td>\n",
       "      <td>Thursday</td>\n",
       "    </tr>\n",
       "    <tr>\n",
       "      <th>3</th>\n",
       "      <td>1/2/2014 11:00</td>\n",
       "      <td>0.0</td>\n",
       "      <td>0.00</td>\n",
       "      <td>0.0</td>\n",
       "      <td>2.0</td>\n",
       "      <td>1.0</td>\n",
       "      <td>0.0</td>\n",
       "      <td>0.0</td>\n",
       "      <td>0.0</td>\n",
       "      <td>2014</td>\n",
       "      <td>1</td>\n",
       "      <td>11</td>\n",
       "      <td>Thursday</td>\n",
       "    </tr>\n",
       "    <tr>\n",
       "      <th>4</th>\n",
       "      <td>1/2/2014 12:00</td>\n",
       "      <td>0.0</td>\n",
       "      <td>2.00</td>\n",
       "      <td>0.0</td>\n",
       "      <td>5.0</td>\n",
       "      <td>2.0</td>\n",
       "      <td>0.0</td>\n",
       "      <td>0.0</td>\n",
       "      <td>0.0</td>\n",
       "      <td>2014</td>\n",
       "      <td>1</td>\n",
       "      <td>12</td>\n",
       "      <td>Thursday</td>\n",
       "    </tr>\n",
       "  </tbody>\n",
       "</table>\n",
       "</div>"
      ],
      "text/plain": [
       "            datum  M01AB  M01AE  N02BA  N02BE  N05B  N05C  R03  R06  Year  \\\n",
       "0   1/2/2014 8:00    0.0   0.67    0.4    2.0   0.0   0.0  0.0  1.0  2014   \n",
       "1   1/2/2014 9:00    0.0   0.00    1.0    0.0   2.0   0.0  0.0  0.0  2014   \n",
       "2  1/2/2014 10:00    0.0   0.00    0.0    3.0   2.0   0.0  0.0  0.0  2014   \n",
       "3  1/2/2014 11:00    0.0   0.00    0.0    2.0   1.0   0.0  0.0  0.0  2014   \n",
       "4  1/2/2014 12:00    0.0   2.00    0.0    5.0   2.0   0.0  0.0  0.0  2014   \n",
       "\n",
       "   Month  Hour Weekday Name  \n",
       "0      1     8     Thursday  \n",
       "1      1     9     Thursday  \n",
       "2      1    10     Thursday  \n",
       "3      1    11     Thursday  \n",
       "4      1    12     Thursday  "
      ]
     },
     "execution_count": 5,
     "metadata": {},
     "output_type": "execute_result"
    }
   ],
   "source": [
    "saleshourly.head()"
   ]
  },
  {
   "cell_type": "code",
   "execution_count": 6,
   "id": "9458be63",
   "metadata": {
    "execution": {
     "iopub.execute_input": "2024-04-11T17:13:10.668646Z",
     "iopub.status.busy": "2024-04-11T17:13:10.667689Z",
     "iopub.status.idle": "2024-04-11T17:13:10.687735Z",
     "shell.execute_reply": "2024-04-11T17:13:10.686676Z"
    },
    "papermill": {
     "duration": 0.037209,
     "end_time": "2024-04-11T17:13:10.690107",
     "exception": false,
     "start_time": "2024-04-11T17:13:10.652898",
     "status": "completed"
    },
    "tags": []
   },
   "outputs": [
    {
     "data": {
      "text/html": [
       "<div>\n",
       "<style scoped>\n",
       "    .dataframe tbody tr th:only-of-type {\n",
       "        vertical-align: middle;\n",
       "    }\n",
       "\n",
       "    .dataframe tbody tr th {\n",
       "        vertical-align: top;\n",
       "    }\n",
       "\n",
       "    .dataframe thead th {\n",
       "        text-align: right;\n",
       "    }\n",
       "</style>\n",
       "<table border=\"1\" class=\"dataframe\">\n",
       "  <thead>\n",
       "    <tr style=\"text-align: right;\">\n",
       "      <th></th>\n",
       "      <th>datum</th>\n",
       "      <th>M01AB</th>\n",
       "      <th>M01AE</th>\n",
       "      <th>N02BA</th>\n",
       "      <th>N02BE</th>\n",
       "      <th>N05B</th>\n",
       "      <th>N05C</th>\n",
       "      <th>R03</th>\n",
       "      <th>R06</th>\n",
       "    </tr>\n",
       "  </thead>\n",
       "  <tbody>\n",
       "    <tr>\n",
       "      <th>0</th>\n",
       "      <td>1/5/2014</td>\n",
       "      <td>14.00</td>\n",
       "      <td>11.67</td>\n",
       "      <td>21.3</td>\n",
       "      <td>185.95</td>\n",
       "      <td>41.0</td>\n",
       "      <td>0.0</td>\n",
       "      <td>32.0</td>\n",
       "      <td>7.0</td>\n",
       "    </tr>\n",
       "    <tr>\n",
       "      <th>1</th>\n",
       "      <td>1/12/2014</td>\n",
       "      <td>29.33</td>\n",
       "      <td>12.68</td>\n",
       "      <td>37.9</td>\n",
       "      <td>190.70</td>\n",
       "      <td>88.0</td>\n",
       "      <td>5.0</td>\n",
       "      <td>21.0</td>\n",
       "      <td>7.2</td>\n",
       "    </tr>\n",
       "    <tr>\n",
       "      <th>2</th>\n",
       "      <td>1/19/2014</td>\n",
       "      <td>30.67</td>\n",
       "      <td>26.34</td>\n",
       "      <td>45.9</td>\n",
       "      <td>218.40</td>\n",
       "      <td>80.0</td>\n",
       "      <td>8.0</td>\n",
       "      <td>29.0</td>\n",
       "      <td>12.0</td>\n",
       "    </tr>\n",
       "    <tr>\n",
       "      <th>3</th>\n",
       "      <td>1/26/2014</td>\n",
       "      <td>34.00</td>\n",
       "      <td>32.37</td>\n",
       "      <td>31.5</td>\n",
       "      <td>179.60</td>\n",
       "      <td>80.0</td>\n",
       "      <td>8.0</td>\n",
       "      <td>23.0</td>\n",
       "      <td>10.0</td>\n",
       "    </tr>\n",
       "    <tr>\n",
       "      <th>4</th>\n",
       "      <td>2/2/2014</td>\n",
       "      <td>31.02</td>\n",
       "      <td>23.35</td>\n",
       "      <td>20.7</td>\n",
       "      <td>159.88</td>\n",
       "      <td>84.0</td>\n",
       "      <td>12.0</td>\n",
       "      <td>29.0</td>\n",
       "      <td>12.0</td>\n",
       "    </tr>\n",
       "  </tbody>\n",
       "</table>\n",
       "</div>"
      ],
      "text/plain": [
       "       datum  M01AB  M01AE  N02BA   N02BE  N05B  N05C   R03   R06\n",
       "0   1/5/2014  14.00  11.67   21.3  185.95  41.0   0.0  32.0   7.0\n",
       "1  1/12/2014  29.33  12.68   37.9  190.70  88.0   5.0  21.0   7.2\n",
       "2  1/19/2014  30.67  26.34   45.9  218.40  80.0   8.0  29.0  12.0\n",
       "3  1/26/2014  34.00  32.37   31.5  179.60  80.0   8.0  23.0  10.0\n",
       "4   2/2/2014  31.02  23.35   20.7  159.88  84.0  12.0  29.0  12.0"
      ]
     },
     "execution_count": 6,
     "metadata": {},
     "output_type": "execute_result"
    }
   ],
   "source": [
    "salesweekly.head()"
   ]
  },
  {
   "cell_type": "code",
   "execution_count": 7,
   "id": "3a4de6be",
   "metadata": {
    "execution": {
     "iopub.execute_input": "2024-04-11T17:13:10.719986Z",
     "iopub.status.busy": "2024-04-11T17:13:10.719541Z",
     "iopub.status.idle": "2024-04-11T17:13:10.738955Z",
     "shell.execute_reply": "2024-04-11T17:13:10.737783Z"
    },
    "papermill": {
     "duration": 0.037257,
     "end_time": "2024-04-11T17:13:10.741372",
     "exception": false,
     "start_time": "2024-04-11T17:13:10.704115",
     "status": "completed"
    },
    "tags": []
   },
   "outputs": [
    {
     "data": {
      "text/html": [
       "<div>\n",
       "<style scoped>\n",
       "    .dataframe tbody tr th:only-of-type {\n",
       "        vertical-align: middle;\n",
       "    }\n",
       "\n",
       "    .dataframe tbody tr th {\n",
       "        vertical-align: top;\n",
       "    }\n",
       "\n",
       "    .dataframe thead th {\n",
       "        text-align: right;\n",
       "    }\n",
       "</style>\n",
       "<table border=\"1\" class=\"dataframe\">\n",
       "  <thead>\n",
       "    <tr style=\"text-align: right;\">\n",
       "      <th></th>\n",
       "      <th>datum</th>\n",
       "      <th>M01AB</th>\n",
       "      <th>M01AE</th>\n",
       "      <th>N02BA</th>\n",
       "      <th>N02BE</th>\n",
       "      <th>N05B</th>\n",
       "      <th>N05C</th>\n",
       "      <th>R03</th>\n",
       "      <th>R06</th>\n",
       "    </tr>\n",
       "  </thead>\n",
       "  <tbody>\n",
       "    <tr>\n",
       "      <th>0</th>\n",
       "      <td>2014-01-31</td>\n",
       "      <td>127.69</td>\n",
       "      <td>99.090</td>\n",
       "      <td>152.100</td>\n",
       "      <td>878.030</td>\n",
       "      <td>354.0</td>\n",
       "      <td>50.0</td>\n",
       "      <td>112.0</td>\n",
       "      <td>48.2</td>\n",
       "    </tr>\n",
       "    <tr>\n",
       "      <th>1</th>\n",
       "      <td>2014-02-28</td>\n",
       "      <td>133.32</td>\n",
       "      <td>126.050</td>\n",
       "      <td>177.000</td>\n",
       "      <td>1001.900</td>\n",
       "      <td>347.0</td>\n",
       "      <td>31.0</td>\n",
       "      <td>122.0</td>\n",
       "      <td>36.2</td>\n",
       "    </tr>\n",
       "    <tr>\n",
       "      <th>2</th>\n",
       "      <td>2014-03-31</td>\n",
       "      <td>137.44</td>\n",
       "      <td>92.950</td>\n",
       "      <td>147.655</td>\n",
       "      <td>779.275</td>\n",
       "      <td>232.0</td>\n",
       "      <td>20.0</td>\n",
       "      <td>112.0</td>\n",
       "      <td>85.4</td>\n",
       "    </tr>\n",
       "    <tr>\n",
       "      <th>3</th>\n",
       "      <td>2014-04-30</td>\n",
       "      <td>113.10</td>\n",
       "      <td>89.475</td>\n",
       "      <td>130.900</td>\n",
       "      <td>698.500</td>\n",
       "      <td>209.0</td>\n",
       "      <td>18.0</td>\n",
       "      <td>97.0</td>\n",
       "      <td>73.7</td>\n",
       "    </tr>\n",
       "    <tr>\n",
       "      <th>4</th>\n",
       "      <td>2014-05-31</td>\n",
       "      <td>101.79</td>\n",
       "      <td>119.933</td>\n",
       "      <td>132.100</td>\n",
       "      <td>628.780</td>\n",
       "      <td>270.0</td>\n",
       "      <td>23.0</td>\n",
       "      <td>107.0</td>\n",
       "      <td>123.7</td>\n",
       "    </tr>\n",
       "  </tbody>\n",
       "</table>\n",
       "</div>"
      ],
      "text/plain": [
       "        datum   M01AB    M01AE    N02BA     N02BE   N05B  N05C    R03    R06\n",
       "0  2014-01-31  127.69   99.090  152.100   878.030  354.0  50.0  112.0   48.2\n",
       "1  2014-02-28  133.32  126.050  177.000  1001.900  347.0  31.0  122.0   36.2\n",
       "2  2014-03-31  137.44   92.950  147.655   779.275  232.0  20.0  112.0   85.4\n",
       "3  2014-04-30  113.10   89.475  130.900   698.500  209.0  18.0   97.0   73.7\n",
       "4  2014-05-31  101.79  119.933  132.100   628.780  270.0  23.0  107.0  123.7"
      ]
     },
     "execution_count": 7,
     "metadata": {},
     "output_type": "execute_result"
    }
   ],
   "source": [
    "salesmonthly.head()"
   ]
  },
  {
   "cell_type": "code",
   "execution_count": 8,
   "id": "bd950081",
   "metadata": {
    "execution": {
     "iopub.execute_input": "2024-04-11T17:13:10.771857Z",
     "iopub.status.busy": "2024-04-11T17:13:10.771403Z",
     "iopub.status.idle": "2024-04-11T17:13:13.927998Z",
     "shell.execute_reply": "2024-04-11T17:13:13.926882Z"
    },
    "papermill": {
     "duration": 3.174774,
     "end_time": "2024-04-11T17:13:13.930568",
     "exception": false,
     "start_time": "2024-04-11T17:13:10.755794",
     "status": "completed"
    },
    "tags": []
   },
   "outputs": [
    {
     "data": {
      "image/png": "[encoded data removed]",
      "text/plain": [
       "<Figure size 1000x3000 with 8 Axes>"
      ]
     },
     "metadata": {},
     "output_type": "display_data"
    }
   ],
   "source": [
    "fig, axes = plt.subplots(8, 1, figsize=(10, 30), sharex=True)\n",
    "for name, ax in zip(['M01AB','M01AE','N02BA','N02BE', 'N05B','N05C','R03','R06'], axes):\n",
    "    sns.boxplot(data=salesdaily, x='Month', y=name, ax=ax)"
   ]
  },
  {
   "cell_type": "markdown",
   "id": "72f321e6",
   "metadata": {
    "papermill": {
     "duration": 0.01562,
     "end_time": "2024-04-11T17:13:13.962489",
     "exception": false,
     "start_time": "2024-04-11T17:13:13.946869",
     "status": "completed"
    },
    "tags": []
   },
   "source": [
    "## **Load Data**"
   ]
  },
  {
   "cell_type": "code",
   "execution_count": 9,
   "id": "cada3c74",
   "metadata": {
    "execution": {
     "iopub.execute_input": "2024-04-11T17:13:13.997000Z",
     "iopub.status.busy": "2024-04-11T17:13:13.996544Z",
     "iopub.status.idle": "2024-04-11T17:13:14.010432Z",
     "shell.execute_reply": "2024-04-11T17:13:14.009226Z"
    },
    "papermill": {
     "duration": 0.034354,
     "end_time": "2024-04-11T17:13:14.013063",
     "exception": false,
     "start_time": "2024-04-11T17:13:13.978709",
     "status": "completed"
    },
    "tags": []
   },
   "outputs": [],
   "source": [
    "data = pd.read_csv('/kaggle/input/pharma-sales-data/salesmonthly.csv')"
   ]
  },
  {
   "cell_type": "markdown",
   "id": "7b7207d8",
   "metadata": {
    "papermill": {
     "duration": 0.015729,
     "end_time": "2024-04-11T17:13:14.045000",
     "exception": false,
     "start_time": "2024-04-11T17:13:14.029271",
     "status": "completed"
    },
    "tags": []
   },
   "source": [
    "## **Data Preprocessing**"
   ]
  },
  {
   "cell_type": "code",
   "execution_count": 10,
   "id": "9313dec9",
   "metadata": {
    "execution": {
     "iopub.execute_input": "2024-04-11T17:13:14.079038Z",
     "iopub.status.busy": "2024-04-11T17:13:14.078593Z",
     "iopub.status.idle": "2024-04-11T17:13:14.085846Z",
     "shell.execute_reply": "2024-04-11T17:13:14.084964Z"
    },
    "papermill": {
     "duration": 0.02711,
     "end_time": "2024-04-11T17:13:14.088360",
     "exception": false,
     "start_time": "2024-04-11T17:13:14.061250",
     "status": "completed"
    },
    "tags": []
   },
   "outputs": [
    {
     "name": "stdout",
     "output_type": "stream",
     "text": [
      "Missing Values:\n",
      " datum    0\n",
      "M01AB    0\n",
      "M01AE    0\n",
      "N02BA    0\n",
      "N02BE    0\n",
      "N05B     0\n",
      "N05C     0\n",
      "R03      0\n",
      "R06      0\n",
      "dtype: int64\n"
     ]
    }
   ],
   "source": [
    "# Check for missing values\n",
    "missing_values = data.isnull().sum()\n",
    "print(\"Missing Values:\\n\", missing_values)"
   ]
  },
  {
   "cell_type": "code",
   "execution_count": 11,
   "id": "63a03ac5",
   "metadata": {
    "execution": {
     "iopub.execute_input": "2024-04-11T17:13:14.128903Z",
     "iopub.status.busy": "2024-04-11T17:13:14.128455Z",
     "iopub.status.idle": "2024-04-11T17:13:14.154341Z",
     "shell.execute_reply": "2024-04-11T17:13:14.153138Z"
    },
    "papermill": {
     "duration": 0.051197,
     "end_time": "2024-04-11T17:13:14.157097",
     "exception": false,
     "start_time": "2024-04-11T17:13:14.105900",
     "status": "completed"
    },
    "tags": []
   },
   "outputs": [],
   "source": [
    "atc_categories = ['M01AB','M01AE','N02BA','N02BE', 'N05B','N05C','R03','R06']\n",
    "category_sales = {}\n",
    "for category in atc_categories:\n",
    "    category_sales[category] = data.groupby(category).sum()"
   ]
  },
  {
   "cell_type": "code",
   "execution_count": 12,
   "id": "b11deb59",
   "metadata": {
    "execution": {
     "iopub.execute_input": "2024-04-11T17:13:14.191125Z",
     "iopub.status.busy": "2024-04-11T17:13:14.190719Z",
     "iopub.status.idle": "2024-04-11T17:13:14.210114Z",
     "shell.execute_reply": "2024-04-11T17:13:14.209077Z"
    },
    "papermill": {
     "duration": 0.039045,
     "end_time": "2024-04-11T17:13:14.212524",
     "exception": false,
     "start_time": "2024-04-11T17:13:14.173479",
     "status": "completed"
    },
    "tags": []
   },
   "outputs": [
    {
     "data": {
      "text/html": [
       "<div>\n",
       "<style scoped>\n",
       "    .dataframe tbody tr th:only-of-type {\n",
       "        vertical-align: middle;\n",
       "    }\n",
       "\n",
       "    .dataframe tbody tr th {\n",
       "        vertical-align: top;\n",
       "    }\n",
       "\n",
       "    .dataframe thead th {\n",
       "        text-align: right;\n",
       "    }\n",
       "</style>\n",
       "<table border=\"1\" class=\"dataframe\">\n",
       "  <thead>\n",
       "    <tr style=\"text-align: right;\">\n",
       "      <th></th>\n",
       "      <th>datum</th>\n",
       "      <th>M01AB</th>\n",
       "      <th>M01AE</th>\n",
       "      <th>N02BA</th>\n",
       "      <th>N02BE</th>\n",
       "      <th>N05B</th>\n",
       "      <th>N05C</th>\n",
       "      <th>R03</th>\n",
       "      <th>R06</th>\n",
       "    </tr>\n",
       "  </thead>\n",
       "  <tbody>\n",
       "    <tr>\n",
       "      <th>0</th>\n",
       "      <td>2014-01-31</td>\n",
       "      <td>127.69</td>\n",
       "      <td>99.090</td>\n",
       "      <td>152.100</td>\n",
       "      <td>878.030</td>\n",
       "      <td>354.0</td>\n",
       "      <td>50.0</td>\n",
       "      <td>112.0</td>\n",
       "      <td>48.2</td>\n",
       "    </tr>\n",
       "    <tr>\n",
       "      <th>1</th>\n",
       "      <td>2014-02-28</td>\n",
       "      <td>133.32</td>\n",
       "      <td>126.050</td>\n",
       "      <td>177.000</td>\n",
       "      <td>1001.900</td>\n",
       "      <td>347.0</td>\n",
       "      <td>31.0</td>\n",
       "      <td>122.0</td>\n",
       "      <td>36.2</td>\n",
       "    </tr>\n",
       "    <tr>\n",
       "      <th>2</th>\n",
       "      <td>2014-03-31</td>\n",
       "      <td>137.44</td>\n",
       "      <td>92.950</td>\n",
       "      <td>147.655</td>\n",
       "      <td>779.275</td>\n",
       "      <td>232.0</td>\n",
       "      <td>20.0</td>\n",
       "      <td>112.0</td>\n",
       "      <td>85.4</td>\n",
       "    </tr>\n",
       "    <tr>\n",
       "      <th>3</th>\n",
       "      <td>2014-04-30</td>\n",
       "      <td>113.10</td>\n",
       "      <td>89.475</td>\n",
       "      <td>130.900</td>\n",
       "      <td>698.500</td>\n",
       "      <td>209.0</td>\n",
       "      <td>18.0</td>\n",
       "      <td>97.0</td>\n",
       "      <td>73.7</td>\n",
       "    </tr>\n",
       "    <tr>\n",
       "      <th>4</th>\n",
       "      <td>2014-05-31</td>\n",
       "      <td>101.79</td>\n",
       "      <td>119.933</td>\n",
       "      <td>132.100</td>\n",
       "      <td>628.780</td>\n",
       "      <td>270.0</td>\n",
       "      <td>23.0</td>\n",
       "      <td>107.0</td>\n",
       "      <td>123.7</td>\n",
       "    </tr>\n",
       "  </tbody>\n",
       "</table>\n",
       "</div>"
      ],
      "text/plain": [
       "        datum   M01AB    M01AE    N02BA     N02BE   N05B  N05C    R03    R06\n",
       "0  2014-01-31  127.69   99.090  152.100   878.030  354.0  50.0  112.0   48.2\n",
       "1  2014-02-28  133.32  126.050  177.000  1001.900  347.0  31.0  122.0   36.2\n",
       "2  2014-03-31  137.44   92.950  147.655   779.275  232.0  20.0  112.0   85.4\n",
       "3  2014-04-30  113.10   89.475  130.900   698.500  209.0  18.0   97.0   73.7\n",
       "4  2014-05-31  101.79  119.933  132.100   628.780  270.0  23.0  107.0  123.7"
      ]
     },
     "execution_count": 12,
     "metadata": {},
     "output_type": "execute_result"
    }
   ],
   "source": [
    "data.head()"
   ]
  },
  {
   "cell_type": "code",
   "execution_count": 13,
   "id": "e3fd98a5",
   "metadata": {
    "execution": {
     "iopub.execute_input": "2024-04-11T17:13:14.247679Z",
     "iopub.status.busy": "2024-04-11T17:13:14.247287Z",
     "iopub.status.idle": "2024-04-11T17:13:14.254294Z",
     "shell.execute_reply": "2024-04-11T17:13:14.253169Z"
    },
    "papermill": {
     "duration": 0.027426,
     "end_time": "2024-04-11T17:13:14.256401",
     "exception": false,
     "start_time": "2024-04-11T17:13:14.228975",
     "status": "completed"
    },
    "tags": []
   },
   "outputs": [
    {
     "data": {
      "text/plain": [
       "(70, 9)"
      ]
     },
     "execution_count": 13,
     "metadata": {},
     "output_type": "execute_result"
    }
   ],
   "source": [
    "data.shape"
   ]
  },
  {
   "cell_type": "code",
   "execution_count": 14,
   "id": "a180081d",
   "metadata": {
    "execution": {
     "iopub.execute_input": "2024-04-11T17:13:14.291655Z",
     "iopub.status.busy": "2024-04-11T17:13:14.291241Z",
     "iopub.status.idle": "2024-04-11T17:13:14.302692Z",
     "shell.execute_reply": "2024-04-11T17:13:14.301528Z"
    },
    "papermill": {
     "duration": 0.031755,
     "end_time": "2024-04-11T17:13:14.304987",
     "exception": false,
     "start_time": "2024-04-11T17:13:14.273232",
     "status": "completed"
    },
    "tags": []
   },
   "outputs": [],
   "source": [
    "# Assuming 'salesmonthly' is your DataFrame and 'datum' column contains dates as strings\n",
    "salesmonthly['datum'] = pd.to_datetime(salesmonthly['datum'])"
   ]
  },
  {
   "cell_type": "code",
   "execution_count": 15,
   "id": "770080e4",
   "metadata": {
    "execution": {
     "iopub.execute_input": "2024-04-11T17:13:14.340223Z",
     "iopub.status.busy": "2024-04-11T17:13:14.339794Z",
     "iopub.status.idle": "2024-04-11T17:13:14.365217Z",
     "shell.execute_reply": "2024-04-11T17:13:14.364275Z"
    },
    "papermill": {
     "duration": 0.045794,
     "end_time": "2024-04-11T17:13:14.367508",
     "exception": false,
     "start_time": "2024-04-11T17:13:14.321714",
     "status": "completed"
    },
    "tags": []
   },
   "outputs": [
    {
     "data": {
      "text/html": [
       "<div>\n",
       "<style scoped>\n",
       "    .dataframe tbody tr th:only-of-type {\n",
       "        vertical-align: middle;\n",
       "    }\n",
       "\n",
       "    .dataframe tbody tr th {\n",
       "        vertical-align: top;\n",
       "    }\n",
       "\n",
       "    .dataframe thead th {\n",
       "        text-align: right;\n",
       "    }\n",
       "</style>\n",
       "<table border=\"1\" class=\"dataframe\">\n",
       "  <thead>\n",
       "    <tr style=\"text-align: right;\">\n",
       "      <th></th>\n",
       "      <th>datum</th>\n",
       "      <th>M01AB</th>\n",
       "      <th>M01AE</th>\n",
       "      <th>N02BA</th>\n",
       "      <th>N02BE</th>\n",
       "      <th>N05B</th>\n",
       "      <th>N05C</th>\n",
       "      <th>R03</th>\n",
       "      <th>R06</th>\n",
       "    </tr>\n",
       "  </thead>\n",
       "  <tbody>\n",
       "    <tr>\n",
       "      <th>0</th>\n",
       "      <td>2014-01-31</td>\n",
       "      <td>127.69</td>\n",
       "      <td>99.090</td>\n",
       "      <td>152.100</td>\n",
       "      <td>878.030</td>\n",
       "      <td>354.0</td>\n",
       "      <td>50.0</td>\n",
       "      <td>112.0</td>\n",
       "      <td>48.20</td>\n",
       "    </tr>\n",
       "    <tr>\n",
       "      <th>1</th>\n",
       "      <td>2014-02-28</td>\n",
       "      <td>133.32</td>\n",
       "      <td>126.050</td>\n",
       "      <td>177.000</td>\n",
       "      <td>1001.900</td>\n",
       "      <td>347.0</td>\n",
       "      <td>31.0</td>\n",
       "      <td>122.0</td>\n",
       "      <td>36.20</td>\n",
       "    </tr>\n",
       "    <tr>\n",
       "      <th>2</th>\n",
       "      <td>2014-03-31</td>\n",
       "      <td>137.44</td>\n",
       "      <td>92.950</td>\n",
       "      <td>147.655</td>\n",
       "      <td>779.275</td>\n",
       "      <td>232.0</td>\n",
       "      <td>20.0</td>\n",
       "      <td>112.0</td>\n",
       "      <td>85.40</td>\n",
       "    </tr>\n",
       "    <tr>\n",
       "      <th>3</th>\n",
       "      <td>2014-04-30</td>\n",
       "      <td>113.10</td>\n",
       "      <td>89.475</td>\n",
       "      <td>130.900</td>\n",
       "      <td>698.500</td>\n",
       "      <td>209.0</td>\n",
       "      <td>18.0</td>\n",
       "      <td>97.0</td>\n",
       "      <td>73.70</td>\n",
       "    </tr>\n",
       "    <tr>\n",
       "      <th>4</th>\n",
       "      <td>2014-05-31</td>\n",
       "      <td>101.79</td>\n",
       "      <td>119.933</td>\n",
       "      <td>132.100</td>\n",
       "      <td>628.780</td>\n",
       "      <td>270.0</td>\n",
       "      <td>23.0</td>\n",
       "      <td>107.0</td>\n",
       "      <td>123.70</td>\n",
       "    </tr>\n",
       "    <tr>\n",
       "      <th>...</th>\n",
       "      <td>...</td>\n",
       "      <td>...</td>\n",
       "      <td>...</td>\n",
       "      <td>...</td>\n",
       "      <td>...</td>\n",
       "      <td>...</td>\n",
       "      <td>...</td>\n",
       "      <td>...</td>\n",
       "      <td>...</td>\n",
       "    </tr>\n",
       "    <tr>\n",
       "      <th>65</th>\n",
       "      <td>2019-06-30</td>\n",
       "      <td>151.54</td>\n",
       "      <td>101.627</td>\n",
       "      <td>103.200</td>\n",
       "      <td>610.000</td>\n",
       "      <td>193.0</td>\n",
       "      <td>25.0</td>\n",
       "      <td>142.0</td>\n",
       "      <td>156.04</td>\n",
       "    </tr>\n",
       "    <tr>\n",
       "      <th>66</th>\n",
       "      <td>2019-07-31</td>\n",
       "      <td>181.00</td>\n",
       "      <td>103.541</td>\n",
       "      <td>92.800</td>\n",
       "      <td>649.800</td>\n",
       "      <td>250.6</td>\n",
       "      <td>20.0</td>\n",
       "      <td>115.0</td>\n",
       "      <td>105.20</td>\n",
       "    </tr>\n",
       "    <tr>\n",
       "      <th>67</th>\n",
       "      <td>2019-08-31</td>\n",
       "      <td>181.91</td>\n",
       "      <td>88.269</td>\n",
       "      <td>84.200</td>\n",
       "      <td>518.100</td>\n",
       "      <td>237.0</td>\n",
       "      <td>26.0</td>\n",
       "      <td>145.0</td>\n",
       "      <td>97.30</td>\n",
       "    </tr>\n",
       "    <tr>\n",
       "      <th>68</th>\n",
       "      <td>2019-09-30</td>\n",
       "      <td>161.07</td>\n",
       "      <td>111.437</td>\n",
       "      <td>93.500</td>\n",
       "      <td>984.480</td>\n",
       "      <td>227.8</td>\n",
       "      <td>16.0</td>\n",
       "      <td>161.0</td>\n",
       "      <td>109.10</td>\n",
       "    </tr>\n",
       "    <tr>\n",
       "      <th>69</th>\n",
       "      <td>2019-10-31</td>\n",
       "      <td>44.37</td>\n",
       "      <td>37.300</td>\n",
       "      <td>20.650</td>\n",
       "      <td>295.150</td>\n",
       "      <td>86.0</td>\n",
       "      <td>7.0</td>\n",
       "      <td>37.0</td>\n",
       "      <td>11.13</td>\n",
       "    </tr>\n",
       "  </tbody>\n",
       "</table>\n",
       "<p>70 rows × 9 columns</p>\n",
       "</div>"
      ],
      "text/plain": [
       "        datum   M01AB    M01AE    N02BA     N02BE   N05B  N05C    R03     R06\n",
       "0  2014-01-31  127.69   99.090  152.100   878.030  354.0  50.0  112.0   48.20\n",
       "1  2014-02-28  133.32  126.050  177.000  1001.900  347.0  31.0  122.0   36.20\n",
       "2  2014-03-31  137.44   92.950  147.655   779.275  232.0  20.0  112.0   85.40\n",
       "3  2014-04-30  113.10   89.475  130.900   698.500  209.0  18.0   97.0   73.70\n",
       "4  2014-05-31  101.79  119.933  132.100   628.780  270.0  23.0  107.0  123.70\n",
       "..        ...     ...      ...      ...       ...    ...   ...    ...     ...\n",
       "65 2019-06-30  151.54  101.627  103.200   610.000  193.0  25.0  142.0  156.04\n",
       "66 2019-07-31  181.00  103.541   92.800   649.800  250.6  20.0  115.0  105.20\n",
       "67 2019-08-31  181.91   88.269   84.200   518.100  237.0  26.0  145.0   97.30\n",
       "68 2019-09-30  161.07  111.437   93.500   984.480  227.8  16.0  161.0  109.10\n",
       "69 2019-10-31   44.37   37.300   20.650   295.150   86.0   7.0   37.0   11.13\n",
       "\n",
       "[70 rows x 9 columns]"
      ]
     },
     "execution_count": 15,
     "metadata": {},
     "output_type": "execute_result"
    }
   ],
   "source": [
    "salesmonthly"
   ]
  },
  {
   "cell_type": "code",
   "execution_count": 16,
   "id": "2c68c3cb",
   "metadata": {
    "execution": {
     "iopub.execute_input": "2024-04-11T17:13:14.403891Z",
     "iopub.status.busy": "2024-04-11T17:13:14.403443Z",
     "iopub.status.idle": "2024-04-11T17:13:14.410929Z",
     "shell.execute_reply": "2024-04-11T17:13:14.409655Z"
    },
    "papermill": {
     "duration": 0.028641,
     "end_time": "2024-04-11T17:13:14.413364",
     "exception": false,
     "start_time": "2024-04-11T17:13:14.384723",
     "status": "completed"
    },
    "tags": []
   },
   "outputs": [
    {
     "name": "stdout",
     "output_type": "stream",
     "text": [
      "2014-01-31 00:00:00\n",
      "2019-10-31 00:00:00\n"
     ]
    }
   ],
   "source": [
    "print(salesmonthly['datum'].min())\n",
    "print(salesmonthly['datum'].max())"
   ]
  },
  {
   "cell_type": "code",
   "execution_count": 17,
   "id": "c2713830",
   "metadata": {
    "execution": {
     "iopub.execute_input": "2024-04-11T17:13:14.450075Z",
     "iopub.status.busy": "2024-04-11T17:13:14.449372Z",
     "iopub.status.idle": "2024-04-11T17:13:14.471044Z",
     "shell.execute_reply": "2024-04-11T17:13:14.469761Z"
    },
    "papermill": {
     "duration": 0.042684,
     "end_time": "2024-04-11T17:13:14.473531",
     "exception": false,
     "start_time": "2024-04-11T17:13:14.430847",
     "status": "completed"
    },
    "tags": []
   },
   "outputs": [
    {
     "data": {
      "text/html": [
       "<div>\n",
       "<style scoped>\n",
       "    .dataframe tbody tr th:only-of-type {\n",
       "        vertical-align: middle;\n",
       "    }\n",
       "\n",
       "    .dataframe tbody tr th {\n",
       "        vertical-align: top;\n",
       "    }\n",
       "\n",
       "    .dataframe thead th {\n",
       "        text-align: right;\n",
       "    }\n",
       "</style>\n",
       "<table border=\"1\" class=\"dataframe\">\n",
       "  <thead>\n",
       "    <tr style=\"text-align: right;\">\n",
       "      <th></th>\n",
       "      <th>datum</th>\n",
       "      <th>Drug</th>\n",
       "      <th>Quantity</th>\n",
       "    </tr>\n",
       "  </thead>\n",
       "  <tbody>\n",
       "    <tr>\n",
       "      <th>0</th>\n",
       "      <td>2014-01-31</td>\n",
       "      <td>M01AB</td>\n",
       "      <td>127.69</td>\n",
       "    </tr>\n",
       "    <tr>\n",
       "      <th>1</th>\n",
       "      <td>2014-02-28</td>\n",
       "      <td>M01AB</td>\n",
       "      <td>133.32</td>\n",
       "    </tr>\n",
       "    <tr>\n",
       "      <th>2</th>\n",
       "      <td>2014-03-31</td>\n",
       "      <td>M01AB</td>\n",
       "      <td>137.44</td>\n",
       "    </tr>\n",
       "    <tr>\n",
       "      <th>3</th>\n",
       "      <td>2014-04-30</td>\n",
       "      <td>M01AB</td>\n",
       "      <td>113.10</td>\n",
       "    </tr>\n",
       "    <tr>\n",
       "      <th>4</th>\n",
       "      <td>2014-05-31</td>\n",
       "      <td>M01AB</td>\n",
       "      <td>101.79</td>\n",
       "    </tr>\n",
       "    <tr>\n",
       "      <th>...</th>\n",
       "      <td>...</td>\n",
       "      <td>...</td>\n",
       "      <td>...</td>\n",
       "    </tr>\n",
       "    <tr>\n",
       "      <th>555</th>\n",
       "      <td>2019-06-30</td>\n",
       "      <td>R06</td>\n",
       "      <td>156.04</td>\n",
       "    </tr>\n",
       "    <tr>\n",
       "      <th>556</th>\n",
       "      <td>2019-07-31</td>\n",
       "      <td>R06</td>\n",
       "      <td>105.20</td>\n",
       "    </tr>\n",
       "    <tr>\n",
       "      <th>557</th>\n",
       "      <td>2019-08-31</td>\n",
       "      <td>R06</td>\n",
       "      <td>97.30</td>\n",
       "    </tr>\n",
       "    <tr>\n",
       "      <th>558</th>\n",
       "      <td>2019-09-30</td>\n",
       "      <td>R06</td>\n",
       "      <td>109.10</td>\n",
       "    </tr>\n",
       "    <tr>\n",
       "      <th>559</th>\n",
       "      <td>2019-10-31</td>\n",
       "      <td>R06</td>\n",
       "      <td>11.13</td>\n",
       "    </tr>\n",
       "  </tbody>\n",
       "</table>\n",
       "<p>560 rows × 3 columns</p>\n",
       "</div>"
      ],
      "text/plain": [
       "         datum   Drug  Quantity\n",
       "0   2014-01-31  M01AB    127.69\n",
       "1   2014-02-28  M01AB    133.32\n",
       "2   2014-03-31  M01AB    137.44\n",
       "3   2014-04-30  M01AB    113.10\n",
       "4   2014-05-31  M01AB    101.79\n",
       "..         ...    ...       ...\n",
       "555 2019-06-30    R06    156.04\n",
       "556 2019-07-31    R06    105.20\n",
       "557 2019-08-31    R06     97.30\n",
       "558 2019-09-30    R06    109.10\n",
       "559 2019-10-31    R06     11.13\n",
       "\n",
       "[560 rows x 3 columns]"
      ]
     },
     "execution_count": 17,
     "metadata": {},
     "output_type": "execute_result"
    }
   ],
   "source": [
    "# Reshape the dataframe\n",
    "salesmonthly_new = salesmonthly.melt(id_vars=['datum'],\n",
    "             var_name='Drug',\n",
    "             value_name='Quantity')\n",
    "\n",
    "# Print the updated dataframe\n",
    "salesmonthly_new"
   ]
  },
  {
   "cell_type": "code",
   "execution_count": 18,
   "id": "dcbb5997",
   "metadata": {
    "execution": {
     "iopub.execute_input": "2024-04-11T17:13:14.510688Z",
     "iopub.status.busy": "2024-04-11T17:13:14.510301Z",
     "iopub.status.idle": "2024-04-11T17:13:17.404330Z",
     "shell.execute_reply": "2024-04-11T17:13:17.402943Z"
    },
    "papermill": {
     "duration": 2.915435,
     "end_time": "2024-04-11T17:13:17.406695",
     "exception": false,
     "start_time": "2024-04-11T17:13:14.491260",
     "status": "completed"
    },
    "tags": []
   },
   "outputs": [
    {
     "data": {
      "text/html": [
       "        <script type=\"text/javascript\">\n",
       "        window.PlotlyConfig = {MathJaxConfig: 'local'};\n",
       "        if (window.MathJax && window.MathJax.Hub && window.MathJax.Hub.Config) {window.MathJax.Hub.Config({SVG: {font: \"STIX-Web\"}});}\n",
       "        if (typeof require !== 'undefined') {\n",
       "        require.undef(\"plotly\");\n",
       "        requirejs.config({\n",
       "            paths: {\n",
       "                'plotly': ['https://cdn.plot.ly/plotly-2.27.0.min']\n",
       "            }\n",
       "        });\n",
       "        require(['plotly'], function(Plotly) {\n",
       "            window._Plotly = Plotly;\n",
       "        });\n",
       "        }\n",
       "        </script>\n",
       "        "
      ]
     },
     "metadata": {},
     "output_type": "display_data"
    },
    {
     "data": {
      "text/html": [
       "<div>                            <div id=\"7aa16f9d-a5ac-4095-9a81-b61d60b8b33a\" class=\"plotly-graph-div\" style=\"height:525px; width:100%;\"></div>            <script type=\"text/javascript\">                require([\"plotly\"], function(Plotly) {                    window.PLOTLYENV=window.PLOTLYENV || {};                                    if (document.getElementById(\"7aa16f9d-a5ac-4095-9a81-b61d60b8b33a\")) {                    Plotly.newPlot(                        \"7aa16f9d-a5ac-4095-9a81-b61d60b8b33a\",                        [{\"hovertemplate\":\"Drug=M01AB\\u003cbr\\u003eDate=%{x}\\u003cbr\\u003eSales Quantity=%{y}\\u003cextra\\u003e\\u003c\\u002fextra\\u003e\",\"legendgroup\":\"M01AB\",\"line\":{\"color\":\"#636efa\",\"dash\":\"solid\"},\"marker\":{\"symbol\":\"circle\"},\"mode\":\"lines\",\"name\":\"M01AB\",\"orientation\":\"v\",\"showlegend\":true,\"x\":[\"2014-01-31T00:00:00\",\"2014-02-28T00:00:00\",\"2014-03-31T00:00:00\",\"2014-04-30T00:00:00\",\"2014-05-31T00:00:00\",\"2014-06-30T00:00:00\",\"2014-07-31T00:00:00\",\"2014-08-31T00:00:00\",\"2014-09-30T00:00:00\",\"2014-10-31T00:00:00\",\"2014-11-30T00:00:00\",\"2014-12-31T00:00:00\",\"2015-01-31T00:00:00\",\"2015-02-28T00:00:00\",\"2015-03-31T00:00:00\",\"2015-04-30T00:00:00\",\"2015-05-31T00:00:00\",\"2015-06-30T00:00:00\",\"2015-07-31T00:00:00\",\"2015-08-31T00:00:00\",\"2015-09-30T00:00:00\",\"2015-10-31T00:00:00\",\"2015-11-30T00:00:00\",\"2015-12-31T00:00:00\",\"2016-01-31T00:00:00\",\"2016-02-29T00:00:00\",\"2016-03-31T00:00:00\",\"2016-04-30T00:00:00\",\"2016-05-31T00:00:00\",\"2016-06-30T00:00:00\",\"2016-07-31T00:00:00\",\"2016-08-31T00:00:00\",\"2016-09-30T00:00:00\",\"2016-10-31T00:00:00\",\"2016-11-30T00:00:00\",\"2016-12-31T00:00:00\",\"2017-01-31T00:00:00\",\"2017-02-28T00:00:00\",\"2017-03-31T00:00:00\",\"2017-04-30T00:00:00\",\"2017-05-31T00:00:00\",\"2017-06-30T00:00:00\",\"2017-07-31T00:00:00\",\"2017-08-31T00:00:00\",\"2017-09-30T00:00:00\",\"2017-10-31T00:00:00\",\"2017-11-30T00:00:00\",\"2017-12-31T00:00:00\",\"2018-01-31T00:00:00\",\"2018-02-28T00:00:00\",\"2018-03-31T00:00:00\",\"2018-04-30T00:00:00\",\"2018-05-31T00:00:00\",\"2018-06-30T00:00:00\",\"2018-07-31T00:00:00\",\"2018-08-31T00:00:00\",\"2018-09-30T00:00:00\",\"2018-10-31T00:00:00\",\"2018-11-30T00:00:00\",\"2018-12-31T00:00:00\",\"2019-01-31T00:00:00\",\"2019-02-28T00:00:00\",\"2019-03-31T00:00:00\",\"2019-04-30T00:00:00\",\"2019-05-31T00:00:00\",\"2019-06-30T00:00:00\",\"2019-07-31T00:00:00\",\"2019-08-31T00:00:00\",\"2019-09-30T00:00:00\",\"2019-10-31T00:00:00\"],\"xaxis\":\"x\",\"y\":[127.69,133.32,137.44000000000003,113.10000000000004,101.79000000000003,112.07000000000002,117.06000000000002,134.79000000000005,108.78000000000004,154.75000000000003,138.08000000000004,131.90000000000003,135.91000000000005,115.71,156.04000000000005,154.5,160.02,151.87000000000003,175.61000000000004,181.69000000000003,166.22000000000008,195.81000000000012,152.78000000000006,159.46000000000004,171.65000000000006,173.81000000000003,156.64000000000004,166.6100000000001,167.36000000000007,169.67000000000002,203.97000000000017,211.13000000000017,172.96000000000004,186.7600000000001,175.18000000000012,169.32000000000002,0.0,139.69000000000003,162.85000000000002,155.61000000000004,143.66,122.33,159.67,170.14999999999998,138.33,137.64,163.85000000000005,160.01000000000002,132.28,128.36,146.16,170.02000000000007,160.52000000000004,141.18,150.18,140.00000000000003,153.52,144.71000000000004,172.29000000000005,147.71000000000004,179.70000000000007,133.73000000000002,154.52000000000004,161.39000000000004,168.04000000000005,151.5400000000001,181.0,181.91000000000008,161.07000000000005,44.370000000000005],\"yaxis\":\"y\",\"type\":\"scatter\"},{\"hovertemplate\":\"Drug=M01AE\\u003cbr\\u003eDate=%{x}\\u003cbr\\u003eSales Quantity=%{y}\\u003cextra\\u003e\\u003c\\u002fextra\\u003e\",\"legendgroup\":\"M01AE\",\"line\":{\"color\":\"#EF553B\",\"dash\":\"solid\"},\"marker\":{\"symbol\":\"circle\"},\"mode\":\"lines\",\"name\":\"M01AE\",\"orientation\":\"v\",\"showlegend\":true,\"x\":[\"2014-01-31T00:00:00\",\"2014-02-28T00:00:00\",\"2014-03-31T00:00:00\",\"2014-04-30T00:00:00\",\"2014-05-31T00:00:00\",\"2014-06-30T00:00:00\",\"2014-07-31T00:00:00\",\"2014-08-31T00:00:00\",\"2014-09-30T00:00:00\",\"2014-10-31T00:00:00\",\"2014-11-30T00:00:00\",\"2014-12-31T00:00:00\",\"2015-01-31T00:00:00\",\"2015-02-28T00:00:00\",\"2015-03-31T00:00:00\",\"2015-04-30T00:00:00\",\"2015-05-31T00:00:00\",\"2015-06-30T00:00:00\",\"2015-07-31T00:00:00\",\"2015-08-31T00:00:00\",\"2015-09-30T00:00:00\",\"2015-10-31T00:00:00\",\"2015-11-30T00:00:00\",\"2015-12-31T00:00:00\",\"2016-01-31T00:00:00\",\"2016-02-29T00:00:00\",\"2016-03-31T00:00:00\",\"2016-04-30T00:00:00\",\"2016-05-31T00:00:00\",\"2016-06-30T00:00:00\",\"2016-07-31T00:00:00\",\"2016-08-31T00:00:00\",\"2016-09-30T00:00:00\",\"2016-10-31T00:00:00\",\"2016-11-30T00:00:00\",\"2016-12-31T00:00:00\",\"2017-01-31T00:00:00\",\"2017-02-28T00:00:00\",\"2017-03-31T00:00:00\",\"2017-04-30T00:00:00\",\"2017-05-31T00:00:00\",\"2017-06-30T00:00:00\",\"2017-07-31T00:00:00\",\"2017-08-31T00:00:00\",\"2017-09-30T00:00:00\",\"2017-10-31T00:00:00\",\"2017-11-30T00:00:00\",\"2017-12-31T00:00:00\",\"2018-01-31T00:00:00\",\"2018-02-28T00:00:00\",\"2018-03-31T00:00:00\",\"2018-04-30T00:00:00\",\"2018-05-31T00:00:00\",\"2018-06-30T00:00:00\",\"2018-07-31T00:00:00\",\"2018-08-31T00:00:00\",\"2018-09-30T00:00:00\",\"2018-10-31T00:00:00\",\"2018-11-30T00:00:00\",\"2018-12-31T00:00:00\",\"2019-01-31T00:00:00\",\"2019-02-28T00:00:00\",\"2019-03-31T00:00:00\",\"2019-04-30T00:00:00\",\"2019-05-31T00:00:00\",\"2019-06-30T00:00:00\",\"2019-07-31T00:00:00\",\"2019-08-31T00:00:00\",\"2019-09-30T00:00:00\",\"2019-10-31T00:00:00\"],\"xaxis\":\"x\",\"y\":[99.09000000000005,126.0500000000001,92.95000000000007,89.47500000000008,119.93300000000008,94.71000000000006,95.01000000000012,99.7800000000001,109.0940000000001,185.2410000000001,100.86000000000004,121.40100000000004,130.34900000000005,123.73999999999997,129.38599999999997,101.115,119.11700000000006,113.69,113.81000000000002,144.51900000000003,134.12200000000004,127.23099999999998,128.233,131.29100000000005,128.402,137.528,180.5890000000001,146.52600000000007,120.86099999999996,114.961,141.01900000000003,114.37499999999996,126.21799999999996,142.0560000000001,116.84999999999997,135.05600000000004,0.0,103.517,111.055,101.21500000000002,118.12500000000006,103.006,116.20600000000005,112.47,118.71100000000004,88.737,119.78000000000004,121.66300000000004,109.44599999999998,132.80400000000014,111.764,107.723,103.522,114.22600000000004,132.54900000000006,114.71900000000004,114.99200000000008,129.4000000000001,105.48700000000004,113.02400000000011,222.35100000000017,142.15500000000014,113.11800000000004,100.16500000000003,97.25800000000004,101.62700000000004,103.54100000000004,88.26900000000003,111.43700000000008,37.3],\"yaxis\":\"y\",\"type\":\"scatter\"},{\"hovertemplate\":\"Drug=N02BA\\u003cbr\\u003eDate=%{x}\\u003cbr\\u003eSales Quantity=%{y}\\u003cextra\\u003e\\u003c\\u002fextra\\u003e\",\"legendgroup\":\"N02BA\",\"line\":{\"color\":\"#00cc96\",\"dash\":\"solid\"},\"marker\":{\"symbol\":\"circle\"},\"mode\":\"lines\",\"name\":\"N02BA\",\"orientation\":\"v\",\"showlegend\":true,\"x\":[\"2014-01-31T00:00:00\",\"2014-02-28T00:00:00\",\"2014-03-31T00:00:00\",\"2014-04-30T00:00:00\",\"2014-05-31T00:00:00\",\"2014-06-30T00:00:00\",\"2014-07-31T00:00:00\",\"2014-08-31T00:00:00\",\"2014-09-30T00:00:00\",\"2014-10-31T00:00:00\",\"2014-11-30T00:00:00\",\"2014-12-31T00:00:00\",\"2015-01-31T00:00:00\",\"2015-02-28T00:00:00\",\"2015-03-31T00:00:00\",\"2015-04-30T00:00:00\",\"2015-05-31T00:00:00\",\"2015-06-30T00:00:00\",\"2015-07-31T00:00:00\",\"2015-08-31T00:00:00\",\"2015-09-30T00:00:00\",\"2015-10-31T00:00:00\",\"2015-11-30T00:00:00\",\"2015-12-31T00:00:00\",\"2016-01-31T00:00:00\",\"2016-02-29T00:00:00\",\"2016-03-31T00:00:00\",\"2016-04-30T00:00:00\",\"2016-05-31T00:00:00\",\"2016-06-30T00:00:00\",\"2016-07-31T00:00:00\",\"2016-08-31T00:00:00\",\"2016-09-30T00:00:00\",\"2016-10-31T00:00:00\",\"2016-11-30T00:00:00\",\"2016-12-31T00:00:00\",\"2017-01-31T00:00:00\",\"2017-02-28T00:00:00\",\"2017-03-31T00:00:00\",\"2017-04-30T00:00:00\",\"2017-05-31T00:00:00\",\"2017-06-30T00:00:00\",\"2017-07-31T00:00:00\",\"2017-08-31T00:00:00\",\"2017-09-30T00:00:00\",\"2017-10-31T00:00:00\",\"2017-11-30T00:00:00\",\"2017-12-31T00:00:00\",\"2018-01-31T00:00:00\",\"2018-02-28T00:00:00\",\"2018-03-31T00:00:00\",\"2018-04-30T00:00:00\",\"2018-05-31T00:00:00\",\"2018-06-30T00:00:00\",\"2018-07-31T00:00:00\",\"2018-08-31T00:00:00\",\"2018-09-30T00:00:00\",\"2018-10-31T00:00:00\",\"2018-11-30T00:00:00\",\"2018-12-31T00:00:00\",\"2019-01-31T00:00:00\",\"2019-02-28T00:00:00\",\"2019-03-31T00:00:00\",\"2019-04-30T00:00:00\",\"2019-05-31T00:00:00\",\"2019-06-30T00:00:00\",\"2019-07-31T00:00:00\",\"2019-08-31T00:00:00\",\"2019-09-30T00:00:00\",\"2019-10-31T00:00:00\"],\"xaxis\":\"x\",\"y\":[152.09999999999997,176.99999999999997,147.655,130.89999999999998,132.1,122.9,129.3,123.8,122.09999999999998,191.6,142.7,111.124,141.0,131.83,133.8,122.1,136.04,145.46,125.5,133.4,110.4,146.20000000000002,145.90000000000003,136.99999999999997,172.49999999999997,134.20000000000002,148.4,147.7,130.54999999999995,117.75,137.89999999999998,132.7,116.7,160.15,133.85000000000002,132.39999999999998,0.0,97.0,107.35,100.5,98.95,119.6,75.19999999999999,84.4,88.14999999999998,100.4,104.45,115.15,101.15,114.65000000000002,122.3,84.60000000000001,89.39999999999999,86.80000000000001,87.2,88.25,86.5,76.05000000000001,102.15,84.75,99.7,110.19999999999996,83.35000000000001,88.1,104.1,103.2,92.8,84.19999999999999,93.5,20.65],\"yaxis\":\"y\",\"type\":\"scatter\"},{\"hovertemplate\":\"Drug=N02BE\\u003cbr\\u003eDate=%{x}\\u003cbr\\u003eSales Quantity=%{y}\\u003cextra\\u003e\\u003c\\u002fextra\\u003e\",\"legendgroup\":\"N02BE\",\"line\":{\"color\":\"#ab63fa\",\"dash\":\"solid\"},\"marker\":{\"symbol\":\"circle\"},\"mode\":\"lines\",\"name\":\"N02BE\",\"orientation\":\"v\",\"showlegend\":true,\"x\":[\"2014-01-31T00:00:00\",\"2014-02-28T00:00:00\",\"2014-03-31T00:00:00\",\"2014-04-30T00:00:00\",\"2014-05-31T00:00:00\",\"2014-06-30T00:00:00\",\"2014-07-31T00:00:00\",\"2014-08-31T00:00:00\",\"2014-09-30T00:00:00\",\"2014-10-31T00:00:00\",\"2014-11-30T00:00:00\",\"2014-12-31T00:00:00\",\"2015-01-31T00:00:00\",\"2015-02-28T00:00:00\",\"2015-03-31T00:00:00\",\"2015-04-30T00:00:00\",\"2015-05-31T00:00:00\",\"2015-06-30T00:00:00\",\"2015-07-31T00:00:00\",\"2015-08-31T00:00:00\",\"2015-09-30T00:00:00\",\"2015-10-31T00:00:00\",\"2015-11-30T00:00:00\",\"2015-12-31T00:00:00\",\"2016-01-31T00:00:00\",\"2016-02-29T00:00:00\",\"2016-03-31T00:00:00\",\"2016-04-30T00:00:00\",\"2016-05-31T00:00:00\",\"2016-06-30T00:00:00\",\"2016-07-31T00:00:00\",\"2016-08-31T00:00:00\",\"2016-09-30T00:00:00\",\"2016-10-31T00:00:00\",\"2016-11-30T00:00:00\",\"2016-12-31T00:00:00\",\"2017-01-31T00:00:00\",\"2017-02-28T00:00:00\",\"2017-03-31T00:00:00\",\"2017-04-30T00:00:00\",\"2017-05-31T00:00:00\",\"2017-06-30T00:00:00\",\"2017-07-31T00:00:00\",\"2017-08-31T00:00:00\",\"2017-09-30T00:00:00\",\"2017-10-31T00:00:00\",\"2017-11-30T00:00:00\",\"2017-12-31T00:00:00\",\"2018-01-31T00:00:00\",\"2018-02-28T00:00:00\",\"2018-03-31T00:00:00\",\"2018-04-30T00:00:00\",\"2018-05-31T00:00:00\",\"2018-06-30T00:00:00\",\"2018-07-31T00:00:00\",\"2018-08-31T00:00:00\",\"2018-09-30T00:00:00\",\"2018-10-31T00:00:00\",\"2018-11-30T00:00:00\",\"2018-12-31T00:00:00\",\"2019-01-31T00:00:00\",\"2019-02-28T00:00:00\",\"2019-03-31T00:00:00\",\"2019-04-30T00:00:00\",\"2019-05-31T00:00:00\",\"2019-06-30T00:00:00\",\"2019-07-31T00:00:00\",\"2019-08-31T00:00:00\",\"2019-09-30T00:00:00\",\"2019-10-31T00:00:00\"],\"xaxis\":\"x\",\"y\":[878.0300000000002,1001.9,779.275,698.5,628.7800000000001,548.225,491.9,583.8499999999999,887.8199999999999,1856.8149999999996,723.8,1015.66,1044.2400000000002,953.252,1084.85,940.17,765.9000000000001,746.788,708.8280000000001,790.788,852.125,1574.3350000000007,1277.725,1258.3490000000002,1476.3240000000003,1224.8620000000003,1150.7000000000005,998.3370000000004,997.1500000000004,760.05,652.3619999999999,753.0500000000002,1118.699,1617.275000000001,1062.6860000000004,1624.3350000000005,0.0,526.3500000000001,612.5000000000002,540.1999999999998,547.9399999999998,496.1,479.35,549.3,863.7500000000002,1184.3500000000004,867.8990000000001,1007.18,1134.325,1255.3740000000007,999.1230000000004,836.0369999999999,644.6480000000004,584.343,679.3499999999999,733.838,1058.2620000000002,1129.275,995.15,1213.95,1660.6120000000012,1001.2120000000004,941.05,647.6500000000002,703.5620000000001,609.9999999999999,649.8,518.0999999999999,984.48,295.15000000000003],\"yaxis\":\"y\",\"type\":\"scatter\"},{\"hovertemplate\":\"Drug=N05B\\u003cbr\\u003eDate=%{x}\\u003cbr\\u003eSales Quantity=%{y}\\u003cextra\\u003e\\u003c\\u002fextra\\u003e\",\"legendgroup\":\"N05B\",\"line\":{\"color\":\"#FFA15A\",\"dash\":\"solid\"},\"marker\":{\"symbol\":\"circle\"},\"mode\":\"lines\",\"name\":\"N05B\",\"orientation\":\"v\",\"showlegend\":true,\"x\":[\"2014-01-31T00:00:00\",\"2014-02-28T00:00:00\",\"2014-03-31T00:00:00\",\"2014-04-30T00:00:00\",\"2014-05-31T00:00:00\",\"2014-06-30T00:00:00\",\"2014-07-31T00:00:00\",\"2014-08-31T00:00:00\",\"2014-09-30T00:00:00\",\"2014-10-31T00:00:00\",\"2014-11-30T00:00:00\",\"2014-12-31T00:00:00\",\"2015-01-31T00:00:00\",\"2015-02-28T00:00:00\",\"2015-03-31T00:00:00\",\"2015-04-30T00:00:00\",\"2015-05-31T00:00:00\",\"2015-06-30T00:00:00\",\"2015-07-31T00:00:00\",\"2015-08-31T00:00:00\",\"2015-09-30T00:00:00\",\"2015-10-31T00:00:00\",\"2015-11-30T00:00:00\",\"2015-12-31T00:00:00\",\"2016-01-31T00:00:00\",\"2016-02-29T00:00:00\",\"2016-03-31T00:00:00\",\"2016-04-30T00:00:00\",\"2016-05-31T00:00:00\",\"2016-06-30T00:00:00\",\"2016-07-31T00:00:00\",\"2016-08-31T00:00:00\",\"2016-09-30T00:00:00\",\"2016-10-31T00:00:00\",\"2016-11-30T00:00:00\",\"2016-12-31T00:00:00\",\"2017-01-31T00:00:00\",\"2017-02-28T00:00:00\",\"2017-03-31T00:00:00\",\"2017-04-30T00:00:00\",\"2017-05-31T00:00:00\",\"2017-06-30T00:00:00\",\"2017-07-31T00:00:00\",\"2017-08-31T00:00:00\",\"2017-09-30T00:00:00\",\"2017-10-31T00:00:00\",\"2017-11-30T00:00:00\",\"2017-12-31T00:00:00\",\"2018-01-31T00:00:00\",\"2018-02-28T00:00:00\",\"2018-03-31T00:00:00\",\"2018-04-30T00:00:00\",\"2018-05-31T00:00:00\",\"2018-06-30T00:00:00\",\"2018-07-31T00:00:00\",\"2018-08-31T00:00:00\",\"2018-09-30T00:00:00\",\"2018-10-31T00:00:00\",\"2018-11-30T00:00:00\",\"2018-12-31T00:00:00\",\"2019-01-31T00:00:00\",\"2019-02-28T00:00:00\",\"2019-03-31T00:00:00\",\"2019-04-30T00:00:00\",\"2019-05-31T00:00:00\",\"2019-06-30T00:00:00\",\"2019-07-31T00:00:00\",\"2019-08-31T00:00:00\",\"2019-09-30T00:00:00\",\"2019-10-31T00:00:00\"],\"xaxis\":\"x\",\"y\":[354.0,347.0,232.0,209.0,270.0,323.0,348.0,420.0,399.0,472.0,489.0,492.0,463.0,243.0,208.0,192.0,194.0,217.0,203.0,265.5,243.5,222.0,228.0,286.0,248.0,239.0,250.0,318.0,275.0,311.0,240.0,275.5,307.0,312.0,246.0,257.0,1.0,144.0,165.0,132.0,148.0,163.0,219.0,239.0,223.0,226.0,192.0,226.0,229.0,268.0,381.0,289.0,259.0,248.0,283.0,253.0,263.0,287.0,252.2,254.0,295.2,249.4,301.4,299.4,265.79999999999995,193.0,250.6,237.0,227.8,86.0],\"yaxis\":\"y\",\"type\":\"scatter\"},{\"hovertemplate\":\"Drug=N05C\\u003cbr\\u003eDate=%{x}\\u003cbr\\u003eSales Quantity=%{y}\\u003cextra\\u003e\\u003c\\u002fextra\\u003e\",\"legendgroup\":\"N05C\",\"line\":{\"color\":\"#19d3f3\",\"dash\":\"solid\"},\"marker\":{\"symbol\":\"circle\"},\"mode\":\"lines\",\"name\":\"N05C\",\"orientation\":\"v\",\"showlegend\":true,\"x\":[\"2014-01-31T00:00:00\",\"2014-02-28T00:00:00\",\"2014-03-31T00:00:00\",\"2014-04-30T00:00:00\",\"2014-05-31T00:00:00\",\"2014-06-30T00:00:00\",\"2014-07-31T00:00:00\",\"2014-08-31T00:00:00\",\"2014-09-30T00:00:00\",\"2014-10-31T00:00:00\",\"2014-11-30T00:00:00\",\"2014-12-31T00:00:00\",\"2015-01-31T00:00:00\",\"2015-02-28T00:00:00\",\"2015-03-31T00:00:00\",\"2015-04-30T00:00:00\",\"2015-05-31T00:00:00\",\"2015-06-30T00:00:00\",\"2015-07-31T00:00:00\",\"2015-08-31T00:00:00\",\"2015-09-30T00:00:00\",\"2015-10-31T00:00:00\",\"2015-11-30T00:00:00\",\"2015-12-31T00:00:00\",\"2016-01-31T00:00:00\",\"2016-02-29T00:00:00\",\"2016-03-31T00:00:00\",\"2016-04-30T00:00:00\",\"2016-05-31T00:00:00\",\"2016-06-30T00:00:00\",\"2016-07-31T00:00:00\",\"2016-08-31T00:00:00\",\"2016-09-30T00:00:00\",\"2016-10-31T00:00:00\",\"2016-11-30T00:00:00\",\"2016-12-31T00:00:00\",\"2017-01-31T00:00:00\",\"2017-02-28T00:00:00\",\"2017-03-31T00:00:00\",\"2017-04-30T00:00:00\",\"2017-05-31T00:00:00\",\"2017-06-30T00:00:00\",\"2017-07-31T00:00:00\",\"2017-08-31T00:00:00\",\"2017-09-30T00:00:00\",\"2017-10-31T00:00:00\",\"2017-11-30T00:00:00\",\"2017-12-31T00:00:00\",\"2018-01-31T00:00:00\",\"2018-02-28T00:00:00\",\"2018-03-31T00:00:00\",\"2018-04-30T00:00:00\",\"2018-05-31T00:00:00\",\"2018-06-30T00:00:00\",\"2018-07-31T00:00:00\",\"2018-08-31T00:00:00\",\"2018-09-30T00:00:00\",\"2018-10-31T00:00:00\",\"2018-11-30T00:00:00\",\"2018-12-31T00:00:00\",\"2019-01-31T00:00:00\",\"2019-02-28T00:00:00\",\"2019-03-31T00:00:00\",\"2019-04-30T00:00:00\",\"2019-05-31T00:00:00\",\"2019-06-30T00:00:00\",\"2019-07-31T00:00:00\",\"2019-08-31T00:00:00\",\"2019-09-30T00:00:00\",\"2019-10-31T00:00:00\"],\"xaxis\":\"x\",\"y\":[50.0,31.0,20.0,18.0,23.0,23.0,21.0,29.0,14.0,30.0,19.0,25.0,24.0,9.0,13.0,5.0,10.0,12.0,6.0,15.0,11.0,8.0,18.0,28.0,24.0,20.0,13.0,18.0,18.0,20.0,8.0,12.0,18.0,11.0,27.0,18.0,0.0,7.0,9.0,9.0,23.0,8.0,15.0,12.0,23.0,15.0,15.0,6.0,11.0,12.0,42.0,21.0,13.0,18.0,19.0,20.0,12.0,25.0,22.0,27.0,23.0,12.0,19.0,22.0,26.0,25.0,20.0,26.0,16.0,7.0],\"yaxis\":\"y\",\"type\":\"scatter\"},{\"hovertemplate\":\"Drug=R03\\u003cbr\\u003eDate=%{x}\\u003cbr\\u003eSales Quantity=%{y}\\u003cextra\\u003e\\u003c\\u002fextra\\u003e\",\"legendgroup\":\"R03\",\"line\":{\"color\":\"#FF6692\",\"dash\":\"solid\"},\"marker\":{\"symbol\":\"circle\"},\"mode\":\"lines\",\"name\":\"R03\",\"orientation\":\"v\",\"showlegend\":true,\"x\":[\"2014-01-31T00:00:00\",\"2014-02-28T00:00:00\",\"2014-03-31T00:00:00\",\"2014-04-30T00:00:00\",\"2014-05-31T00:00:00\",\"2014-06-30T00:00:00\",\"2014-07-31T00:00:00\",\"2014-08-31T00:00:00\",\"2014-09-30T00:00:00\",\"2014-10-31T00:00:00\",\"2014-11-30T00:00:00\",\"2014-12-31T00:00:00\",\"2015-01-31T00:00:00\",\"2015-02-28T00:00:00\",\"2015-03-31T00:00:00\",\"2015-04-30T00:00:00\",\"2015-05-31T00:00:00\",\"2015-06-30T00:00:00\",\"2015-07-31T00:00:00\",\"2015-08-31T00:00:00\",\"2015-09-30T00:00:00\",\"2015-10-31T00:00:00\",\"2015-11-30T00:00:00\",\"2015-12-31T00:00:00\",\"2016-01-31T00:00:00\",\"2016-02-29T00:00:00\",\"2016-03-31T00:00:00\",\"2016-04-30T00:00:00\",\"2016-05-31T00:00:00\",\"2016-06-30T00:00:00\",\"2016-07-31T00:00:00\",\"2016-08-31T00:00:00\",\"2016-09-30T00:00:00\",\"2016-10-31T00:00:00\",\"2016-11-30T00:00:00\",\"2016-12-31T00:00:00\",\"2017-01-31T00:00:00\",\"2017-02-28T00:00:00\",\"2017-03-31T00:00:00\",\"2017-04-30T00:00:00\",\"2017-05-31T00:00:00\",\"2017-06-30T00:00:00\",\"2017-07-31T00:00:00\",\"2017-08-31T00:00:00\",\"2017-09-30T00:00:00\",\"2017-10-31T00:00:00\",\"2017-11-30T00:00:00\",\"2017-12-31T00:00:00\",\"2018-01-31T00:00:00\",\"2018-02-28T00:00:00\",\"2018-03-31T00:00:00\",\"2018-04-30T00:00:00\",\"2018-05-31T00:00:00\",\"2018-06-30T00:00:00\",\"2018-07-31T00:00:00\",\"2018-08-31T00:00:00\",\"2018-09-30T00:00:00\",\"2018-10-31T00:00:00\",\"2018-11-30T00:00:00\",\"2018-12-31T00:00:00\",\"2019-01-31T00:00:00\",\"2019-02-28T00:00:00\",\"2019-03-31T00:00:00\",\"2019-04-30T00:00:00\",\"2019-05-31T00:00:00\",\"2019-06-30T00:00:00\",\"2019-07-31T00:00:00\",\"2019-08-31T00:00:00\",\"2019-09-30T00:00:00\",\"2019-10-31T00:00:00\"],\"xaxis\":\"x\",\"y\":[112.0,122.0,112.0,97.0,107.0,57.0,61.0,37.0,115.0,182.0,112.0,163.0,177.25,208.0,195.0,97.0,100.0,193.0,60.0,45.0,91.0,184.0,195.0,231.0,174.0,245.0,253.0,216.0,131.0,127.0,109.0,116.0,121.0,220.0,150.0,275.0,0.0,117.0,139.0,209.0,128.0,163.0,115.0,75.0,139.0,247.0,196.0,204.0,219.0,253.0,269.0,229.0,192.0,101.0,90.0,159.0,205.0,353.0,311.0,384.0,386.0,226.0,257.0,259.0,322.0,142.0,115.0,145.0,161.0,37.0],\"yaxis\":\"y\",\"type\":\"scatter\"},{\"hovertemplate\":\"Drug=R06\\u003cbr\\u003eDate=%{x}\\u003cbr\\u003eSales Quantity=%{y}\\u003cextra\\u003e\\u003c\\u002fextra\\u003e\",\"legendgroup\":\"R06\",\"line\":{\"color\":\"#B6E880\",\"dash\":\"solid\"},\"marker\":{\"symbol\":\"circle\"},\"mode\":\"lines\",\"name\":\"R06\",\"orientation\":\"v\",\"showlegend\":true,\"x\":[\"2014-01-31T00:00:00\",\"2014-02-28T00:00:00\",\"2014-03-31T00:00:00\",\"2014-04-30T00:00:00\",\"2014-05-31T00:00:00\",\"2014-06-30T00:00:00\",\"2014-07-31T00:00:00\",\"2014-08-31T00:00:00\",\"2014-09-30T00:00:00\",\"2014-10-31T00:00:00\",\"2014-11-30T00:00:00\",\"2014-12-31T00:00:00\",\"2015-01-31T00:00:00\",\"2015-02-28T00:00:00\",\"2015-03-31T00:00:00\",\"2015-04-30T00:00:00\",\"2015-05-31T00:00:00\",\"2015-06-30T00:00:00\",\"2015-07-31T00:00:00\",\"2015-08-31T00:00:00\",\"2015-09-30T00:00:00\",\"2015-10-31T00:00:00\",\"2015-11-30T00:00:00\",\"2015-12-31T00:00:00\",\"2016-01-31T00:00:00\",\"2016-02-29T00:00:00\",\"2016-03-31T00:00:00\",\"2016-04-30T00:00:00\",\"2016-05-31T00:00:00\",\"2016-06-30T00:00:00\",\"2016-07-31T00:00:00\",\"2016-08-31T00:00:00\",\"2016-09-30T00:00:00\",\"2016-10-31T00:00:00\",\"2016-11-30T00:00:00\",\"2016-12-31T00:00:00\",\"2017-01-31T00:00:00\",\"2017-02-28T00:00:00\",\"2017-03-31T00:00:00\",\"2017-04-30T00:00:00\",\"2017-05-31T00:00:00\",\"2017-06-30T00:00:00\",\"2017-07-31T00:00:00\",\"2017-08-31T00:00:00\",\"2017-09-30T00:00:00\",\"2017-10-31T00:00:00\",\"2017-11-30T00:00:00\",\"2017-12-31T00:00:00\",\"2018-01-31T00:00:00\",\"2018-02-28T00:00:00\",\"2018-03-31T00:00:00\",\"2018-04-30T00:00:00\",\"2018-05-31T00:00:00\",\"2018-06-30T00:00:00\",\"2018-07-31T00:00:00\",\"2018-08-31T00:00:00\",\"2018-09-30T00:00:00\",\"2018-10-31T00:00:00\",\"2018-11-30T00:00:00\",\"2018-12-31T00:00:00\",\"2019-01-31T00:00:00\",\"2019-02-28T00:00:00\",\"2019-03-31T00:00:00\",\"2019-04-30T00:00:00\",\"2019-05-31T00:00:00\",\"2019-06-30T00:00:00\",\"2019-07-31T00:00:00\",\"2019-08-31T00:00:00\",\"2019-09-30T00:00:00\",\"2019-10-31T00:00:00\"],\"xaxis\":\"x\",\"y\":[48.2,36.2,85.4,73.7,123.7,109.3,69.1,70.80000000000001,58.8,74.5,45.2,33.4,42.0,47.0,54.0,112.0,159.5,125.79999999999998,130.3,83.7,71.0,72.0,44.0,41.73,56.5,58.0,97.84,162.39999999999998,137.10000000000002,134.8,116.83,85.3,69.3,60.9,51.2,34.9,0.0,30.6,100.1,122.4,161.81,151.89999999999998,81.1,60.1,66.9,51.0,46.6,47.1,49.5,39.06,85.5,197.1,213.04,120.8,122.2,103.1,88.10000000000001,76.9,48.400000000000006,53.1,41.3,69.5,169.49999999999997,179.10000000000002,135.4,156.04,105.2,97.3,109.1,11.13],\"yaxis\":\"y\",\"type\":\"scatter\"}],                        {\"template\":{\"data\":{\"histogram2dcontour\":[{\"type\":\"histogram2dcontour\",\"colorbar\":{\"outlinewidth\":0,\"ticks\":\"\"},\"colorscale\":[[0.0,\"#0d0887\"],[0.1111111111111111,\"#46039f\"],[0.2222222222222222,\"#7201a8\"],[0.3333333333333333,\"#9c179e\"],[0.4444444444444444,\"#bd3786\"],[0.5555555555555556,\"#d8576b\"],[0.6666666666666666,\"#ed7953\"],[0.7777777777777778,\"#fb9f3a\"],[0.8888888888888888,\"#fdca26\"],[1.0,\"#f0f921\"]]}],\"choropleth\":[{\"type\":\"choropleth\",\"colorbar\":{\"outlinewidth\":0,\"ticks\":\"\"}}],\"histogram2d\":[{\"type\":\"histogram2d\",\"colorbar\":{\"outlinewidth\":0,\"ticks\":\"\"},\"colorscale\":[[0.0,\"#0d0887\"],[0.1111111111111111,\"#46039f\"],[0.2222222222222222,\"#7201a8\"],[0.3333333333333333,\"#9c179e\"],[0.4444444444444444,\"#bd3786\"],[0.5555555555555556,\"#d8576b\"],[0.6666666666666666,\"#ed7953\"],[0.7777777777777778,\"#fb9f3a\"],[0.8888888888888888,\"#fdca26\"],[1.0,\"#f0f921\"]]}],\"heatmap\":[{\"type\":\"heatmap\",\"colorbar\":{\"outlinewidth\":0,\"ticks\":\"\"},\"colorscale\":[[0.0,\"#0d0887\"],[0.1111111111111111,\"#46039f\"],[0.2222222222222222,\"#7201a8\"],[0.3333333333333333,\"#9c179e\"],[0.4444444444444444,\"#bd3786\"],[0.5555555555555556,\"#d8576b\"],[0.6666666666666666,\"#ed7953\"],[0.7777777777777778,\"#fb9f3a\"],[0.8888888888888888,\"#fdca26\"],[1.0,\"#f0f921\"]]}],\"heatmapgl\":[{\"type\":\"heatmapgl\",\"colorbar\":{\"outlinewidth\":0,\"ticks\":\"\"},\"colorscale\":[[0.0,\"#0d0887\"],[0.1111111111111111,\"#46039f\"],[0.2222222222222222,\"#7201a8\"],[0.3333333333333333,\"#9c179e\"],[0.4444444444444444,\"#bd3786\"],[0.5555555555555556,\"#d8576b\"],[0.6666666666666666,\"#ed7953\"],[0.7777777777777778,\"#fb9f3a\"],[0.8888888888888888,\"#fdca26\"],[1.0,\"#f0f921\"]]}],\"contourcarpet\":[{\"type\":\"contourcarpet\",\"colorbar\":{\"outlinewidth\":0,\"ticks\":\"\"}}],\"contour\":[{\"type\":\"contour\",\"colorbar\":{\"outlinewidth\":0,\"ticks\":\"\"},\"colorscale\":[[0.0,\"#0d0887\"],[0.1111111111111111,\"#46039f\"],[0.2222222222222222,\"#7201a8\"],[0.3333333333333333,\"#9c179e\"],[0.4444444444444444,\"#bd3786\"],[0.5555555555555556,\"#d8576b\"],[0.6666666666666666,\"#ed7953\"],[0.7777777777777778,\"#fb9f3a\"],[0.8888888888888888,\"#fdca26\"],[1.0,\"#f0f921\"]]}],\"surface\":[{\"type\":\"surface\",\"colorbar\":{\"outlinewidth\":0,\"ticks\":\"\"},\"colorscale\":[[0.0,\"#0d0887\"],[0.1111111111111111,\"#46039f\"],[0.2222222222222222,\"#7201a8\"],[0.3333333333333333,\"#9c179e\"],[0.4444444444444444,\"#bd3786\"],[0.5555555555555556,\"#d8576b\"],[0.6666666666666666,\"#ed7953\"],[0.7777777777777778,\"#fb9f3a\"],[0.8888888888888888,\"#fdca26\"],[1.0,\"#f0f921\"]]}],\"mesh3d\":[{\"type\":\"mesh3d\",\"colorbar\":{\"outlinewidth\":0,\"ticks\":\"\"}}],\"scatter\":[{\"fillpattern\":{\"fillmode\":\"overlay\",\"size\":10,\"solidity\":0.2},\"type\":\"scatter\"}],\"parcoords\":[{\"type\":\"parcoords\",\"line\":{\"colorbar\":{\"outlinewidth\":0,\"ticks\":\"\"}}}],\"scatterpolargl\":[{\"type\":\"scatterpolargl\",\"marker\":{\"colorbar\":{\"outlinewidth\":0,\"ticks\":\"\"}}}],\"bar\":[{\"error_x\":{\"color\":\"#2a3f5f\"},\"error_y\":{\"color\":\"#2a3f5f\"},\"marker\":{\"line\":{\"color\":\"#E5ECF6\",\"width\":0.5},\"pattern\":{\"fillmode\":\"overlay\",\"size\":10,\"solidity\":0.2}},\"type\":\"bar\"}],\"scattergeo\":[{\"type\":\"scattergeo\",\"marker\":{\"colorbar\":{\"outlinewidth\":0,\"ticks\":\"\"}}}],\"scatterpolar\":[{\"type\":\"scatterpolar\",\"marker\":{\"colorbar\":{\"outlinewidth\":0,\"ticks\":\"\"}}}],\"histogram\":[{\"marker\":{\"pattern\":{\"fillmode\":\"overlay\",\"size\":10,\"solidity\":0.2}},\"type\":\"histogram\"}],\"scattergl\":[{\"type\":\"scattergl\",\"marker\":{\"colorbar\":{\"outlinewidth\":0,\"ticks\":\"\"}}}],\"scatter3d\":[{\"type\":\"scatter3d\",\"line\":{\"colorbar\":{\"outlinewidth\":0,\"ticks\":\"\"}},\"marker\":{\"colorbar\":{\"outlinewidth\":0,\"ticks\":\"\"}}}],\"scattermapbox\":[{\"type\":\"scattermapbox\",\"marker\":{\"colorbar\":{\"outlinewidth\":0,\"ticks\":\"\"}}}],\"scatterternary\":[{\"type\":\"scatterternary\",\"marker\":{\"colorbar\":{\"outlinewidth\":0,\"ticks\":\"\"}}}],\"scattercarpet\":[{\"type\":\"scattercarpet\",\"marker\":{\"colorbar\":{\"outlinewidth\":0,\"ticks\":\"\"}}}],\"carpet\":[{\"aaxis\":{\"endlinecolor\":\"#2a3f5f\",\"gridcolor\":\"white\",\"linecolor\":\"white\",\"minorgridcolor\":\"white\",\"startlinecolor\":\"#2a3f5f\"},\"baxis\":{\"endlinecolor\":\"#2a3f5f\",\"gridcolor\":\"white\",\"linecolor\":\"white\",\"minorgridcolor\":\"white\",\"startlinecolor\":\"#2a3f5f\"},\"type\":\"carpet\"}],\"table\":[{\"cells\":{\"fill\":{\"color\":\"#EBF0F8\"},\"line\":{\"color\":\"white\"}},\"header\":{\"fill\":{\"color\":\"#C8D4E3\"},\"line\":{\"color\":\"white\"}},\"type\":\"table\"}],\"barpolar\":[{\"marker\":{\"line\":{\"color\":\"#E5ECF6\",\"width\":0.5},\"pattern\":{\"fillmode\":\"overlay\",\"size\":10,\"solidity\":0.2}},\"type\":\"barpolar\"}],\"pie\":[{\"automargin\":true,\"type\":\"pie\"}]},\"layout\":{\"autotypenumbers\":\"strict\",\"colorway\":[\"#636efa\",\"#EF553B\",\"#00cc96\",\"#ab63fa\",\"#FFA15A\",\"#19d3f3\",\"#FF6692\",\"#B6E880\",\"#FF97FF\",\"#FECB52\"],\"font\":{\"color\":\"#2a3f5f\"},\"hovermode\":\"closest\",\"hoverlabel\":{\"align\":\"left\"},\"paper_bgcolor\":\"white\",\"plot_bgcolor\":\"#E5ECF6\",\"polar\":{\"bgcolor\":\"#E5ECF6\",\"angularaxis\":{\"gridcolor\":\"white\",\"linecolor\":\"white\",\"ticks\":\"\"},\"radialaxis\":{\"gridcolor\":\"white\",\"linecolor\":\"white\",\"ticks\":\"\"}},\"ternary\":{\"bgcolor\":\"#E5ECF6\",\"aaxis\":{\"gridcolor\":\"white\",\"linecolor\":\"white\",\"ticks\":\"\"},\"baxis\":{\"gridcolor\":\"white\",\"linecolor\":\"white\",\"ticks\":\"\"},\"caxis\":{\"gridcolor\":\"white\",\"linecolor\":\"white\",\"ticks\":\"\"}},\"coloraxis\":{\"colorbar\":{\"outlinewidth\":0,\"ticks\":\"\"}},\"colorscale\":{\"sequential\":[[0.0,\"#0d0887\"],[0.1111111111111111,\"#46039f\"],[0.2222222222222222,\"#7201a8\"],[0.3333333333333333,\"#9c179e\"],[0.4444444444444444,\"#bd3786\"],[0.5555555555555556,\"#d8576b\"],[0.6666666666666666,\"#ed7953\"],[0.7777777777777778,\"#fb9f3a\"],[0.8888888888888888,\"#fdca26\"],[1.0,\"#f0f921\"]],\"sequentialminus\":[[0.0,\"#0d0887\"],[0.1111111111111111,\"#46039f\"],[0.2222222222222222,\"#7201a8\"],[0.3333333333333333,\"#9c179e\"],[0.4444444444444444,\"#bd3786\"],[0.5555555555555556,\"#d8576b\"],[0.6666666666666666,\"#ed7953\"],[0.7777777777777778,\"#fb9f3a\"],[0.8888888888888888,\"#fdca26\"],[1.0,\"#f0f921\"]],\"diverging\":[[0,\"#8e0152\"],[0.1,\"#c51b7d\"],[0.2,\"#de77ae\"],[0.3,\"#f1b6da\"],[0.4,\"#fde0ef\"],[0.5,\"#f7f7f7\"],[0.6,\"#e6f5d0\"],[0.7,\"#b8e186\"],[0.8,\"#7fbc41\"],[0.9,\"#4d9221\"],[1,\"#276419\"]]},\"xaxis\":{\"gridcolor\":\"white\",\"linecolor\":\"white\",\"ticks\":\"\",\"title\":{\"standoff\":15},\"zerolinecolor\":\"white\",\"automargin\":true,\"zerolinewidth\":2},\"yaxis\":{\"gridcolor\":\"white\",\"linecolor\":\"white\",\"ticks\":\"\",\"title\":{\"standoff\":15},\"zerolinecolor\":\"white\",\"automargin\":true,\"zerolinewidth\":2},\"scene\":{\"xaxis\":{\"backgroundcolor\":\"#E5ECF6\",\"gridcolor\":\"white\",\"linecolor\":\"white\",\"showbackground\":true,\"ticks\":\"\",\"zerolinecolor\":\"white\",\"gridwidth\":2},\"yaxis\":{\"backgroundcolor\":\"#E5ECF6\",\"gridcolor\":\"white\",\"linecolor\":\"white\",\"showbackground\":true,\"ticks\":\"\",\"zerolinecolor\":\"white\",\"gridwidth\":2},\"zaxis\":{\"backgroundcolor\":\"#E5ECF6\",\"gridcolor\":\"white\",\"linecolor\":\"white\",\"showbackground\":true,\"ticks\":\"\",\"zerolinecolor\":\"white\",\"gridwidth\":2}},\"shapedefaults\":{\"line\":{\"color\":\"#2a3f5f\"}},\"annotationdefaults\":{\"arrowcolor\":\"#2a3f5f\",\"arrowhead\":0,\"arrowwidth\":1},\"geo\":{\"bgcolor\":\"white\",\"landcolor\":\"#E5ECF6\",\"subunitcolor\":\"white\",\"showland\":true,\"showlakes\":true,\"lakecolor\":\"white\"},\"title\":{\"x\":0.05},\"mapbox\":{\"style\":\"light\"}}},\"xaxis\":{\"anchor\":\"y\",\"domain\":[0.0,1.0],\"title\":{\"text\":\"Date\"}},\"yaxis\":{\"anchor\":\"x\",\"domain\":[0.0,1.0],\"title\":{\"text\":\"Sales Quantity\"}},\"legend\":{\"title\":{\"text\":\"Drug\"},\"tracegroupgap\":0},\"title\":{\"text\":\"Monthly Sales Quantity of Drugs\"}},                        {\"responsive\": true}                    ).then(function(){\n",
       "                            \n",
       "var gd = document.getElementById('7aa16f9d-a5ac-4095-9a81-b61d60b8b33a');\n",
       "var x = new MutationObserver(function (mutations, observer) {{\n",
       "        var display = window.getComputedStyle(gd).display;\n",
       "        if (!display || display === 'none') {{\n",
       "            console.log([gd, 'removed!']);\n",
       "            Plotly.purge(gd);\n",
       "            observer.disconnect();\n",
       "        }}\n",
       "}});\n",
       "\n",
       "// Listen for the removal of the full notebook cells\n",
       "var notebookContainer = gd.closest('#notebook-container');\n",
       "if (notebookContainer) {{\n",
       "    x.observe(notebookContainer, {childList: true});\n",
       "}}\n",
       "\n",
       "// Listen for the clearing of the current output cell\n",
       "var outputEl = gd.closest('.output');\n",
       "if (outputEl) {{\n",
       "    x.observe(outputEl, {childList: true});\n",
       "}}\n",
       "\n",
       "                        })                };                });            </script>        </div>"
      ]
     },
     "metadata": {},
     "output_type": "display_data"
    }
   ],
   "source": [
    "import plotly.express as px\n",
    "\n",
    "# Plot the graph on drug basis\n",
    "fig = px.line(salesmonthly_new, x='datum', y='Quantity', color='Drug', \n",
    "              title='Monthly Sales Quantity of Drugs', labels={'datum': 'Date', 'Quantity': 'Sales Quantity'})\n",
    "\n",
    "# Show the plot\n",
    "fig.show()"
   ]
  },
  {
   "cell_type": "code",
   "execution_count": 19,
   "id": "d9878fd8",
   "metadata": {
    "execution": {
     "iopub.execute_input": "2024-04-11T17:13:17.445821Z",
     "iopub.status.busy": "2024-04-11T17:13:17.445377Z",
     "iopub.status.idle": "2024-04-11T17:13:17.450689Z",
     "shell.execute_reply": "2024-04-11T17:13:17.449472Z"
    },
    "papermill": {
     "duration": 0.02772,
     "end_time": "2024-04-11T17:13:17.453139",
     "exception": false,
     "start_time": "2024-04-11T17:13:17.425419",
     "status": "completed"
    },
    "tags": []
   },
   "outputs": [],
   "source": [
    "from sklearn.preprocessing import LabelEncoder\n",
    "le = LabelEncoder()"
   ]
  },
  {
   "cell_type": "code",
   "execution_count": 20,
   "id": "725bf483",
   "metadata": {
    "execution": {
     "iopub.execute_input": "2024-04-11T17:13:17.491736Z",
     "iopub.status.busy": "2024-04-11T17:13:17.491300Z",
     "iopub.status.idle": "2024-04-11T17:13:17.508506Z",
     "shell.execute_reply": "2024-04-11T17:13:17.507187Z"
    },
    "papermill": {
     "duration": 0.039867,
     "end_time": "2024-04-11T17:13:17.511290",
     "exception": false,
     "start_time": "2024-04-11T17:13:17.471423",
     "status": "completed"
    },
    "tags": []
   },
   "outputs": [
    {
     "data": {
      "text/html": [
       "<div>\n",
       "<style scoped>\n",
       "    .dataframe tbody tr th:only-of-type {\n",
       "        vertical-align: middle;\n",
       "    }\n",
       "\n",
       "    .dataframe tbody tr th {\n",
       "        vertical-align: top;\n",
       "    }\n",
       "\n",
       "    .dataframe thead th {\n",
       "        text-align: right;\n",
       "    }\n",
       "</style>\n",
       "<table border=\"1\" class=\"dataframe\">\n",
       "  <thead>\n",
       "    <tr style=\"text-align: right;\">\n",
       "      <th></th>\n",
       "      <th>datum</th>\n",
       "      <th>Drug</th>\n",
       "      <th>Quantity</th>\n",
       "    </tr>\n",
       "  </thead>\n",
       "  <tbody>\n",
       "    <tr>\n",
       "      <th>0</th>\n",
       "      <td>2014-01-31</td>\n",
       "      <td>0</td>\n",
       "      <td>127.69</td>\n",
       "    </tr>\n",
       "    <tr>\n",
       "      <th>1</th>\n",
       "      <td>2014-02-28</td>\n",
       "      <td>0</td>\n",
       "      <td>133.32</td>\n",
       "    </tr>\n",
       "    <tr>\n",
       "      <th>2</th>\n",
       "      <td>2014-03-31</td>\n",
       "      <td>0</td>\n",
       "      <td>137.44</td>\n",
       "    </tr>\n",
       "    <tr>\n",
       "      <th>3</th>\n",
       "      <td>2014-04-30</td>\n",
       "      <td>0</td>\n",
       "      <td>113.10</td>\n",
       "    </tr>\n",
       "    <tr>\n",
       "      <th>4</th>\n",
       "      <td>2014-05-31</td>\n",
       "      <td>0</td>\n",
       "      <td>101.79</td>\n",
       "    </tr>\n",
       "    <tr>\n",
       "      <th>...</th>\n",
       "      <td>...</td>\n",
       "      <td>...</td>\n",
       "      <td>...</td>\n",
       "    </tr>\n",
       "    <tr>\n",
       "      <th>555</th>\n",
       "      <td>2019-06-30</td>\n",
       "      <td>7</td>\n",
       "      <td>156.04</td>\n",
       "    </tr>\n",
       "    <tr>\n",
       "      <th>556</th>\n",
       "      <td>2019-07-31</td>\n",
       "      <td>7</td>\n",
       "      <td>105.20</td>\n",
       "    </tr>\n",
       "    <tr>\n",
       "      <th>557</th>\n",
       "      <td>2019-08-31</td>\n",
       "      <td>7</td>\n",
       "      <td>97.30</td>\n",
       "    </tr>\n",
       "    <tr>\n",
       "      <th>558</th>\n",
       "      <td>2019-09-30</td>\n",
       "      <td>7</td>\n",
       "      <td>109.10</td>\n",
       "    </tr>\n",
       "    <tr>\n",
       "      <th>559</th>\n",
       "      <td>2019-10-31</td>\n",
       "      <td>7</td>\n",
       "      <td>11.13</td>\n",
       "    </tr>\n",
       "  </tbody>\n",
       "</table>\n",
       "<p>560 rows × 3 columns</p>\n",
       "</div>"
      ],
      "text/plain": [
       "         datum  Drug  Quantity\n",
       "0   2014-01-31     0    127.69\n",
       "1   2014-02-28     0    133.32\n",
       "2   2014-03-31     0    137.44\n",
       "3   2014-04-30     0    113.10\n",
       "4   2014-05-31     0    101.79\n",
       "..         ...   ...       ...\n",
       "555 2019-06-30     7    156.04\n",
       "556 2019-07-31     7    105.20\n",
       "557 2019-08-31     7     97.30\n",
       "558 2019-09-30     7    109.10\n",
       "559 2019-10-31     7     11.13\n",
       "\n",
       "[560 rows x 3 columns]"
      ]
     },
     "execution_count": 20,
     "metadata": {},
     "output_type": "execute_result"
    }
   ],
   "source": [
    "# salesmonthly_new['datum'] = le.fit_transform(salesmonthly_new['datum'])\n",
    "salesmonthly_new['Drug'] = le.fit_transform(salesmonthly_new['Drug'])\n",
    "salesmonthly_new"
   ]
  },
  {
   "cell_type": "code",
   "execution_count": 21,
   "id": "b99589b5",
   "metadata": {
    "execution": {
     "iopub.execute_input": "2024-04-11T17:13:17.551449Z",
     "iopub.status.busy": "2024-04-11T17:13:17.551007Z",
     "iopub.status.idle": "2024-04-11T17:13:17.558401Z",
     "shell.execute_reply": "2024-04-11T17:13:17.557203Z"
    },
    "papermill": {
     "duration": 0.030517,
     "end_time": "2024-04-11T17:13:17.560548",
     "exception": false,
     "start_time": "2024-04-11T17:13:17.530031",
     "status": "completed"
    },
    "tags": []
   },
   "outputs": [],
   "source": [
    "# Create a new index column\n",
    "salesmonthly_new['Index'] = range(len(salesmonthly_new))\n",
    "\n",
    "# Set 'Index' as the index\n",
    "salesmonthly_new.set_index('Index', inplace=True)"
   ]
  },
  {
   "cell_type": "code",
   "execution_count": 22,
   "id": "2a074dec",
   "metadata": {
    "execution": {
     "iopub.execute_input": "2024-04-11T17:13:17.599857Z",
     "iopub.status.busy": "2024-04-11T17:13:17.599373Z",
     "iopub.status.idle": "2024-04-11T17:13:17.614010Z",
     "shell.execute_reply": "2024-04-11T17:13:17.612802Z"
    },
    "papermill": {
     "duration": 0.037045,
     "end_time": "2024-04-11T17:13:17.616332",
     "exception": false,
     "start_time": "2024-04-11T17:13:17.579287",
     "status": "completed"
    },
    "tags": []
   },
   "outputs": [
    {
     "data": {
      "text/html": [
       "<div>\n",
       "<style scoped>\n",
       "    .dataframe tbody tr th:only-of-type {\n",
       "        vertical-align: middle;\n",
       "    }\n",
       "\n",
       "    .dataframe tbody tr th {\n",
       "        vertical-align: top;\n",
       "    }\n",
       "\n",
       "    .dataframe thead th {\n",
       "        text-align: right;\n",
       "    }\n",
       "</style>\n",
       "<table border=\"1\" class=\"dataframe\">\n",
       "  <thead>\n",
       "    <tr style=\"text-align: right;\">\n",
       "      <th></th>\n",
       "      <th>datum</th>\n",
       "      <th>Drug</th>\n",
       "      <th>Quantity</th>\n",
       "    </tr>\n",
       "    <tr>\n",
       "      <th>Index</th>\n",
       "      <th></th>\n",
       "      <th></th>\n",
       "      <th></th>\n",
       "    </tr>\n",
       "  </thead>\n",
       "  <tbody>\n",
       "    <tr>\n",
       "      <th>0</th>\n",
       "      <td>2014-01-31</td>\n",
       "      <td>0</td>\n",
       "      <td>127.69</td>\n",
       "    </tr>\n",
       "    <tr>\n",
       "      <th>1</th>\n",
       "      <td>2014-02-28</td>\n",
       "      <td>0</td>\n",
       "      <td>133.32</td>\n",
       "    </tr>\n",
       "    <tr>\n",
       "      <th>2</th>\n",
       "      <td>2014-03-31</td>\n",
       "      <td>0</td>\n",
       "      <td>137.44</td>\n",
       "    </tr>\n",
       "    <tr>\n",
       "      <th>3</th>\n",
       "      <td>2014-04-30</td>\n",
       "      <td>0</td>\n",
       "      <td>113.10</td>\n",
       "    </tr>\n",
       "    <tr>\n",
       "      <th>4</th>\n",
       "      <td>2014-05-31</td>\n",
       "      <td>0</td>\n",
       "      <td>101.79</td>\n",
       "    </tr>\n",
       "    <tr>\n",
       "      <th>...</th>\n",
       "      <td>...</td>\n",
       "      <td>...</td>\n",
       "      <td>...</td>\n",
       "    </tr>\n",
       "    <tr>\n",
       "      <th>555</th>\n",
       "      <td>2019-06-30</td>\n",
       "      <td>7</td>\n",
       "      <td>156.04</td>\n",
       "    </tr>\n",
       "    <tr>\n",
       "      <th>556</th>\n",
       "      <td>2019-07-31</td>\n",
       "      <td>7</td>\n",
       "      <td>105.20</td>\n",
       "    </tr>\n",
       "    <tr>\n",
       "      <th>557</th>\n",
       "      <td>2019-08-31</td>\n",
       "      <td>7</td>\n",
       "      <td>97.30</td>\n",
       "    </tr>\n",
       "    <tr>\n",
       "      <th>558</th>\n",
       "      <td>2019-09-30</td>\n",
       "      <td>7</td>\n",
       "      <td>109.10</td>\n",
       "    </tr>\n",
       "    <tr>\n",
       "      <th>559</th>\n",
       "      <td>2019-10-31</td>\n",
       "      <td>7</td>\n",
       "      <td>11.13</td>\n",
       "    </tr>\n",
       "  </tbody>\n",
       "</table>\n",
       "<p>560 rows × 3 columns</p>\n",
       "</div>"
      ],
      "text/plain": [
       "           datum  Drug  Quantity\n",
       "Index                           \n",
       "0     2014-01-31     0    127.69\n",
       "1     2014-02-28     0    133.32\n",
       "2     2014-03-31     0    137.44\n",
       "3     2014-04-30     0    113.10\n",
       "4     2014-05-31     0    101.79\n",
       "...          ...   ...       ...\n",
       "555   2019-06-30     7    156.04\n",
       "556   2019-07-31     7    105.20\n",
       "557   2019-08-31     7     97.30\n",
       "558   2019-09-30     7    109.10\n",
       "559   2019-10-31     7     11.13\n",
       "\n",
       "[560 rows x 3 columns]"
      ]
     },
     "execution_count": 22,
     "metadata": {},
     "output_type": "execute_result"
    }
   ],
   "source": [
    "salesmonthly_new"
   ]
  },
  {
   "cell_type": "markdown",
   "id": "9e69cb57",
   "metadata": {
    "papermill": {
     "duration": 0.018509,
     "end_time": "2024-04-11T17:13:17.653760",
     "exception": false,
     "start_time": "2024-04-11T17:13:17.635251",
     "status": "completed"
    },
    "tags": []
   },
   "source": [
    "## **Model Fitting**"
   ]
  },
  {
   "cell_type": "code",
   "execution_count": 23,
   "id": "fa28c668",
   "metadata": {
    "execution": {
     "iopub.execute_input": "2024-04-11T17:13:17.693925Z",
     "iopub.status.busy": "2024-04-11T17:13:17.693512Z",
     "iopub.status.idle": "2024-04-11T17:13:17.699712Z",
     "shell.execute_reply": "2024-04-11T17:13:17.698840Z"
    },
    "papermill": {
     "duration": 0.028758,
     "end_time": "2024-04-11T17:13:17.701981",
     "exception": false,
     "start_time": "2024-04-11T17:13:17.673223",
     "status": "completed"
    },
    "tags": []
   },
   "outputs": [],
   "source": [
    "# Function to prepare data\n",
    "def prepare_data(time_data, n_features):\n",
    "    X, y = [], []\n",
    "    for i in range(len(time_data)):\n",
    "        end_ix = i + n_features\n",
    "        if end_ix > len(time_data) - 1:\n",
    "            break\n",
    "        X.append(time_data[i:end_ix])\n",
    "        y.append(time_data[end_ix])\n",
    "    return np.array(X), np.array(y)"
   ]
  },
  {
   "cell_type": "code",
   "execution_count": 24,
   "id": "cea5c8e6",
   "metadata": {
    "execution": {
     "iopub.execute_input": "2024-04-11T17:13:17.742224Z",
     "iopub.status.busy": "2024-04-11T17:13:17.741801Z",
     "iopub.status.idle": "2024-04-11T17:13:17.746816Z",
     "shell.execute_reply": "2024-04-11T17:13:17.745850Z"
    },
    "papermill": {
     "duration": 0.028229,
     "end_time": "2024-04-11T17:13:17.749177",
     "exception": false,
     "start_time": "2024-04-11T17:13:17.720948",
     "status": "completed"
    },
    "tags": []
   },
   "outputs": [],
   "source": [
    "# Splitting data into train and test sets\n",
    "split_index = 550\n",
    "train = salesmonthly_new.iloc[:split_index]\n",
    "test = salesmonthly_new.iloc[split_index:]"
   ]
  },
  {
   "cell_type": "code",
   "execution_count": 25,
   "id": "5961da38",
   "metadata": {
    "execution": {
     "iopub.execute_input": "2024-04-11T17:13:17.789097Z",
     "iopub.status.busy": "2024-04-11T17:13:17.788409Z",
     "iopub.status.idle": "2024-04-11T17:13:17.796435Z",
     "shell.execute_reply": "2024-04-11T17:13:17.795516Z"
    },
    "papermill": {
     "duration": 0.030494,
     "end_time": "2024-04-11T17:13:17.798754",
     "exception": false,
     "start_time": "2024-04-11T17:13:17.768260",
     "status": "completed"
    },
    "tags": []
   },
   "outputs": [],
   "source": [
    "# Extract features and target\n",
    "X_train = train.drop(['datum'], axis=1).values\n",
    "y_train = train['Quantity'].values\n",
    "X_test = test.drop(['datum'], axis=1).values\n",
    "y_test = test['Quantity'].values"
   ]
  },
  {
   "cell_type": "code",
   "execution_count": 26,
   "id": "2aabdf44",
   "metadata": {
    "execution": {
     "iopub.execute_input": "2024-04-11T17:13:17.847967Z",
     "iopub.status.busy": "2024-04-11T17:13:17.846567Z",
     "iopub.status.idle": "2024-04-11T17:13:17.855072Z",
     "shell.execute_reply": "2024-04-11T17:13:17.853946Z"
    },
    "papermill": {
     "duration": 0.03709,
     "end_time": "2024-04-11T17:13:17.857595",
     "exception": false,
     "start_time": "2024-04-11T17:13:17.820505",
     "status": "completed"
    },
    "tags": []
   },
   "outputs": [],
   "source": [
    "# Standardize features\n",
    "scaler = StandardScaler()\n",
    "X_train = scaler.fit_transform(X_train)\n",
    "X_test = scaler.transform(X_test)"
   ]
  },
  {
   "cell_type": "code",
   "execution_count": 27,
   "id": "39305a9b",
   "metadata": {
    "execution": {
     "iopub.execute_input": "2024-04-11T17:13:17.967638Z",
     "iopub.status.busy": "2024-04-11T17:13:17.966889Z",
     "iopub.status.idle": "2024-04-11T17:13:17.973418Z",
     "shell.execute_reply": "2024-04-11T17:13:17.972388Z"
    },
    "papermill": {
     "duration": 0.034642,
     "end_time": "2024-04-11T17:13:17.976121",
     "exception": false,
     "start_time": "2024-04-11T17:13:17.941479",
     "status": "completed"
    },
    "tags": []
   },
   "outputs": [],
   "source": [
    "# Normalize target variable\n",
    "scaler_y = StandardScaler()\n",
    "y_train = scaler_y.fit_transform(y_train.reshape(-1, 1)).flatten()\n",
    "y_test = scaler_y.transform(y_test.reshape(-1, 1)).flatten()"
   ]
  },
  {
   "cell_type": "code",
   "execution_count": 28,
   "id": "5d5dd8b1",
   "metadata": {
    "execution": {
     "iopub.execute_input": "2024-04-11T17:13:18.022196Z",
     "iopub.status.busy": "2024-04-11T17:13:18.021449Z",
     "iopub.status.idle": "2024-04-11T17:13:18.028536Z",
     "shell.execute_reply": "2024-04-11T17:13:18.027635Z"
    },
    "papermill": {
     "duration": 0.032016,
     "end_time": "2024-04-11T17:13:18.031614",
     "exception": false,
     "start_time": "2024-04-11T17:13:17.999598",
     "status": "completed"
    },
    "tags": []
   },
   "outputs": [],
   "source": [
    "# Split the data\n",
    "X_train, X_val, y_train, y_val = train_test_split(X_train, y_train, test_size=0.3, random_state=42)"
   ]
  },
  {
   "cell_type": "code",
   "execution_count": 29,
   "id": "8c0fe85b",
   "metadata": {
    "execution": {
     "iopub.execute_input": "2024-04-11T17:13:18.079004Z",
     "iopub.status.busy": "2024-04-11T17:13:18.078091Z",
     "iopub.status.idle": "2024-04-11T17:13:18.477266Z",
     "shell.execute_reply": "2024-04-11T17:13:18.476345Z"
    },
    "papermill": {
     "duration": 0.424354,
     "end_time": "2024-04-11T17:13:18.479866",
     "exception": false,
     "start_time": "2024-04-11T17:13:18.055512",
     "status": "completed"
    },
    "tags": []
   },
   "outputs": [],
   "source": [
    "# Define the LSTM model architecture\n",
    "def create_lstm_model(input_shape, n_units=256, n_layers=3, dropout_rate=0.3):\n",
    "    model = Sequential()\n",
    "    for i in range(n_layers):\n",
    "        model.add(LSTM(units=n_units, activation='relu', return_sequences=True if i < n_layers - 1 else False,\n",
    "                       input_shape=input_shape))\n",
    "        model.add(BatchNormalization())\n",
    "        model.add(Dropout(dropout_rate))\n",
    "    model.add(Dense(1))  # Output layer\n",
    "    return model\n",
    "\n",
    "# Create the LSTM model\n",
    "n_features = X_train.shape[1]\n",
    "input_shape = (n_features, 1)\n",
    "model = create_lstm_model(input_shape)"
   ]
  },
  {
   "cell_type": "code",
   "execution_count": 30,
   "id": "bdc03442",
   "metadata": {
    "execution": {
     "iopub.execute_input": "2024-04-11T17:13:18.522099Z",
     "iopub.status.busy": "2024-04-11T17:13:18.521403Z",
     "iopub.status.idle": "2024-04-11T17:13:18.557363Z",
     "shell.execute_reply": "2024-04-11T17:13:18.556221Z"
    },
    "papermill": {
     "duration": 0.060456,
     "end_time": "2024-04-11T17:13:18.559905",
     "exception": false,
     "start_time": "2024-04-11T17:13:18.499449",
     "status": "completed"
    },
    "tags": []
   },
   "outputs": [
    {
     "data": {
      "text/html": [
       "<pre style=\"white-space:pre;overflow-x:auto;line-height:normal;font-family:Menlo,'DejaVu Sans Mono',consolas,'Courier New',monospace\"><span style=\"font-weight: bold\">Model: \"sequential\"</span>\n",
       "</pre>\n"
      ],
      "text/plain": [
       "\u001b[1mModel: \"sequential\"\u001b[0m\n"
      ]
     },
     "metadata": {},
     "output_type": "display_data"
    },
    {
     "data": {
      "text/html": [
       "<pre style=\"white-space:pre;overflow-x:auto;line-height:normal;font-family:Menlo,'DejaVu Sans Mono',consolas,'Courier New',monospace\">┏━━━━━━━━━━━━━━━━━━━━━━━━━━━━━━━━━┳━━━━━━━━━━━━━━━━━━━━━━━━┳━━━━━━━━━━━━━━━┓\n",
       "┃<span style=\"font-weight: bold\"> Layer (type)                    </span>┃<span style=\"font-weight: bold\"> Output Shape           </span>┃<span style=\"font-weight: bold\">       Param # </span>┃\n",
       "┡━━━━━━━━━━━━━━━━━━━━━━━━━━━━━━━━━╇━━━━━━━━━━━━━━━━━━━━━━━━╇━━━━━━━━━━━━━━━┩\n",
       "│ lstm (<span style=\"color: #0087ff; text-decoration-color: #0087ff\">LSTM</span>)                     │ (<span style=\"color: #00d7ff; text-decoration-color: #00d7ff\">None</span>, <span style=\"color: #00af00; text-decoration-color: #00af00\">2</span>, <span style=\"color: #00af00; text-decoration-color: #00af00\">256</span>)         │       <span style=\"color: #00af00; text-decoration-color: #00af00\">264,192</span> │\n",
       "├─────────────────────────────────┼────────────────────────┼───────────────┤\n",
       "│ batch_normalization             │ (<span style=\"color: #00d7ff; text-decoration-color: #00d7ff\">None</span>, <span style=\"color: #00af00; text-decoration-color: #00af00\">2</span>, <span style=\"color: #00af00; text-decoration-color: #00af00\">256</span>)         │         <span style=\"color: #00af00; text-decoration-color: #00af00\">1,024</span> │\n",
       "│ (<span style=\"color: #0087ff; text-decoration-color: #0087ff\">BatchNormalization</span>)            │                        │               │\n",
       "├─────────────────────────────────┼────────────────────────┼───────────────┤\n",
       "│ dropout (<span style=\"color: #0087ff; text-decoration-color: #0087ff\">Dropout</span>)               │ (<span style=\"color: #00d7ff; text-decoration-color: #00d7ff\">None</span>, <span style=\"color: #00af00; text-decoration-color: #00af00\">2</span>, <span style=\"color: #00af00; text-decoration-color: #00af00\">256</span>)         │             <span style=\"color: #00af00; text-decoration-color: #00af00\">0</span> │\n",
       "├─────────────────────────────────┼────────────────────────┼───────────────┤\n",
       "│ lstm_1 (<span style=\"color: #0087ff; text-decoration-color: #0087ff\">LSTM</span>)                   │ (<span style=\"color: #00d7ff; text-decoration-color: #00d7ff\">None</span>, <span style=\"color: #00af00; text-decoration-color: #00af00\">2</span>, <span style=\"color: #00af00; text-decoration-color: #00af00\">256</span>)         │       <span style=\"color: #00af00; text-decoration-color: #00af00\">525,312</span> │\n",
       "├─────────────────────────────────┼────────────────────────┼───────────────┤\n",
       "│ batch_normalization_1           │ (<span style=\"color: #00d7ff; text-decoration-color: #00d7ff\">None</span>, <span style=\"color: #00af00; text-decoration-color: #00af00\">2</span>, <span style=\"color: #00af00; text-decoration-color: #00af00\">256</span>)         │         <span style=\"color: #00af00; text-decoration-color: #00af00\">1,024</span> │\n",
       "│ (<span style=\"color: #0087ff; text-decoration-color: #0087ff\">BatchNormalization</span>)            │                        │               │\n",
       "├─────────────────────────────────┼────────────────────────┼───────────────┤\n",
       "│ dropout_1 (<span style=\"color: #0087ff; text-decoration-color: #0087ff\">Dropout</span>)             │ (<span style=\"color: #00d7ff; text-decoration-color: #00d7ff\">None</span>, <span style=\"color: #00af00; text-decoration-color: #00af00\">2</span>, <span style=\"color: #00af00; text-decoration-color: #00af00\">256</span>)         │             <span style=\"color: #00af00; text-decoration-color: #00af00\">0</span> │\n",
       "├─────────────────────────────────┼────────────────────────┼───────────────┤\n",
       "│ lstm_2 (<span style=\"color: #0087ff; text-decoration-color: #0087ff\">LSTM</span>)                   │ (<span style=\"color: #00d7ff; text-decoration-color: #00d7ff\">None</span>, <span style=\"color: #00af00; text-decoration-color: #00af00\">256</span>)            │       <span style=\"color: #00af00; text-decoration-color: #00af00\">525,312</span> │\n",
       "├─────────────────────────────────┼────────────────────────┼───────────────┤\n",
       "│ batch_normalization_2           │ (<span style=\"color: #00d7ff; text-decoration-color: #00d7ff\">None</span>, <span style=\"color: #00af00; text-decoration-color: #00af00\">256</span>)            │         <span style=\"color: #00af00; text-decoration-color: #00af00\">1,024</span> │\n",
       "│ (<span style=\"color: #0087ff; text-decoration-color: #0087ff\">BatchNormalization</span>)            │                        │               │\n",
       "├─────────────────────────────────┼────────────────────────┼───────────────┤\n",
       "│ dropout_2 (<span style=\"color: #0087ff; text-decoration-color: #0087ff\">Dropout</span>)             │ (<span style=\"color: #00d7ff; text-decoration-color: #00d7ff\">None</span>, <span style=\"color: #00af00; text-decoration-color: #00af00\">256</span>)            │             <span style=\"color: #00af00; text-decoration-color: #00af00\">0</span> │\n",
       "├─────────────────────────────────┼────────────────────────┼───────────────┤\n",
       "│ dense (<span style=\"color: #0087ff; text-decoration-color: #0087ff\">Dense</span>)                   │ (<span style=\"color: #00d7ff; text-decoration-color: #00d7ff\">None</span>, <span style=\"color: #00af00; text-decoration-color: #00af00\">1</span>)              │           <span style=\"color: #00af00; text-decoration-color: #00af00\">257</span> │\n",
       "└─────────────────────────────────┴────────────────────────┴───────────────┘\n",
       "</pre>\n"
      ],
      "text/plain": [
       "┏━━━━━━━━━━━━━━━━━━━━━━━━━━━━━━━━━┳━━━━━━━━━━━━━━━━━━━━━━━━┳━━━━━━━━━━━━━━━┓\n",
       "┃\u001b[1m \u001b[0m\u001b[1mLayer (type)                   \u001b[0m\u001b[1m \u001b[0m┃\u001b[1m \u001b[0m\u001b[1mOutput Shape          \u001b[0m\u001b[1m \u001b[0m┃\u001b[1m \u001b[0m\u001b[1m      Param #\u001b[0m\u001b[1m \u001b[0m┃\n",
       "┡━━━━━━━━━━━━━━━━━━━━━━━━━━━━━━━━━╇━━━━━━━━━━━━━━━━━━━━━━━━╇━━━━━━━━━━━━━━━┩\n",
       "│ lstm (\u001b[38;5;33mLSTM\u001b[0m)                     │ (\u001b[38;5;45mNone\u001b[0m, \u001b[38;5;34m2\u001b[0m, \u001b[38;5;34m256\u001b[0m)         │       \u001b[38;5;34m264,192\u001b[0m │\n",
       "├─────────────────────────────────┼────────────────────────┼───────────────┤\n",
       "│ batch_normalization             │ (\u001b[38;5;45mNone\u001b[0m, \u001b[38;5;34m2\u001b[0m, \u001b[38;5;34m256\u001b[0m)         │         \u001b[38;5;34m1,024\u001b[0m │\n",
       "│ (\u001b[38;5;33mBatchNormalization\u001b[0m)            │                        │               │\n",
       "├─────────────────────────────────┼────────────────────────┼───────────────┤\n",
       "│ dropout (\u001b[38;5;33mDropout\u001b[0m)               │ (\u001b[38;5;45mNone\u001b[0m, \u001b[38;5;34m2\u001b[0m, \u001b[38;5;34m256\u001b[0m)         │             \u001b[38;5;34m0\u001b[0m │\n",
       "├─────────────────────────────────┼────────────────────────┼───────────────┤\n",
       "│ lstm_1 (\u001b[38;5;33mLSTM\u001b[0m)                   │ (\u001b[38;5;45mNone\u001b[0m, \u001b[38;5;34m2\u001b[0m, \u001b[38;5;34m256\u001b[0m)         │       \u001b[38;5;34m525,312\u001b[0m │\n",
       "├─────────────────────────────────┼────────────────────────┼───────────────┤\n",
       "│ batch_normalization_1           │ (\u001b[38;5;45mNone\u001b[0m, \u001b[38;5;34m2\u001b[0m, \u001b[38;5;34m256\u001b[0m)         │         \u001b[38;5;34m1,024\u001b[0m │\n",
       "│ (\u001b[38;5;33mBatchNormalization\u001b[0m)            │                        │               │\n",
       "├─────────────────────────────────┼────────────────────────┼───────────────┤\n",
       "│ dropout_1 (\u001b[38;5;33mDropout\u001b[0m)             │ (\u001b[38;5;45mNone\u001b[0m, \u001b[38;5;34m2\u001b[0m, \u001b[38;5;34m256\u001b[0m)         │             \u001b[38;5;34m0\u001b[0m │\n",
       "├─────────────────────────────────┼────────────────────────┼───────────────┤\n",
       "│ lstm_2 (\u001b[38;5;33mLSTM\u001b[0m)                   │ (\u001b[38;5;45mNone\u001b[0m, \u001b[38;5;34m256\u001b[0m)            │       \u001b[38;5;34m525,312\u001b[0m │\n",
       "├─────────────────────────────────┼────────────────────────┼───────────────┤\n",
       "│ batch_normalization_2           │ (\u001b[38;5;45mNone\u001b[0m, \u001b[38;5;34m256\u001b[0m)            │         \u001b[38;5;34m1,024\u001b[0m │\n",
       "│ (\u001b[38;5;33mBatchNormalization\u001b[0m)            │                        │               │\n",
       "├─────────────────────────────────┼────────────────────────┼───────────────┤\n",
       "│ dropout_2 (\u001b[38;5;33mDropout\u001b[0m)             │ (\u001b[38;5;45mNone\u001b[0m, \u001b[38;5;34m256\u001b[0m)            │             \u001b[38;5;34m0\u001b[0m │\n",
       "├─────────────────────────────────┼────────────────────────┼───────────────┤\n",
       "│ dense (\u001b[38;5;33mDense\u001b[0m)                   │ (\u001b[38;5;45mNone\u001b[0m, \u001b[38;5;34m1\u001b[0m)              │           \u001b[38;5;34m257\u001b[0m │\n",
       "└─────────────────────────────────┴────────────────────────┴───────────────┘\n"
      ]
     },
     "metadata": {},
     "output_type": "display_data"
    },
    {
     "data": {
      "text/html": [
       "<pre style=\"white-space:pre;overflow-x:auto;line-height:normal;font-family:Menlo,'DejaVu Sans Mono',consolas,'Courier New',monospace\"><span style=\"font-weight: bold\"> Total params: </span><span style=\"color: #00af00; text-decoration-color: #00af00\">1,318,145</span> (5.03 MB)\n",
       "</pre>\n"
      ],
      "text/plain": [
       "\u001b[1m Total params: \u001b[0m\u001b[38;5;34m1,318,145\u001b[0m (5.03 MB)\n"
      ]
     },
     "metadata": {},
     "output_type": "display_data"
    },
    {
     "data": {
      "text/html": [
       "<pre style=\"white-space:pre;overflow-x:auto;line-height:normal;font-family:Menlo,'DejaVu Sans Mono',consolas,'Courier New',monospace\"><span style=\"font-weight: bold\"> Trainable params: </span><span style=\"color: #00af00; text-decoration-color: #00af00\">1,316,609</span> (5.02 MB)\n",
       "</pre>\n"
      ],
      "text/plain": [
       "\u001b[1m Trainable params: \u001b[0m\u001b[38;5;34m1,316,609\u001b[0m (5.02 MB)\n"
      ]
     },
     "metadata": {},
     "output_type": "display_data"
    },
    {
     "data": {
      "text/html": [
       "<pre style=\"white-space:pre;overflow-x:auto;line-height:normal;font-family:Menlo,'DejaVu Sans Mono',consolas,'Courier New',monospace\"><span style=\"font-weight: bold\"> Non-trainable params: </span><span style=\"color: #00af00; text-decoration-color: #00af00\">1,536</span> (6.00 KB)\n",
       "</pre>\n"
      ],
      "text/plain": [
       "\u001b[1m Non-trainable params: \u001b[0m\u001b[38;5;34m1,536\u001b[0m (6.00 KB)\n"
      ]
     },
     "metadata": {},
     "output_type": "display_data"
    }
   ],
   "source": [
    "model.summary()"
   ]
  },
  {
   "cell_type": "code",
   "execution_count": 31,
   "id": "40bf5b55",
   "metadata": {
    "execution": {
     "iopub.execute_input": "2024-04-11T17:13:18.604554Z",
     "iopub.status.busy": "2024-04-11T17:13:18.603597Z",
     "iopub.status.idle": "2024-04-11T17:13:37.519119Z",
     "shell.execute_reply": "2024-04-11T17:13:37.517926Z"
    },
    "papermill": {
     "duration": 18.940744,
     "end_time": "2024-04-11T17:13:37.522106",
     "exception": false,
     "start_time": "2024-04-11T17:13:18.581362",
     "status": "completed"
    },
    "tags": []
   },
   "outputs": [
    {
     "name": "stdout",
     "output_type": "stream",
     "text": [
      "Epoch 1/200\n",
      "\u001b[1m7/7\u001b[0m \u001b[32m━━━━━━━━━━━━━━━━━━━━\u001b[0m\u001b[37m\u001b[0m \u001b[1m7s\u001b[0m 137ms/step - loss: 1.4822 - val_loss: 0.5698 - learning_rate: 0.0010\n",
      "Epoch 2/200\n",
      "\u001b[1m7/7\u001b[0m \u001b[32m━━━━━━━━━━━━━━━━━━━━\u001b[0m\u001b[37m\u001b[0m \u001b[1m0s\u001b[0m 43ms/step - loss: 1.1171 - val_loss: 0.5509 - learning_rate: 0.0010\n",
      "Epoch 3/200\n",
      "\u001b[1m7/7\u001b[0m \u001b[32m━━━━━━━━━━━━━━━━━━━━\u001b[0m\u001b[37m\u001b[0m \u001b[1m1s\u001b[0m 39ms/step - loss: 0.9543 - val_loss: 0.5388 - learning_rate: 0.0010\n",
      "Epoch 4/200\n",
      "\u001b[1m7/7\u001b[0m \u001b[32m━━━━━━━━━━━━━━━━━━━━\u001b[0m\u001b[37m\u001b[0m \u001b[1m0s\u001b[0m 40ms/step - loss: 0.8563 - val_loss: 0.5280 - learning_rate: 0.0010\n",
      "Epoch 5/200\n",
      "\u001b[1m7/7\u001b[0m \u001b[32m━━━━━━━━━━━━━━━━━━━━\u001b[0m\u001b[37m\u001b[0m \u001b[1m0s\u001b[0m 37ms/step - loss: 0.8511 - val_loss: 0.5225 - learning_rate: 0.0010\n",
      "Epoch 6/200\n",
      "\u001b[1m7/7\u001b[0m \u001b[32m━━━━━━━━━━━━━━━━━━━━\u001b[0m\u001b[37m\u001b[0m \u001b[1m0s\u001b[0m 37ms/step - loss: 0.7020 - val_loss: 0.5185 - learning_rate: 0.0010\n",
      "Epoch 7/200\n",
      "\u001b[1m7/7\u001b[0m \u001b[32m━━━━━━━━━━━━━━━━━━━━\u001b[0m\u001b[37m\u001b[0m \u001b[1m0s\u001b[0m 38ms/step - loss: 0.7382 - val_loss: 0.5193 - learning_rate: 0.0010\n",
      "Epoch 8/200\n",
      "\u001b[1m7/7\u001b[0m \u001b[32m━━━━━━━━━━━━━━━━━━━━\u001b[0m\u001b[37m\u001b[0m \u001b[1m0s\u001b[0m 42ms/step - loss: 0.7363 - val_loss: 0.5167 - learning_rate: 0.0010\n",
      "Epoch 9/200\n",
      "\u001b[1m7/7\u001b[0m \u001b[32m━━━━━━━━━━━━━━━━━━━━\u001b[0m\u001b[37m\u001b[0m \u001b[1m0s\u001b[0m 41ms/step - loss: 0.6992 - val_loss: 0.5157 - learning_rate: 0.0010\n",
      "Epoch 10/200\n",
      "\u001b[1m7/7\u001b[0m \u001b[32m━━━━━━━━━━━━━━━━━━━━\u001b[0m\u001b[37m\u001b[0m \u001b[1m0s\u001b[0m 40ms/step - loss: 0.6866 - val_loss: 0.5202 - learning_rate: 0.0010\n",
      "Epoch 11/200\n",
      "\u001b[1m7/7\u001b[0m \u001b[32m━━━━━━━━━━━━━━━━━━━━\u001b[0m\u001b[37m\u001b[0m \u001b[1m0s\u001b[0m 36ms/step - loss: 0.6571 - val_loss: 0.5268 - learning_rate: 0.0010\n",
      "Epoch 12/200\n",
      "\u001b[1m7/7\u001b[0m \u001b[32m━━━━━━━━━━━━━━━━━━━━\u001b[0m\u001b[37m\u001b[0m \u001b[1m0s\u001b[0m 37ms/step - loss: 0.7143 - val_loss: 0.5267 - learning_rate: 0.0010\n",
      "Epoch 13/200\n",
      "\u001b[1m7/7\u001b[0m \u001b[32m━━━━━━━━━━━━━━━━━━━━\u001b[0m\u001b[37m\u001b[0m \u001b[1m0s\u001b[0m 42ms/step - loss: 0.5999 - val_loss: 0.5358 - learning_rate: 0.0010\n",
      "Epoch 14/200\n",
      "\u001b[1m7/7\u001b[0m \u001b[32m━━━━━━━━━━━━━━━━━━━━\u001b[0m\u001b[37m\u001b[0m \u001b[1m1s\u001b[0m 37ms/step - loss: 0.5737 - val_loss: 0.5551 - learning_rate: 0.0010\n",
      "Epoch 15/200\n",
      "\u001b[1m7/7\u001b[0m \u001b[32m━━━━━━━━━━━━━━━━━━━━\u001b[0m\u001b[37m\u001b[0m \u001b[1m0s\u001b[0m 35ms/step - loss: 0.5867 - val_loss: 0.5707 - learning_rate: 0.0010\n",
      "Epoch 16/200\n",
      "\u001b[1m7/7\u001b[0m \u001b[32m━━━━━━━━━━━━━━━━━━━━\u001b[0m\u001b[37m\u001b[0m \u001b[1m0s\u001b[0m 36ms/step - loss: 0.5302 - val_loss: 0.5670 - learning_rate: 0.0010\n",
      "Epoch 17/200\n",
      "\u001b[1m7/7\u001b[0m \u001b[32m━━━━━━━━━━━━━━━━━━━━\u001b[0m\u001b[37m\u001b[0m \u001b[1m0s\u001b[0m 39ms/step - loss: 0.5755 - val_loss: 0.5884 - learning_rate: 0.0010\n",
      "Epoch 18/200\n",
      "\u001b[1m7/7\u001b[0m \u001b[32m━━━━━━━━━━━━━━━━━━━━\u001b[0m\u001b[37m\u001b[0m \u001b[1m0s\u001b[0m 39ms/step - loss: 0.5684 - val_loss: 0.5827 - learning_rate: 0.0010\n",
      "Epoch 19/200\n",
      "\u001b[1m7/7\u001b[0m \u001b[32m━━━━━━━━━━━━━━━━━━━━\u001b[0m\u001b[37m\u001b[0m \u001b[1m0s\u001b[0m 42ms/step - loss: 0.4544 - val_loss: 0.5694 - learning_rate: 0.0010\n",
      "Epoch 20/200\n",
      "\u001b[1m7/7\u001b[0m \u001b[32m━━━━━━━━━━━━━━━━━━━━\u001b[0m\u001b[37m\u001b[0m \u001b[1m1s\u001b[0m 36ms/step - loss: 0.5687 - val_loss: 0.5631 - learning_rate: 1.0000e-04\n",
      "Epoch 21/200\n",
      "\u001b[1m7/7\u001b[0m \u001b[32m━━━━━━━━━━━━━━━━━━━━\u001b[0m\u001b[37m\u001b[0m \u001b[1m0s\u001b[0m 43ms/step - loss: 0.5290 - val_loss: 0.5568 - learning_rate: 1.0000e-04\n",
      "Epoch 22/200\n",
      "\u001b[1m7/7\u001b[0m \u001b[32m━━━━━━━━━━━━━━━━━━━━\u001b[0m\u001b[37m\u001b[0m \u001b[1m1s\u001b[0m 40ms/step - loss: 0.5058 - val_loss: 0.5531 - learning_rate: 1.0000e-04\n",
      "Epoch 23/200\n",
      "\u001b[1m7/7\u001b[0m \u001b[32m━━━━━━━━━━━━━━━━━━━━\u001b[0m\u001b[37m\u001b[0m \u001b[1m0s\u001b[0m 38ms/step - loss: 0.6164 - val_loss: 0.5445 - learning_rate: 1.0000e-04\n",
      "Epoch 24/200\n",
      "\u001b[1m7/7\u001b[0m \u001b[32m━━━━━━━━━━━━━━━━━━━━\u001b[0m\u001b[37m\u001b[0m \u001b[1m0s\u001b[0m 37ms/step - loss: 0.5650 - val_loss: 0.5357 - learning_rate: 1.0000e-04\n",
      "Epoch 25/200\n",
      "\u001b[1m7/7\u001b[0m \u001b[32m━━━━━━━━━━━━━━━━━━━━\u001b[0m\u001b[37m\u001b[0m \u001b[1m0s\u001b[0m 36ms/step - loss: 0.4947 - val_loss: 0.5317 - learning_rate: 1.0000e-04\n",
      "Epoch 26/200\n",
      "\u001b[1m7/7\u001b[0m \u001b[32m━━━━━━━━━━━━━━━━━━━━\u001b[0m\u001b[37m\u001b[0m \u001b[1m0s\u001b[0m 42ms/step - loss: 0.4758 - val_loss: 0.5296 - learning_rate: 1.0000e-04\n",
      "Epoch 27/200\n",
      "\u001b[1m7/7\u001b[0m \u001b[32m━━━━━━━━━━━━━━━━━━━━\u001b[0m\u001b[37m\u001b[0m \u001b[1m0s\u001b[0m 42ms/step - loss: 0.4747 - val_loss: 0.5277 - learning_rate: 1.0000e-04\n",
      "Epoch 28/200\n",
      "\u001b[1m7/7\u001b[0m \u001b[32m━━━━━━━━━━━━━━━━━━━━\u001b[0m\u001b[37m\u001b[0m \u001b[1m0s\u001b[0m 35ms/step - loss: 0.4983 - val_loss: 0.5243 - learning_rate: 1.0000e-04\n",
      "Epoch 29/200\n",
      "\u001b[1m7/7\u001b[0m \u001b[32m━━━━━━━━━━━━━━━━━━━━\u001b[0m\u001b[37m\u001b[0m \u001b[1m0s\u001b[0m 37ms/step - loss: 0.5044 - val_loss: 0.5216 - learning_rate: 1.0000e-04\n",
      "\u001b[1m13/13\u001b[0m \u001b[32m━━━━━━━━━━━━━━━━━━━━\u001b[0m\u001b[37m\u001b[0m \u001b[1m1s\u001b[0m 49ms/step\n",
      "\u001b[1m6/6\u001b[0m \u001b[32m━━━━━━━━━━━━━━━━━━━━\u001b[0m\u001b[37m\u001b[0m \u001b[1m0s\u001b[0m 7ms/step \n",
      "Train Loss: 0.5431692600250244\n",
      "Validation Loss: 0.5439705848693848\n",
      "Train MAE: 0.5749308861027699\n",
      "Validation MAE: 0.4936263826422729\n"
     ]
    },
    {
     "data": {
      "image/png": "[encoded data removed]",
      "text/plain": [
       "<Figure size 640x480 with 1 Axes>"
      ]
     },
     "metadata": {},
     "output_type": "display_data"
    }
   ],
   "source": [
    "# Compile the model\n",
    "model.compile(optimizer='adam', loss='mae')\n",
    "\n",
    "# Early stopping and learning rate reduction to prevent overfitting\n",
    "early_stopping = EarlyStopping(patience=20, restore_best_weights=True)\n",
    "reduce_lr = ReduceLROnPlateau(factor=0.1, patience=10, min_lr=1e-6)\n",
    "\n",
    "# Train the model\n",
    "history = model.fit(X_train, y_train, epochs=200, batch_size=64, validation_data=(X_val, y_val),\n",
    "                    callbacks=[early_stopping, reduce_lr])\n",
    "\n",
    "# Evaluate the model\n",
    "train_loss = model.evaluate(X_train, y_train, verbose=0)\n",
    "val_loss = model.evaluate(X_val, y_val, verbose=0)\n",
    "train_mae = np.mean(np.abs(model.predict(X_train) - y_train))\n",
    "val_mae = np.mean(np.abs(model.predict(X_val) - y_val))\n",
    "\n",
    "print('Train Loss:', train_loss)\n",
    "print('Validation Loss:', val_loss)\n",
    "print('Train MAE:', train_mae)\n",
    "print('Validation MAE:', val_mae)\n",
    "\n",
    "# Plot training and validation loss\n",
    "plt.plot(history.history['loss'], label='Train Loss')\n",
    "plt.plot(history.history['val_loss'], label='Validation Loss')\n",
    "plt.title('Model Loss')\n",
    "plt.xlabel('Epoch')\n",
    "plt.ylabel('Loss')\n",
    "plt.legend()\n",
    "plt.show()"
   ]
  },
  {
   "cell_type": "code",
   "execution_count": 32,
   "id": "d13ff3b9",
   "metadata": {
    "execution": {
     "iopub.execute_input": "2024-04-11T17:13:37.596692Z",
     "iopub.status.busy": "2024-04-11T17:13:37.596303Z",
     "iopub.status.idle": "2024-04-11T17:13:38.252683Z",
     "shell.execute_reply": "2024-04-11T17:13:38.250966Z"
    },
    "papermill": {
     "duration": 0.698272,
     "end_time": "2024-04-11T17:13:38.255738",
     "exception": false,
     "start_time": "2024-04-11T17:13:37.557466",
     "status": "completed"
    },
    "tags": []
   },
   "outputs": [
    {
     "name": "stdout",
     "output_type": "stream",
     "text": [
      "\u001b[1m13/13\u001b[0m \u001b[32m━━━━━━━━━━━━━━━━━━━━\u001b[0m\u001b[37m\u001b[0m \u001b[1m0s\u001b[0m 8ms/step\n",
      "\u001b[1m6/6\u001b[0m \u001b[32m━━━━━━━━━━━━━━━━━━━━\u001b[0m\u001b[37m\u001b[0m \u001b[1m0s\u001b[0m 8ms/step \n",
      "Train Loss: 0.5431692600250244\n",
      "Train MAE: 0.5749308861027699\n",
      "Train MSE: 1.1522636921604372\n",
      "Train RMSE: 1.0734354625036557\n",
      "Validation Loss: 0.5439705848693848\n",
      "Validation MAE: 0.4936263826422729\n",
      "Validation MSE: 0.7711465550012637\n",
      "Validation RMSE: 0.878149506064465\n"
     ]
    }
   ],
   "source": [
    "### Evaluate the model on the training set\n",
    "train_loss = model.evaluate(X_train, y_train, verbose=0)\n",
    "train_predictions = model.predict(X_train)\n",
    "train_mae = np.mean(np.abs(train_predictions - y_train))\n",
    "train_mse = np.mean((train_predictions - y_train)**2)\n",
    "train_rmse = np.sqrt(train_mse)\n",
    "\n",
    "# Evaluate the model on the validation set\n",
    "val_loss = model.evaluate(X_val, y_val, verbose=0)\n",
    "val_predictions = model.predict(X_val)\n",
    "val_mae = np.mean(np.abs(val_predictions - y_val))\n",
    "val_mse = np.mean((val_predictions - y_val)**2)\n",
    "val_rmse = np.sqrt(val_mse)\n",
    "\n",
    "print('Train Loss:', train_loss)\n",
    "print('Train MAE:', train_mae)\n",
    "print('Train MSE:', train_mse)\n",
    "print('Train RMSE:', train_rmse)\n",
    "\n",
    "print('Validation Loss:', val_loss)\n",
    "print('Validation MAE:', val_mae)\n",
    "print('Validation MSE:', val_mse)\n",
    "print('Validation RMSE:', val_rmse)"
   ]
  },
  {
   "cell_type": "markdown",
   "id": "e7a6c4f1",
   "metadata": {
    "papermill": {
     "duration": 0.043556,
     "end_time": "2024-04-11T17:13:38.348267",
     "exception": false,
     "start_time": "2024-04-11T17:13:38.304711",
     "status": "completed"
    },
    "tags": []
   },
   "source": [
    "## **Forecasting**"
   ]
  },
  {
   "cell_type": "code",
   "execution_count": 33,
   "id": "5a0f1cb2",
   "metadata": {
    "execution": {
     "iopub.execute_input": "2024-04-11T17:13:38.424650Z",
     "iopub.status.busy": "2024-04-11T17:13:38.424230Z",
     "iopub.status.idle": "2024-04-11T17:13:39.175279Z",
     "shell.execute_reply": "2024-04-11T17:13:39.174049Z"
    },
    "papermill": {
     "duration": 0.791855,
     "end_time": "2024-04-11T17:13:39.177753",
     "exception": false,
     "start_time": "2024-04-11T17:13:38.385898",
     "status": "completed"
    },
    "tags": []
   },
   "outputs": [
    {
     "name": "stdout",
     "output_type": "stream",
     "text": [
      "\u001b[1m1/1\u001b[0m \u001b[32m━━━━━━━━━━━━━━━━━━━━\u001b[0m\u001b[37m\u001b[0m \u001b[1m0s\u001b[0m 24ms/step\n"
     ]
    },
    {
     "data": {
      "image/png": "[encoded data removed]",
      "text/plain": [
       "<Figure size 1000x600 with 1 Axes>"
      ]
     },
     "metadata": {},
     "output_type": "display_data"
    }
   ],
   "source": [
    "import matplotlib.pyplot as plt\n",
    "\n",
    "# Make predictions on the test data\n",
    "predictions = model.predict(X_test)\n",
    "\n",
    "# Inverse transform the predicted values\n",
    "predictions_inv = scaler_y.inverse_transform(predictions.reshape(-1, 1)).flatten()\n",
    "\n",
    "# Inverse transform the test labels for comparison\n",
    "y_test_inv = scaler_y.inverse_transform(y_test.reshape(-1, 1)).flatten()\n",
    "\n",
    "# Plot actual vs. predicted values\n",
    "plt.figure(figsize=(10, 6))\n",
    "plt.plot(salesmonthly_new['datum'][split_index:], y_test_inv, label='Actual')\n",
    "plt.plot(salesmonthly_new['datum'][split_index:], predictions_inv, label='Predicted')\n",
    "plt.title('Actual vs. Predicted Quantity')\n",
    "plt.xlabel('Datum')\n",
    "plt.ylabel('Quantity')\n",
    "plt.legend()\n",
    "plt.show()"
   ]
  },
  {
   "cell_type": "code",
   "execution_count": 34,
   "id": "ba899afa",
   "metadata": {
    "execution": {
     "iopub.execute_input": "2024-04-11T17:13:39.253585Z",
     "iopub.status.busy": "2024-04-11T17:13:39.252958Z",
     "iopub.status.idle": "2024-04-11T17:13:43.021920Z",
     "shell.execute_reply": "2024-04-11T17:13:43.020626Z"
    },
    "papermill": {
     "duration": 3.80997,
     "end_time": "2024-04-11T17:13:43.024564",
     "exception": false,
     "start_time": "2024-04-11T17:13:39.214594",
     "status": "completed"
    },
    "tags": []
   },
   "outputs": [
    {
     "name": "stdout",
     "output_type": "stream",
     "text": [
      "\u001b[1m1/1\u001b[0m \u001b[32m━━━━━━━━━━━━━━━━━━━━\u001b[0m\u001b[37m\u001b[0m \u001b[1m0s\u001b[0m 23ms/step\n",
      "\u001b[1m1/1\u001b[0m \u001b[32m━━━━━━━━━━━━━━━━━━━━\u001b[0m\u001b[37m\u001b[0m \u001b[1m0s\u001b[0m 23ms/step\n",
      "\u001b[1m1/1\u001b[0m \u001b[32m━━━━━━━━━━━━━━━━━━━━\u001b[0m\u001b[37m\u001b[0m \u001b[1m0s\u001b[0m 22ms/step\n",
      "\u001b[1m1/1\u001b[0m \u001b[32m━━━━━━━━━━━━━━━━━━━━\u001b[0m\u001b[37m\u001b[0m \u001b[1m0s\u001b[0m 22ms/step\n",
      "\u001b[1m1/1\u001b[0m \u001b[32m━━━━━━━━━━━━━━━━━━━━\u001b[0m\u001b[37m\u001b[0m \u001b[1m0s\u001b[0m 23ms/step\n",
      "\u001b[1m1/1\u001b[0m \u001b[32m━━━━━━━━━━━━━━━━━━━━\u001b[0m\u001b[37m\u001b[0m \u001b[1m0s\u001b[0m 22ms/step\n",
      "\u001b[1m1/1\u001b[0m \u001b[32m━━━━━━━━━━━━━━━━━━━━\u001b[0m\u001b[37m\u001b[0m \u001b[1m0s\u001b[0m 23ms/step\n",
      "\u001b[1m1/1\u001b[0m \u001b[32m━━━━━━━━━━━━━━━━━━━━\u001b[0m\u001b[37m\u001b[0m \u001b[1m0s\u001b[0m 23ms/step\n",
      "\u001b[1m1/1\u001b[0m \u001b[32m━━━━━━━━━━━━━━━━━━━━\u001b[0m\u001b[37m\u001b[0m \u001b[1m0s\u001b[0m 22ms/step\n",
      "\u001b[1m1/1\u001b[0m \u001b[32m━━━━━━━━━━━━━━━━━━━━\u001b[0m\u001b[37m\u001b[0m \u001b[1m0s\u001b[0m 23ms/step\n",
      "\u001b[1m1/1\u001b[0m \u001b[32m━━━━━━━━━━━━━━━━━━━━\u001b[0m\u001b[37m\u001b[0m \u001b[1m0s\u001b[0m 22ms/step\n",
      "\u001b[1m1/1\u001b[0m \u001b[32m━━━━━━━━━━━━━━━━━━━━\u001b[0m\u001b[37m\u001b[0m \u001b[1m0s\u001b[0m 23ms/step\n",
      "\u001b[1m1/1\u001b[0m \u001b[32m━━━━━━━━━━━━━━━━━━━━\u001b[0m\u001b[37m\u001b[0m \u001b[1m0s\u001b[0m 24ms/step\n",
      "\u001b[1m1/1\u001b[0m \u001b[32m━━━━━━━━━━━━━━━━━━━━\u001b[0m\u001b[37m\u001b[0m \u001b[1m0s\u001b[0m 24ms/step\n",
      "\u001b[1m1/1\u001b[0m \u001b[32m━━━━━━━━━━━━━━━━━━━━\u001b[0m\u001b[37m\u001b[0m \u001b[1m0s\u001b[0m 24ms/step\n",
      "\u001b[1m1/1\u001b[0m \u001b[32m━━━━━━━━━━━━━━━━━━━━\u001b[0m\u001b[37m\u001b[0m \u001b[1m0s\u001b[0m 24ms/step\n",
      "\u001b[1m1/1\u001b[0m \u001b[32m━━━━━━━━━━━━━━━━━━━━\u001b[0m\u001b[37m\u001b[0m \u001b[1m0s\u001b[0m 26ms/step\n",
      "\u001b[1m1/1\u001b[0m \u001b[32m━━━━━━━━━━━━━━━━━━━━\u001b[0m\u001b[37m\u001b[0m \u001b[1m0s\u001b[0m 22ms/step\n",
      "\u001b[1m1/1\u001b[0m \u001b[32m━━━━━━━━━━━━━━━━━━━━\u001b[0m\u001b[37m\u001b[0m \u001b[1m0s\u001b[0m 22ms/step\n",
      "\u001b[1m1/1\u001b[0m \u001b[32m━━━━━━━━━━━━━━━━━━━━\u001b[0m\u001b[37m\u001b[0m \u001b[1m0s\u001b[0m 21ms/step\n",
      "\u001b[1m1/1\u001b[0m \u001b[32m━━━━━━━━━━━━━━━━━━━━\u001b[0m\u001b[37m\u001b[0m \u001b[1m0s\u001b[0m 22ms/step\n",
      "\u001b[1m1/1\u001b[0m \u001b[32m━━━━━━━━━━━━━━━━━━━━\u001b[0m\u001b[37m\u001b[0m \u001b[1m0s\u001b[0m 23ms/step\n",
      "\u001b[1m1/1\u001b[0m \u001b[32m━━━━━━━━━━━━━━━━━━━━\u001b[0m\u001b[37m\u001b[0m \u001b[1m0s\u001b[0m 22ms/step\n",
      "\u001b[1m1/1\u001b[0m \u001b[32m━━━━━━━━━━━━━━━━━━━━\u001b[0m\u001b[37m\u001b[0m \u001b[1m0s\u001b[0m 23ms/step\n",
      "\u001b[1m1/1\u001b[0m \u001b[32m━━━━━━━━━━━━━━━━━━━━\u001b[0m\u001b[37m\u001b[0m \u001b[1m0s\u001b[0m 25ms/step\n",
      "\u001b[1m1/1\u001b[0m \u001b[32m━━━━━━━━━━━━━━━━━━━━\u001b[0m\u001b[37m\u001b[0m \u001b[1m0s\u001b[0m 24ms/step\n",
      "\u001b[1m1/1\u001b[0m \u001b[32m━━━━━━━━━━━━━━━━━━━━\u001b[0m\u001b[37m\u001b[0m \u001b[1m0s\u001b[0m 24ms/step\n",
      "\u001b[1m1/1\u001b[0m \u001b[32m━━━━━━━━━━━━━━━━━━━━\u001b[0m\u001b[37m\u001b[0m \u001b[1m0s\u001b[0m 24ms/step\n",
      "\u001b[1m1/1\u001b[0m \u001b[32m━━━━━━━━━━━━━━━━━━━━\u001b[0m\u001b[37m\u001b[0m \u001b[1m0s\u001b[0m 23ms/step\n",
      "\u001b[1m1/1\u001b[0m \u001b[32m━━━━━━━━━━━━━━━━━━━━\u001b[0m\u001b[37m\u001b[0m \u001b[1m0s\u001b[0m 22ms/step\n"
     ]
    },
    {
     "data": {
      "image/png": "[encoded data removed]",
      "text/plain": [
       "<Figure size 1000x600 with 1 Axes>"
      ]
     },
     "metadata": {},
     "output_type": "display_data"
    }
   ],
   "source": [
    "# Number of future time steps to predict\n",
    "future_steps = 30  # Adjust as needed\n",
    "\n",
    "# Prepare the last window of data from the test set to predict future values\n",
    "last_window = X_test[-1].reshape(1, -1)  # Reshape to match model input shape\n",
    "\n",
    "# Predict future values iteratively\n",
    "future_predictions = []\n",
    "for _ in range(future_steps):\n",
    "    # Predict the next value\n",
    "    next_pred = model.predict(last_window)\n",
    "    \n",
    "    # Append the prediction to the list\n",
    "    future_predictions.append(next_pred[0])\n",
    "    \n",
    "    # Update the last window by removing the first element and adding the prediction\n",
    "    last_window = np.roll(last_window, -1)\n",
    "    last_window[-1] = next_pred\n",
    "\n",
    "# Inverse transform the predicted future values\n",
    "future_predictions = scaler_y.inverse_transform(np.array(future_predictions).reshape(-1, 1)).flatten()\n",
    "\n",
    "# Generate future dates for plotting\n",
    "last_date = pd.to_datetime(salesmonthly_new['datum'].iloc[-1])\n",
    "future_dates = [last_date + pd.DateOffset(months=i) for i in range(1, future_steps + 1)]\n",
    "\n",
    "# Plot actual vs. predicted values with future predictions\n",
    "plt.figure(figsize=(10, 6))\n",
    "plt.plot(salesmonthly_new['datum'][split_index:], y_test_inv, label='Actual')\n",
    "plt.plot(salesmonthly_new['datum'][split_index:], predictions_inv, label='Predicted')\n",
    "plt.plot(future_dates, future_predictions, label='Future Predictions', linestyle='--')\n",
    "plt.title('Actual vs. Predicted Quantity with Future Predictions')\n",
    "plt.xlabel('Date')\n",
    "plt.ylabel('Quantity')\n",
    "plt.xticks(rotation=45)  # Rotate x-axis labels for better readability\n",
    "plt.legend()\n",
    "plt.tight_layout()  # Adjust layout to prevent clipping of labels\n",
    "plt.show()"
   ]
  },
  {
   "cell_type": "code",
   "execution_count": 35,
   "id": "e9232b4b",
   "metadata": {
    "execution": {
     "iopub.execute_input": "2024-04-11T17:13:43.116108Z",
     "iopub.status.busy": "2024-04-11T17:13:43.114792Z",
     "iopub.status.idle": "2024-04-11T17:13:43.122646Z",
     "shell.execute_reply": "2024-04-11T17:13:43.121344Z"
    },
    "papermill": {
     "duration": 0.055654,
     "end_time": "2024-04-11T17:13:43.125123",
     "exception": false,
     "start_time": "2024-04-11T17:13:43.069469",
     "status": "completed"
    },
    "tags": []
   },
   "outputs": [
    {
     "name": "stdout",
     "output_type": "stream",
     "text": [
      "Index of lowest quantity: 36\n",
      "Lowest quantity: 0.0\n"
     ]
    }
   ],
   "source": [
    "# Assuming your DataFrame is named df and the column containing quantities is named 'quantity'\n",
    "highest_quantity_index = salesmonthly_new['Quantity'].idxmin()\n",
    "highest_quantity_value = salesmonthly_new.loc[highest_quantity_index, 'Quantity']\n",
    "\n",
    "print(\"Index of lowest quantity:\", highest_quantity_index)\n",
    "print(\"Lowest quantity:\", highest_quantity_value)"
   ]
  },
  {
   "cell_type": "code",
   "execution_count": 36,
   "id": "3ea02cee",
   "metadata": {
    "execution": {
     "iopub.execute_input": "2024-04-11T17:13:43.215155Z",
     "iopub.status.busy": "2024-04-11T17:13:43.214720Z",
     "iopub.status.idle": "2024-04-11T17:13:43.222167Z",
     "shell.execute_reply": "2024-04-11T17:13:43.220973Z"
    },
    "papermill": {
     "duration": 0.055534,
     "end_time": "2024-04-11T17:13:43.224725",
     "exception": false,
     "start_time": "2024-04-11T17:13:43.169191",
     "status": "completed"
    },
    "tags": []
   },
   "outputs": [
    {
     "name": "stdout",
     "output_type": "stream",
     "text": [
      "Index of highest quantity: 219\n",
      "Highest quantity: 1856.8149999999996\n"
     ]
    }
   ],
   "source": [
    "# Assuming your DataFrame is named df and the column containing quantities is named 'quantity'\n",
    "highest_quantity_index = salesmonthly_new['Quantity'].idxmax()\n",
    "highest_quantity_value = salesmonthly_new.loc[highest_quantity_index, 'Quantity']\n",
    "\n",
    "print(\"Index of highest quantity:\", highest_quantity_index)\n",
    "print(\"Highest quantity:\", highest_quantity_value)"
   ]
  }
 ],
 "metadata": {
  "kaggle": {
   "accelerator": "none",
   "dataSources": [
    {
     "datasetId": 466126,
     "sourceId": 875246,
     "sourceType": "datasetVersion"
    }
   ],
   "dockerImageVersionId": 30673,
   "isGpuEnabled": false,
   "isInternetEnabled": true,
   "language": "python",
   "sourceType": "notebook"
  },
  "kernelspec": {
   "display_name": "Python 3",
   "language": "python",
   "name": "python3"
  },
  "language_info": {
   "codemirror_mode": {
    "name": "ipython",
    "version": 3
   },
   "file_extension": ".py",
   "mimetype": "text/x-python",
   "name": "python",
   "nbconvert_exporter": "python",
   "pygments_lexer": "ipython3",
   "version": "3.10.13"
  },
  "papermill": {
   "default_parameters": {},
   "duration": 55.094825,
   "end_time": "2024-04-11T17:13:45.398988",
   "environment_variables": {},
   "exception": null,
   "input_path": "__notebook__.ipynb",
   "output_path": "__notebook__.ipynb",
   "parameters": {},
   "start_time": "2024-04-11T17:12:50.304163",
   "version": "2.5.0"
  }
 },
 "nbformat": 4,
 "nbformat_minor": 5
}
